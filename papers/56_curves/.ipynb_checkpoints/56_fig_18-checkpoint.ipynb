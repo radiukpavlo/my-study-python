{
 "cells": [
  {
   "cell_type": "code",
   "execution_count": 1,
   "id": "42271645-3f56-49ea-96b2-86a681e36260",
   "metadata": {},
   "outputs": [
    {
     "name": "stdout",
     "output_type": "stream",
     "text": [
      "All ROC curves have been saved as separate SVG files.\n"
     ]
    }
   ],
   "source": [
    "import matplotlib.pyplot as plt\n",
    "from sklearn.metrics import roc_curve, auc\n",
    "\n",
    "# Data for the ROC curves\n",
    "roc_data = [\n",
    "    {\"fpr\": [0.0, 0.0, 0.25, 1.0], \"tpr\": [0.0, 0.99, 1.0, 1.0], \"auc\": 0.99},\n",
    "    {\"fpr\": [0.0, 0.0, 1.0], \"tpr\": [0.0, 1.0, 1.0], \"auc\": 1.00},\n",
    "    {\"fpr\": [0.0, 0.0, 1.0], \"tpr\": [0.0, 1.0, 1.0], \"auc\": 1.00},\n",
    "    {\"fpr\": [0.0, 0.25, 1.0], \"tpr\": [0.0, 0.91, 1.0], \"auc\": 0.91}\n",
    "]\n",
    "\n",
    "# Titles for each ROC curve\n",
    "titles = [\n",
    "    \"(a) Step 1\",\n",
    "    \"(b) Step 2\",\n",
    "    \"(c) Step 3\",\n",
    "    \"(d) Step 4\"\n",
    "]\n",
    "\n",
    "# Generate and save each ROC curve\n",
    "for i, data in enumerate(roc_data):\n",
    "    fpr = data[\"fpr\"]\n",
    "    tpr = data[\"tpr\"]\n",
    "    auc_value = data[\"auc\"]\n",
    "\n",
    "    plt.figure(figsize=(6, 6))\n",
    "    plt.plot(fpr, tpr, label=f\"AUC = {auc_value:.2f}\", linewidth=2)\n",
    "    plt.plot([0, 1], [0, 1], linestyle=\"--\", color=\"gray\", linewidth=1)\n",
    "\n",
    "    # Customization for aesthetics\n",
    "    plt.title(titles[i], fontsize=16, fontweight=\"bold\")\n",
    "    plt.xlabel(\"False Positive Rate\", fontsize=14, fontweight=\"bold\")\n",
    "    plt.ylabel(\"True Positive Rate\", fontsize=14, fontweight=\"bold\")\n",
    "    plt.xticks(fontsize=12, fontweight=\"bold\")\n",
    "    plt.yticks(fontsize=12, fontweight=\"bold\")\n",
    "    plt.legend(loc=\"lower right\", fontsize=12, frameon=False)\n",
    "    plt.grid(alpha=0.3)\n",
    "\n",
    "    # Add clean black borders\n",
    "    plt.gca().spines[\"top\"].set_visible(False)\n",
    "    plt.gca().spines[\"right\"].set_visible(False)\n",
    "    plt.gca().spines[\"left\"].set_linewidth(1.5)\n",
    "    plt.gca().spines[\"bottom\"].set_linewidth(1.5)\n",
    "\n",
    "    # Save the figure\n",
    "    plt.tight_layout()\n",
    "    plt.savefig(f\"56_fig_18_{i + 1}.svg\", format=\"svg\")\n",
    "    plt.close()\n",
    "\n",
    "print(\"All ROC curves have been saved as separate SVG files.\")\n"
   ]
  },
  {
   "cell_type": "code",
   "execution_count": null,
   "id": "6f772d1a-0f70-42c6-ba5f-3d411d05f2d8",
   "metadata": {},
   "outputs": [],
   "source": []
  }
 ],
 "metadata": {
  "kernelspec": {
   "display_name": "Python 3 (ipykernel)",
   "language": "python",
   "name": "python3"
  },
  "language_info": {
   "codemirror_mode": {
    "name": "ipython",
    "version": 3
   },
   "file_extension": ".py",
   "mimetype": "text/x-python",
   "name": "python",
   "nbconvert_exporter": "python",
   "pygments_lexer": "ipython3",
   "version": "3.9.16"
  }
 },
 "nbformat": 4,
 "nbformat_minor": 5
}
