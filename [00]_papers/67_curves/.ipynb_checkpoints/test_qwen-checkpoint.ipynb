{
 "cells": [
  {
   "cell_type": "code",
   "execution_count": 2,
   "id": "870cbc06-8356-4f81-b764-b52bba4f06a2",
   "metadata": {},
   "outputs": [
    {
     "name": "stdout",
     "output_type": "stream",
     "text": [
      "Reading Markdown content from external file...\n",
      "Successfully read Markdown file: input_markdown.md\n",
      "Converting translated Markdown to DOCX format...\n",
      "Pandoc is already available in the system.\n",
      "Removed existing file: method_docx.docx\n",
      "✅ DOCX file successfully created: C:\\Courses\\my-study-python\\[00]_papers\\67_curves\\method_docx.docx\n",
      "Conversion process completed successfully!\n",
      "Output file location: C:\\Courses\\my-study-python\\[00]_papers\\67_curves\\method_docx.docx\n"
     ]
    }
   ],
   "source": [
    "from markdown_to_docx_converter import main\n",
    "main()"
   ]
  },
  {
   "cell_type": "code",
   "execution_count": null,
   "id": "8fdc114c-8691-46ad-b012-210c63fd04ac",
   "metadata": {},
   "outputs": [],
   "source": [
    "%run markdown_to_docx_converter.py"
   ]
  }
 ],
 "metadata": {
  "kernelspec": {
   "display_name": "Python 3 (ipykernel)",
   "language": "python",
   "name": "python3"
  },
  "language_info": {
   "codemirror_mode": {
    "name": "ipython",
    "version": 3
   },
   "file_extension": ".py",
   "mimetype": "text/x-python",
   "name": "python",
   "nbconvert_exporter": "python",
   "pygments_lexer": "ipython3",
   "version": "3.9.16"
  }
 },
 "nbformat": 4,
 "nbformat_minor": 5
}
