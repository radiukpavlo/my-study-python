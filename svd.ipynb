{
 "cells": [
  {
   "cell_type": "code",
   "execution_count": 66,
   "id": "b6edd48e-d5d1-4021-adaa-fb125e14908f",
   "metadata": {},
   "outputs": [],
   "source": [
    "from sklearn.decomposition import TruncatedSVD\n",
    "from scipy.sparse import csr_matrix\n",
    "import numpy as np\n",
    "np.random.seed(0)\n",
    "X_dense = np.random.rand(10, 10)\n",
    "#X_dense[:, 2 * np.arange(5)] = 0\n",
    "X = csr_matrix(X_dense)\n",
    "svd = TruncatedSVD(n_components=2, n_iter=7, random_state=42)"
   ]
  },
  {
   "cell_type": "code",
   "execution_count": 67,
   "id": "494e78cf-8c1f-4d9b-8ab5-8164385ce110",
   "metadata": {},
   "outputs": [
    {
     "data": {
      "text/plain": [
       "array([[0.5488135 , 0.71518937, 0.60276338, 0.54488318, 0.4236548 ,\n",
       "        0.64589411, 0.43758721, 0.891773  , 0.96366276, 0.38344152],\n",
       "       [0.79172504, 0.52889492, 0.56804456, 0.92559664, 0.07103606,\n",
       "        0.0871293 , 0.0202184 , 0.83261985, 0.77815675, 0.87001215],\n",
       "       [0.97861834, 0.79915856, 0.46147936, 0.78052918, 0.11827443,\n",
       "        0.63992102, 0.14335329, 0.94466892, 0.52184832, 0.41466194],\n",
       "       [0.26455561, 0.77423369, 0.45615033, 0.56843395, 0.0187898 ,\n",
       "        0.6176355 , 0.61209572, 0.616934  , 0.94374808, 0.6818203 ],\n",
       "       [0.3595079 , 0.43703195, 0.6976312 , 0.06022547, 0.66676672,\n",
       "        0.67063787, 0.21038256, 0.1289263 , 0.31542835, 0.36371077],\n",
       "       [0.57019677, 0.43860151, 0.98837384, 0.10204481, 0.20887676,\n",
       "        0.16130952, 0.65310833, 0.2532916 , 0.46631077, 0.24442559],\n",
       "       [0.15896958, 0.11037514, 0.65632959, 0.13818295, 0.19658236,\n",
       "        0.36872517, 0.82099323, 0.09710128, 0.83794491, 0.09609841],\n",
       "       [0.97645947, 0.4686512 , 0.97676109, 0.60484552, 0.73926358,\n",
       "        0.03918779, 0.28280696, 0.12019656, 0.2961402 , 0.11872772],\n",
       "       [0.31798318, 0.41426299, 0.0641475 , 0.69247212, 0.56660145,\n",
       "        0.26538949, 0.52324805, 0.09394051, 0.5759465 , 0.9292962 ],\n",
       "       [0.31856895, 0.66741038, 0.13179786, 0.7163272 , 0.28940609,\n",
       "        0.18319136, 0.58651293, 0.02010755, 0.82894003, 0.00469548]])"
      ]
     },
     "execution_count": 67,
     "metadata": {},
     "output_type": "execute_result"
    }
   ],
   "source": [
    "X_dense"
   ]
  },
  {
   "cell_type": "code",
   "execution_count": 68,
   "id": "79d2fcd7-d2e1-49f3-8edb-aad1237a9e16",
   "metadata": {},
   "outputs": [
    {
     "data": {
      "text/plain": [
       "TruncatedSVD(n_iter=7, random_state=42)"
      ]
     },
     "execution_count": 68,
     "metadata": {},
     "output_type": "execute_result"
    }
   ],
   "source": [
    "svd.fit(X)"
   ]
  },
  {
   "cell_type": "code",
   "execution_count": 69,
   "id": "4c41fa14-0ec4-486f-bb62-68ebbb5bbd4c",
   "metadata": {},
   "outputs": [
    {
     "name": "stdout",
     "output_type": "stream",
     "text": [
      "[[ 0.3522974   0.35647707  0.35190104  0.34715338  0.19594198  0.24103104\n",
      "   0.25578904  0.29501092  0.42311297  0.27656382]\n",
      " [ 0.02202367  0.09562813 -0.50618142  0.3367298  -0.35912649 -0.0304644\n",
      "  -0.43209345  0.45129599 -0.03023489  0.31555784]]\n"
     ]
    }
   ],
   "source": [
    "print(svd.components_)"
   ]
  },
  {
   "cell_type": "code",
   "execution_count": 70,
   "id": "97156554-897d-4e88-90aa-8005e2829128",
   "metadata": {},
   "outputs": [
    {
     "name": "stdout",
     "output_type": "stream",
     "text": [
      "[0.3522974  0.35647707 0.35190104 0.34715338 0.19594198 0.24103104\n",
      " 0.25578904 0.29501092 0.42311297 0.27656382]\n"
     ]
    }
   ],
   "source": [
    "print(svd.components_[0])"
   ]
  },
  {
   "cell_type": "code",
   "execution_count": 71,
   "id": "2444a38e-68bd-4964-96f1-468f02c2e9e6",
   "metadata": {},
   "outputs": [
    {
     "name": "stdout",
     "output_type": "stream",
     "text": [
      "[4.91491741 1.46414397]\n"
     ]
    }
   ],
   "source": [
    "print(svd.singular_values_)"
   ]
  },
  {
   "cell_type": "code",
   "execution_count": 72,
   "id": "497cd508-8477-4d88-962c-70389540f57d",
   "metadata": {},
   "outputs": [
    {
     "name": "stdout",
     "output_type": "stream",
     "text": [
      "[0.09518675 0.20909295]\n"
     ]
    }
   ],
   "source": [
    "print(svd.explained_variance_)"
   ]
  },
  {
   "cell_type": "code",
   "execution_count": 73,
   "id": "7e41bd47-f52d-4cdb-bab0-8f500813b9d9",
   "metadata": {},
   "outputs": [
    {
     "name": "stdout",
     "output_type": "stream",
     "text": [
      "[0.1286404  0.28257925]\n",
      "0.41121964412942014\n"
     ]
    }
   ],
   "source": [
    "print(svd.explained_variance_ratio_)\n",
    "print(svd.explained_variance_ratio_.sum())\n"
   ]
  },
  {
   "cell_type": "code",
   "execution_count": 74,
   "id": "b2fc4ee5-1433-4f37-a85e-6dcfa22505cc",
   "metadata": {},
   "outputs": [
    {
     "name": "stdout",
     "output_type": "stream",
     "text": [
      "10\n"
     ]
    }
   ],
   "source": [
    "num = svd.n_features_in_\n",
    "print(svd.n_features_in_)"
   ]
  },
  {
   "cell_type": "code",
   "execution_count": null,
   "id": "d75f21b9-781f-4fd5-939e-267cda0c1748",
   "metadata": {},
   "outputs": [],
   "source": []
  }
 ],
 "metadata": {
  "kernelspec": {
   "display_name": "Python 3 (ipykernel)",
   "language": "python",
   "name": "python3"
  },
  "language_info": {
   "codemirror_mode": {
    "name": "ipython",
    "version": 3
   },
   "file_extension": ".py",
   "mimetype": "text/x-python",
   "name": "python",
   "nbconvert_exporter": "python",
   "pygments_lexer": "ipython3",
   "version": "3.9.7"
  }
 },
 "nbformat": 4,
 "nbformat_minor": 5
}
