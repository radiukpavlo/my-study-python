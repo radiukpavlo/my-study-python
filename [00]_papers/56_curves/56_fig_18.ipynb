{
 "cells": [
  {
   "cell_type": "code",
   "execution_count": 8,
   "id": "42271645-3f56-49ea-96b2-86a681e36260",
   "metadata": {},
   "outputs": [
    {
     "name": "stdout",
     "output_type": "stream",
     "text": [
      "All ROC curves have been saved as separate PDF files.\n"
     ]
    }
   ],
   "source": [
    "import matplotlib.pyplot as plt\n",
    "from sklearn.metrics import roc_curve, auc\n",
    "\n",
    "# Data for the ROC curves\n",
    "roc_data = [\n",
    "    {\"fpr\": [0.0, 0.01, 0.2, 0.2, 1.00], \"tpr\": [0.0, 0.97, 0.97, 1.00, 1.00], \"auc\": 0.99},\n",
    "    {\"fpr\": [0.0, 0.0, 1.0], \"tpr\": [0.0, 1.0, 1.0], \"auc\": 1.00},\n",
    "    {\"fpr\": [0.0, 0.0, 1.0], \"tpr\": [0.0, 1.0, 1.0], \"auc\": 1.00},\n",
    "    {\"fpr\": [0.0, 0.0, 0.1, 0.1, 0.3, 0.3, 1.00], \"tpr\": [0.0, 0.3, 0.3, 0.9, 0.9, 1.0, 1.00], \"auc\": 0.91}\n",
    "]\n",
    "\n",
    "# Titles for each ROC curve\n",
    "titles = [\n",
    "    \"Step 1\",\n",
    "    \"Step 2\",\n",
    "    \"Step 3\",\n",
    "    \"Step 4\"\n",
    "]\n",
    "\n",
    "# Generate and save each ROC curve\n",
    "for i, data in enumerate(roc_data):\n",
    "    fpr = data[\"fpr\"]\n",
    "    tpr = data[\"tpr\"]\n",
    "    auc_value = data[\"auc\"]\n",
    "\n",
    "    plt.figure(figsize=(5, 5))\n",
    "    plt.step(fpr, tpr, where='post', label=f\"AUC = {auc_value:.2f}\", color='steelblue', alpha=0.7, linewidth=3)\n",
    "    plt.plot([0, 1], [0, 1], linestyle=\"--\", color=\"gray\", linewidth=2)\n",
    "\n",
    "    # Customization for aesthetics\n",
    "    plt.title(titles[i], fontsize=18, fontweight=\"bold\")\n",
    "    plt.xlabel(\"False Positive Rate\", fontsize=16, fontweight=\"bold\", labelpad=5) # Reduced labelpad\n",
    "    plt.ylabel(\"True Positive Rate\", fontsize=16, fontweight=\"bold\", labelpad=5)  # Reduced labelpad\n",
    "    plt.xticks(fontsize=16, color=\"black\")\n",
    "    plt.yticks(fontsize=16, color=\"black\")\n",
    "    plt.legend(loc=\"lower right\", fontsize=16, frameon=False)\n",
    "    plt.grid(alpha=0.3)\n",
    "    plt.xlim([0.0, 1.0]) # Set x axis limit\n",
    "    plt.ylim([0.0, 1.05]) # Set y axis limit, slightly extended to ensure curve visibility\n",
    "\n",
    "    # Add clean black borders\n",
    "    for spine in plt.gca().spines.values():\n",
    "        spine.set_visible(True)\n",
    "        spine.set_linewidth(1)\n",
    "        spine.set_color(\"black\")\n",
    "\n",
    "    # Minimize white borders and save the figure\n",
    "    plt.tight_layout(pad=0.5) # Reduced padding in tight_layout\n",
    "    plt.savefig(f\"56_fig_18_{i + 1}.pdf\", format=\"pdf\", bbox_inches='tight') # Added bbox_inches='tight'\n",
    "    plt.close()\n",
    "\n",
    "print(\"All ROC curves have been saved as separate PDF files.\")"
   ]
  },
  {
   "cell_type": "code",
   "execution_count": null,
   "id": "928e18d2",
   "metadata": {},
   "outputs": [],
   "source": []
  }
 ],
 "metadata": {
  "kernelspec": {
   "display_name": "Python 3 (ipykernel)",
   "language": "python",
   "name": "python3"
  },
  "language_info": {
   "codemirror_mode": {
    "name": "ipython",
    "version": 3
   },
   "file_extension": ".py",
   "mimetype": "text/x-python",
   "name": "python",
   "nbconvert_exporter": "python",
   "pygments_lexer": "ipython3",
   "version": "3.9.16"
  }
 },
 "nbformat": 4,
 "nbformat_minor": 5
}
