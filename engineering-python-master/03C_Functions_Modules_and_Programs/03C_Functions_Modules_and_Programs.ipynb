{
 "cells": [
  {
   "cell_type": "markdown",
   "metadata": {
    "collapsed": true
   },
   "source": [
    "# Functions, Modules, and Programs"
   ]
  },
  {
   "cell_type": "markdown",
   "metadata": {},
   "source": [
    "### Functions"
   ]
  },
  {
   "cell_type": "markdown",
   "metadata": {},
   "source": [
    "- The first line tells Python we are defining a new function called `hello`. It takes no parameters (nothing inside the parentheses). This line ends with a colon (:).\n",
    "- The next two lines are indented with four spaces to show that they are within the `hello` function."
   ]
  },
  {
   "cell_type": "code",
   "execution_count": 1,
   "metadata": {},
   "outputs": [],
   "source": [
    "def hello():\n",
    "    print(\"Hello\")\n",
    "    print(\"World\")"
   ]
  },
  {
   "cell_type": "markdown",
   "metadata": {},
   "source": [
    "- After the function is defined, we can run these lines of code by referring to the function name:"
   ]
  },
  {
   "cell_type": "code",
   "execution_count": 2,
   "metadata": {},
   "outputs": [
    {
     "name": "stdout",
     "output_type": "stream",
     "text": [
      "Hello\n",
      "World\n"
     ]
    }
   ],
   "source": [
    "hello()"
   ]
  },
  {
   "cell_type": "markdown",
   "metadata": {},
   "source": [
    "- Function definition can have changeable parts called parameters.\n",
    "- They are placed inside () in the first line and used in the body of the function."
   ]
  },
  {
   "cell_type": "code",
   "execution_count": 3,
   "metadata": {},
   "outputs": [],
   "source": [
    "def hello(firstname, lastname): # firstname and lastname are parameters\n",
    "    print(\"Hello,\")\n",
    "    print(firstname, lastname)"
   ]
  },
  {
   "cell_type": "code",
   "execution_count": 4,
   "metadata": {},
   "outputs": [
    {
     "name": "stdout",
     "output_type": "stream",
     "text": [
      "Hello,\n",
      "Jane Smith\n"
     ]
    }
   ],
   "source": [
    "hello('Jane', 'Smith')  # 'Jane' and 'Smith' are arguments"
   ]
  },
  {
   "cell_type": "code",
   "execution_count": 5,
   "metadata": {},
   "outputs": [
    {
     "name": "stdout",
     "output_type": "stream",
     "text": [
      "Hello,\n",
      "Tom Jones\n"
     ]
    }
   ],
   "source": [
    "hello('Tom', 'Jones')"
   ]
  },
  {
   "cell_type": "markdown",
   "metadata": {},
   "source": [
    "### Programs and Modules"
   ]
  },
  {
   "cell_type": "markdown",
   "metadata": {},
   "source": [
    "- Python programs are usually composed of functions, variables, and data. \n",
    "- We can save reusable functions in a module on the hard drive so that they can be used again later.\n",
    "- Basically, a module is a program consisting of Python code."
   ]
  },
  {
   "cell_type": "markdown",
   "metadata": {},
   "source": [
    "- Let's use `temp-converter.py` as an example.\n",
    "- We use .py to indicate it's a Python program.\n",
    "- Texts following # are called comments.\n",
    "- This program contains three functions: `c2f` converts the temperature from Celsius to Fahrenheit; `f2c` converts the temperature from Fahrenheit to Celsius; These two functions are revoked in a function called `main`.\n",
    "- This program is fairly short and could have been written without the `main` function. The use of `main` is customary, not mandatory.\n",
    "- The if-elif-else statement controls the flow of the program. The body of each branch is identified through further indentation.\n",
    "- This last line is not a part of any function definition. It is the starting point of the program."
   ]
  },
  {
   "cell_type": "code",
   "execution_count": 6,
   "metadata": {
    "scrolled": false
   },
   "outputs": [
    {
     "name": "stdout",
     "output_type": "stream",
     "text": [
      "If you want to convert from °C to °F, press 1.\n",
      "If you want to convert from °F to °C, press 2.\n",
      "Enter your choice: 1\n",
      "Enter the temperature in °C: 100\n",
      "The temperature is 212.0 °F.\n"
     ]
    }
   ],
   "source": [
    "%run temp_converter.py"
   ]
  },
  {
   "cell_type": "code",
   "execution_count": 7,
   "metadata": {
    "scrolled": false
   },
   "outputs": [
    {
     "name": "stdout",
     "output_type": "stream",
     "text": [
      "If you want to convert from °C to °F, press 1.\n",
      "If you want to convert from °F to °C, press 2.\n",
      "Enter your choice: 2\n",
      "Enter the temperature in °F: 212\n",
      "The temperature is 100.0 °C.\n"
     ]
    }
   ],
   "source": [
    "%run temp_converter.py"
   ]
  },
  {
   "cell_type": "markdown",
   "metadata": {},
   "source": [
    "### Course Materials on YouTube and GitHub"
   ]
  },
  {
   "cell_type": "markdown",
   "metadata": {},
   "source": [
    "- Course videos are hosted by YouTube ( http://youtube.com/yongtwang ).\n",
    "- Course documents (Jupyter Notebooks and Python source code) are hosted by GitHub ( http://github.com/yongtwang )."
   ]
  }
 ],
 "metadata": {
  "kernelspec": {
   "display_name": "Python 3",
   "language": "python",
   "name": "python3"
  },
  "language_info": {
   "codemirror_mode": {
    "name": "ipython",
    "version": 3
   },
   "file_extension": ".py",
   "mimetype": "text/x-python",
   "name": "python",
   "nbconvert_exporter": "python",
   "pygments_lexer": "ipython3",
   "version": "3.7.3"
  }
 },
 "nbformat": 4,
 "nbformat_minor": 2
}
