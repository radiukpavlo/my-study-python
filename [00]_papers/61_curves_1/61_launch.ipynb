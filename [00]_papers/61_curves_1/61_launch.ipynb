{
 "cells": [
  {
   "cell_type": "code",
   "execution_count": 1,
   "metadata": {},
   "outputs": [
    {
     "name": "stdout",
     "output_type": "stream",
     "text": [
      "Saving figures to: D:\\GitHub\\my-study-python\\[00]_papers\\61_curves_1\n",
      "Generating 61_fig_2_roc_curves.pdf...\n",
      "Generating 61_fig_3a_distrib.pdf...\n",
      "Generating 61_fig_3b_confidence.pdf...\n",
      "Generating 61_fig_3c_heat_map.pdf...\n",
      "Generating 61_fig_4_conf_matrix.pdf...\n",
      "Generating 61_fig_5_reliab_curves.pdf...\n",
      "Generating 61_fig_6_tsne.pdf...\n",
      "Generating 61_fig_7_3dworkflow.pdf...\n",
      "Generating 61_fig_s1_memb_func.pdf...\n",
      "Generating 61_fig_a1.pdf...\n",
      "Generating 61_fig_s1a_memb_func.pdf...\n",
      "Generating 61_fig_s1b_memb_func.pdf...\n",
      "Generating 61_fig_s1c_memb_func.pdf...\n",
      "Generating 61_fig_s1d_memb_func.pdf...\n",
      "Generating 61_fig_s1e_memb_func.pdf...\n",
      "Generating 61_fig_s1f_memb_func.pdf...\n",
      "Generating 61_fig_s1g_memb_func.pdf...\n",
      "Generating 61_fig_s1h_memb_func.pdf...\n",
      "Generating 61_fig_s1i_memb_func.pdf...\n",
      "\n",
      "All figures have been generated and saved successfully.\n"
     ]
    }
   ],
   "source": [
    "%run 61_scripts.py"
   ]
  },
  {
   "cell_type": "code",
   "execution_count": null,
   "metadata": {},
   "outputs": [],
   "source": []
  }
 ],
 "metadata": {
  "kernelspec": {
   "display_name": "courses",
   "language": "python",
   "name": "python3"
  },
  "language_info": {
   "codemirror_mode": {
    "name": "ipython",
    "version": 3
   },
   "file_extension": ".py",
   "mimetype": "text/x-python",
   "name": "python",
   "nbconvert_exporter": "python",
   "pygments_lexer": "ipython3",
   "version": "3.9.16"
  }
 },
 "nbformat": 4,
 "nbformat_minor": 2
}
