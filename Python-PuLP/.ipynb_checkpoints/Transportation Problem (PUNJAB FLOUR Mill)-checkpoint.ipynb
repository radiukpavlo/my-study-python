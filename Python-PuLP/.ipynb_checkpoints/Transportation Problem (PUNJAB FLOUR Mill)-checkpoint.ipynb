{
 "cells": [
  {
   "cell_type": "code",
   "execution_count": 1,
   "metadata": {},
   "outputs": [],
   "source": [
    "from pulp import *"
   ]
  },
  {
   "cell_type": "code",
   "execution_count": 15,
   "metadata": {},
   "outputs": [],
   "source": [
    "# Sources and Destinations: List\n",
    "Branch = ['A', 'B', 'C', 'D']\n",
    "Warehouse = [1,2,3,4]"
   ]
  },
  {
   "cell_type": "code",
   "execution_count": 16,
   "metadata": {},
   "outputs": [],
   "source": [
    "# Supply from each Branch\n",
    "supply = {'A' : 35, 'B' : 50, 'C' : 80, 'D' : 65}"
   ]
  },
  {
   "cell_type": "code",
   "execution_count": 17,
   "metadata": {},
   "outputs": [],
   "source": [
    "# Demand of each Wareshouse\n",
    "demand = {1 : 70, 2 : 30, 3 : 75, 4 : 55}"
   ]
  },
  {
   "cell_type": "code",
   "execution_count": 18,
   "metadata": {},
   "outputs": [],
   "source": [
    "# Cost for all Braches and Wareshouse\n",
    "cost = {'A': {1 : 10, 2 : 7, 3 : 6, 4 : 4},\n",
    "       'B': {1 : 8, 2 : 8, 3 : 5, 4 : 7},\n",
    "       'C': {1 : 4, 2 : 3, 3 : 6, 4 : 9},\n",
    "       'D': {1 : 7, 2 : 5, 3 : 4, 4 : 3},\n",
    "       }"
   ]
  },
  {
   "cell_type": "code",
   "execution_count": 19,
   "metadata": {},
   "outputs": [],
   "source": [
    "# Setting Problem \n",
    "prob = LpProblem(\"Transportation\", LpMinimize)"
   ]
  },
  {
   "cell_type": "code",
   "execution_count": 20,
   "metadata": {},
   "outputs": [],
   "source": [
    "routes =[(i,j) for i in Branch for j in Warehouse]"
   ]
  },
  {
   "cell_type": "code",
   "execution_count": 21,
   "metadata": {},
   "outputs": [],
   "source": [
    "# Defining Decision Variables\n",
    "amount_vars = LpVariable.dicts(\"Amountship\",(Branch,Warehouse),0)"
   ]
  },
  {
   "cell_type": "code",
   "execution_count": 22,
   "metadata": {},
   "outputs": [],
   "source": [
    "# Defining Objective Function\n",
    "prob += lpSum(amount_vars[i][j]*cost[i][j] for (i,j) in routes)"
   ]
  },
  {
   "cell_type": "code",
   "execution_count": 24,
   "metadata": {},
   "outputs": [],
   "source": [
    "# Constraints\n",
    "for j in Warehouse:\n",
    "    prob += lpSum(amount_vars[i][j] for i in Branch) == demand[j]\n",
    "\n",
    "for i in Branch:\n",
    "    prob += lpSum(amount_vars[i][j] for j in Warehouse) <= supply[i]"
   ]
  },
  {
   "cell_type": "code",
   "execution_count": 25,
   "metadata": {},
   "outputs": [
    {
     "data": {
      "text/plain": [
       "1"
      ]
     },
     "execution_count": 25,
     "metadata": {},
     "output_type": "execute_result"
    }
   ],
   "source": [
    "prob.solve()"
   ]
  },
  {
   "cell_type": "code",
   "execution_count": 26,
   "metadata": {},
   "outputs": [
    {
     "name": "stdout",
     "output_type": "stream",
     "text": [
      "Status: Optimal\n"
     ]
    }
   ],
   "source": [
    "print(\"Status:\", LpStatus[prob.status])"
   ]
  },
  {
   "cell_type": "code",
   "execution_count": 27,
   "metadata": {},
   "outputs": [
    {
     "name": "stdout",
     "output_type": "stream",
     "text": [
      "Amountship_A_4 = 35.0\n",
      "Amountship_B_3 = 50.0\n",
      "Amountship_C_1 = 70.0\n",
      "Amountship_C_2 = 10.0\n",
      "Amountship_D_2 = 20.0\n",
      "Amountship_D_3 = 25.0\n",
      "Amountship_D_4 = 20.0\n"
     ]
    }
   ],
   "source": [
    "for v in prob.variables():\n",
    "    if v.varValue > 0:\n",
    "        print(v.name, \"=\", v.varValue)"
   ]
  },
  {
   "cell_type": "code",
   "execution_count": 28,
   "metadata": {},
   "outputs": [
    {
     "name": "stdout",
     "output_type": "stream",
     "text": [
      "Total bushel-miles =  960.0\n"
     ]
    }
   ],
   "source": [
    "print(\"Total bushel-miles = \", value(prob.objective))"
   ]
  },
  {
   "cell_type": "code",
   "execution_count": null,
   "metadata": {},
   "outputs": [],
   "source": []
  }
 ],
 "metadata": {
  "kernelspec": {
   "display_name": "Python 3 (ipykernel)",
   "language": "python",
   "name": "python3"
  },
  "language_info": {
   "codemirror_mode": {
    "name": "ipython",
    "version": 3
   },
   "file_extension": ".py",
   "mimetype": "text/x-python",
   "name": "python",
   "nbconvert_exporter": "python",
   "pygments_lexer": "ipython3",
   "version": "3.9.7"
  }
 },
 "nbformat": 4,
 "nbformat_minor": 4
}
