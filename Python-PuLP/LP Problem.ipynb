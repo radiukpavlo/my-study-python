{
 "cells": [
  {
   "cell_type": "markdown",
   "metadata": {},
   "source": [
    "## Example: The Reddy Mikks Company\n",
    "Reddy Mikks produces 3 paints (interior, exterior and theme) from two raw materials, M1 and M2. \n",
    "### Decision Variables:\n",
    "- $x_1$: Amount (Tons) of exterior paint produced daily \n",
    "- $x_2$: Amount (Tons) of interior paint produced daily\n",
    "- $x_3$: Amount (Tons) of theme paint produced daily\n",
    "\n",
    "#### Objective Function:\n",
    "Maximizes the total daily profit\n",
    "\n",
    "\\begin{align}\n",
    "max \\hspace{1cm} Z & = 1000x_1+2000x_2+3000x_3 \\\\\n",
    "s.t. \\hspace{0.5cm} x_1+2x_2+3x_3 & \\leq 10 \\\\\n",
    "\\hspace{0.5cm} x_2+2x_3 & \\leq 5 \\\\\n",
    "x_1 & \\geq 0 \\\\\n",
    "x_2 & \\geq 0 \\\\\n",
    "x_3 & \\geq 0 \\\\\n",
    "\\end{align}"
   ]
  },
  {
   "cell_type": "code",
   "execution_count": 1,
   "metadata": {},
   "outputs": [],
   "source": [
    "# Import PuLP modeler functions\n",
    "from pulp import *"
   ]
  },
  {
   "cell_type": "code",
   "execution_count": 93,
   "metadata": {},
   "outputs": [],
   "source": [
    "# Create a LP maximization problem\n",
    "prob = LpProblem(\"The Reddy Mikks Company\", LpMaximize)  "
   ]
  },
  {
   "cell_type": "code",
   "execution_count": 94,
   "metadata": {},
   "outputs": [],
   "source": [
    "# LpVariable(variable name, lower Bound=None, uppper Bound=None, catagory='Continuous')\n",
    "x1 = LpVariable(\"x1\",0,None,LpContinuous) # Create a variable x1 >= 0\n",
    "x2 = LpVariable(\"x2\",0,None,LpContinuous) # Create another variable x2 >= 0\n",
    "x3 = LpVariable(\"x3\",0,None,LpContinuous) # Create another variable x3 >= 0"
   ]
  },
  {
   "cell_type": "code",
   "execution_count": 95,
   "metadata": {},
   "outputs": [],
   "source": [
    "# Objective Function\n",
    "prob += 1000*x1 + 2000*x2 + 3000*x3  "
   ]
  },
  {
   "cell_type": "code",
   "execution_count": 96,
   "metadata": {},
   "outputs": [],
   "source": [
    "# Constraints\n",
    "prob += 1*x1 + 2*x2 + 3*x3 <= 10\n",
    "prob += 0*x1 + 1*x2 + 2*x3 <= 5 "
   ]
  },
  {
   "cell_type": "code",
   "execution_count": 97,
   "metadata": {},
   "outputs": [
    {
     "data": {
      "text/plain": [
       "The_Reddy_Mikks_Company:\n",
       "MAXIMIZE\n",
       "1000*x1 + 2000*x2 + 3000*x3 + 0\n",
       "SUBJECT TO\n",
       "_C1: x1 + 2 x2 + 3 x3 <= 10\n",
       "\n",
       "_C2: x2 + 2 x3 <= 5\n",
       "\n",
       "VARIABLES\n",
       "x1 Continuous\n",
       "x2 Continuous\n",
       "x3 Continuous"
      ]
     },
     "execution_count": 97,
     "metadata": {},
     "output_type": "execute_result"
    }
   ],
   "source": [
    "# Display the LP problem\n",
    "prob"
   ]
  },
  {
   "cell_type": "code",
   "execution_count": 98,
   "metadata": {},
   "outputs": [
    {
     "data": {
      "text/plain": [
       "1"
      ]
     },
     "execution_count": 98,
     "metadata": {},
     "output_type": "execute_result"
    }
   ],
   "source": [
    "# Solve with the default solver\n",
    "prob.solve()"
   ]
  },
  {
   "cell_type": "code",
   "execution_count": 99,
   "metadata": {},
   "outputs": [
    {
     "name": "stdout",
     "output_type": "stream",
     "text": [
      "Status: Optimal\n"
     ]
    }
   ],
   "source": [
    "# Print the solution status\n",
    "print(\"Status:\", LpStatus[prob.status])"
   ]
  },
  {
   "cell_type": "code",
   "execution_count": 21,
   "metadata": {},
   "outputs": [
    {
     "data": {
      "text/plain": [
       "(2.5, 0.0, 2.5, 10000.0)"
      ]
     },
     "execution_count": 21,
     "metadata": {},
     "output_type": "execute_result"
    }
   ],
   "source": [
    "# Show the solution (1st Approach)\n",
    "value(x1), value(x2), value(x3), value(prob.objective)  "
   ]
  },
  {
   "cell_type": "code",
   "execution_count": 22,
   "metadata": {},
   "outputs": [
    {
     "name": "stdout",
     "output_type": "stream",
     "text": [
      "x1 = 2.5 \tReduced Cost = -0.0\n",
      "x2 = 0.0 \tReduced Cost = -0.0\n",
      "x3 = 2.5 \tReduced Cost = -0.0\n"
     ]
    }
   ],
   "source": [
    "# Show the solution (2nd Approach)\n",
    "for v in prob.variables():\n",
    "    print (v.name, \"=\", v.varValue, \"\\tReduced Cost =\", v.dj)"
   ]
  },
  {
   "cell_type": "code",
   "execution_count": 23,
   "metadata": {},
   "outputs": [
    {
     "name": "stdout",
     "output_type": "stream",
     "text": [
      "objective= 10000.0\n"
     ]
    }
   ],
   "source": [
    "print (\"objective=\", value(prob.objective))"
   ]
  },
  {
   "cell_type": "code",
   "execution_count": 26,
   "metadata": {},
   "outputs": [
    {
     "name": "stdout",
     "output_type": "stream",
     "text": [
      "\n",
      "Sensitivity Analysis\n",
      "Constraint\t\t\tShadow Price\tSlack\n",
      "_C1 : x1 + 2*x2 + 3*x3 <= 10 \t 1000.0 \t -0.0\n",
      "_C2 : x2 + 2*x3 <= 5 \t -0.0 \t -0.0\n"
     ]
    }
   ],
   "source": [
    "print (\"\\nSensitivity Analysis\\nConstraint\\t\\t\\tShadow Price\\tSlack\")\n",
    "for name, c in prob.constraints.items():\n",
    "    print (name, \":\", c, \"\\t\", c.pi, \"\\t\", c.slack)"
   ]
  },
  {
   "cell_type": "markdown",
   "metadata": {},
   "source": [
    "### Use of Array and Dictionary\n",
    "- Note: Python does not have built-in support for Arrays, but Python Lists can be used instead.\n",
    "- An array is a collection of items stored at contiguous memory locations. The idea is to store multiple items of the same type together. \n",
    "- Dictionary in Python is an unordered collection of data values, used to store data values"
   ]
  },
  {
   "cell_type": "code",
   "execution_count": 4,
   "metadata": {},
   "outputs": [],
   "source": [
    "# Create a List of Paints\n",
    "Paints = ['Exterior Paint', 'Interior Paint', 'Theme Paint']"
   ]
  },
  {
   "cell_type": "code",
   "execution_count": 5,
   "metadata": {},
   "outputs": [],
   "source": [
    "# Disctionary of the profits of each of the paint \n",
    "Profit = {'Exterior Paint': 1000,\n",
    "         'Interior Paint': 2000,\n",
    "         'Theme Paint': 3000}\n",
    "\n",
    "# Disctionary of the Raw_Material (M1) in each of the paints \n",
    "Raw_Material_M1 = {'Exterior Paint': 1,\n",
    "         'Interior Paint': 2,\n",
    "         'Theme Paint': 3}\n",
    "# Disctionary of the Raw_Material (M1) in each of the paints \n",
    "Raw_Material_M2 = {'Exterior Paint': 0,\n",
    "         'Interior Paint': 1,\n",
    "         'Theme Paint': 2}"
   ]
  },
  {
   "cell_type": "code",
   "execution_count": 6,
   "metadata": {},
   "outputs": [],
   "source": [
    "# Create a LP maximization problem\n",
    "prob = LpProblem(\"The Reddy Mikks Company\", LpMaximize)  "
   ]
  },
  {
   "cell_type": "markdown",
   "metadata": {},
   "source": [
    "### Creates a dictionary of LP variables\n",
    "#### dicts(name, indexs, lowBound=None, upBound=None, cat=0, indexStart=[]) # Class Method\n",
    "- Parameters:\t\n",
    "    - name – The prefix to the name of each LP variable created\n",
    "    - indexs – A list of strings of the keys to the dictionary of LP variables, and the main part of the variable name itself\n",
    "    - lowbound – The lower bound on these variables’ range. Default is negative infinity\n",
    "    - upBound – The upper bound on these variables’ range. Default is positive infinity\n",
    "    - cat – The category these variables are in, Integer or Continuous(default)\n",
    "- Returns:\t\n",
    "    - A dictionary of LP Variables"
   ]
  },
  {
   "cell_type": "code",
   "execution_count": 7,
   "metadata": {},
   "outputs": [],
   "source": [
    "paint_vars = LpVariable.dicts(\"Paint\",Paints,0)"
   ]
  },
  {
   "cell_type": "code",
   "execution_count": 12,
   "metadata": {},
   "outputs": [],
   "source": [
    "# Add Objective Function to the 'prob'\n",
    "# lpSum(vector): Calculate the sum of a list of linear expressions\n",
    "prob += lpSum(Profit[i]*paint_vars [i] for i in Paints)"
   ]
  },
  {
   "cell_type": "code",
   "execution_count": 13,
   "metadata": {},
   "outputs": [],
   "source": [
    "# Adding The constraints \n",
    "prob += lpSum([Raw_Material_M1[i]*paint_vars[i] for i in Paints])<=10\n",
    "prob += lpSum([Raw_Material_M2[i]*paint_vars[i] for i in Paints])<=5"
   ]
  },
  {
   "cell_type": "code",
   "execution_count": 14,
   "metadata": {},
   "outputs": [
    {
     "data": {
      "text/plain": [
       "1"
      ]
     },
     "execution_count": 14,
     "metadata": {},
     "output_type": "execute_result"
    }
   ],
   "source": [
    "prob.solve()"
   ]
  },
  {
   "cell_type": "code",
   "execution_count": 23,
   "metadata": {},
   "outputs": [
    {
     "name": "stdout",
     "output_type": "stream",
     "text": [
      "\n",
      " Status: Optimal \n",
      "\n",
      "\t Paint_Exterior_Paint = 2.5 tons\n",
      "\t Paint_Interior_Paint = 0.0 tons\n",
      "\t Paint_Theme_Paint = 2.5 tons\n",
      "Maximum Dality Profit = Rs. 10000.0\n"
     ]
    }
   ],
   "source": [
    "# Print the solution status\n",
    "print(\"\\n\",\"Status:\", LpStatus[prob.status],\"\\n\")\n",
    "\n",
    "# Show the solution \n",
    "for v in prob.variables():\n",
    "    print (\"\\t\", v.name, \"=\", v.varValue, \"tons\")\n",
    "\n",
    "# Objective Function Value \n",
    "print (\"Maximum Dality Profit =\", \"Rs.\", value(prob.objective))"
   ]
  },
  {
   "cell_type": "markdown",
   "metadata": {},
   "source": [
    "# Examples:\n",
    "#### https://www.coin-or.org/PuLP/CaseStudies/a_transportation_problem.html\n",
    "#### https://www.coin-or.org/PuLP/CaseStudies/a_blending_problem.html"
   ]
  },
  {
   "cell_type": "code",
   "execution_count": null,
   "metadata": {},
   "outputs": [],
   "source": []
  }
 ],
 "metadata": {
  "kernelspec": {
   "display_name": "Python 3 (ipykernel)",
   "language": "python",
   "name": "python3"
  },
  "language_info": {
   "codemirror_mode": {
    "name": "ipython",
    "version": 3
   },
   "file_extension": ".py",
   "mimetype": "text/x-python",
   "name": "python",
   "nbconvert_exporter": "python",
   "pygments_lexer": "ipython3",
   "version": "3.9.7"
  }
 },
 "nbformat": 4,
 "nbformat_minor": 4
}
