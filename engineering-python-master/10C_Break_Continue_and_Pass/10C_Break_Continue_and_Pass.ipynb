{
 "cells": [
  {
   "cell_type": "markdown",
   "metadata": {
    "collapsed": true
   },
   "source": [
    "# Break, Continue, and Pass"
   ]
  },
  {
   "cell_type": "markdown",
   "metadata": {
    "collapsed": true
   },
   "source": [
    "### The Break Statement"
   ]
  },
  {
   "cell_type": "markdown",
   "metadata": {
    "collapsed": true
   },
   "source": [
    "- If a condition is met, the `break` statement exits the enclosing loop in the middle of an iteration.\n",
    "- The following program prompts the user to input a test score between 0 and 100."
   ]
  },
  {
   "cell_type": "code",
   "execution_count": 1,
   "metadata": {},
   "outputs": [
    {
     "name": "stdout",
     "output_type": "stream",
     "text": [
      "Enter a test score between 0 and 100: 120\n",
      "The score was not between 0 and 100. Do it again.\n",
      "Enter a test score between 0 and 100: -10\n",
      "The score was not between 0 and 100. Do it again.\n",
      "Enter a test score between 0 and 100: 85\n",
      "The score is 85.0\n"
     ]
    }
   ],
   "source": [
    "def main():\n",
    "    while True:\n",
    "        score = float(input(\"Enter a test score between 0 and 100: \"))\n",
    "        if 0 <= score <= 100:\n",
    "            break  # Exit the while loop\n",
    "        print(\"The score was not between 0 and 100. Do it again.\")\n",
    "    print(\"The score is\", score)\n",
    "    \n",
    "main()"
   ]
  },
  {
   "cell_type": "markdown",
   "metadata": {},
   "source": [
    "### The Continue Statement"
   ]
  },
  {
   "cell_type": "markdown",
   "metadata": {},
   "source": [
    "- If a condition is met, the `continue` statement skips over the rest of the loop in the middle of an iteration.\n",
    "- The following program prints the positive numbers in a list and skips over the negative ones and zeros."
   ]
  },
  {
   "cell_type": "code",
   "execution_count": 2,
   "metadata": {},
   "outputs": [
    {
     "name": "stdout",
     "output_type": "stream",
     "text": [
      "30\n",
      "64\n",
      "50\n",
      "90\n"
     ]
    }
   ],
   "source": [
    "def main():\n",
    "    temperature = [30, 64, -5, -10, 50, 0, 90]\n",
    "    for t in temperature:\n",
    "        if t <= 0:\n",
    "            continue  # Skip over the rest of the iteration\n",
    "        print(t)\n",
    "    \n",
    "main()"
   ]
  },
  {
   "cell_type": "markdown",
   "metadata": {},
   "source": [
    "### Break and Continue in Nested Loops"
   ]
  },
  {
   "cell_type": "markdown",
   "metadata": {},
   "source": [
    "- The break and continue statements will only affect the nearest enclosing loop when they are used in nested loops.\n",
    "<img src=\"images/break.png\" alt=\"Break in Nested Loops\" style=\"width: 340px; border:1px solid black\"/>\n",
    "<img src=\"images/continue.png\" alt=\"Continue in Nested Loops\" style=\"width: 500px; border:1px solid black\"/>"
   ]
  },
  {
   "cell_type": "markdown",
   "metadata": {},
   "source": [
    "### The Pass Statement"
   ]
  },
  {
   "cell_type": "markdown",
   "metadata": {},
   "source": [
    "- The `pass` statement does nothing when it executes. \n",
    "- It is usually used as a placeholder for the code that hasn't been written yet."
   ]
  },
  {
   "cell_type": "code",
   "execution_count": 3,
   "metadata": {
    "collapsed": true
   },
   "outputs": [],
   "source": [
    "def func1():\n",
    "    pass  # Remember to implement this function"
   ]
  },
  {
   "cell_type": "code",
   "execution_count": 4,
   "metadata": {
    "collapsed": true
   },
   "outputs": [],
   "source": [
    "class MyClass:\n",
    "    pass  # Remember to implement this class"
   ]
  },
  {
   "cell_type": "markdown",
   "metadata": {},
   "source": [
    "### Course Materials on YouTube and GitHub"
   ]
  },
  {
   "cell_type": "markdown",
   "metadata": {},
   "source": [
    "- Course videos are hosted by YouTube ( http://youtube.com/yongtwang ).\n",
    "- Course documents (Jupyter Notebooks and Python source code) are hosted by GitHub ( http://github.com/yongtwang )."
   ]
  }
 ],
 "metadata": {
  "kernelspec": {
   "display_name": "Python 3",
   "language": "python",
   "name": "python3"
  },
  "language_info": {
   "codemirror_mode": {
    "name": "ipython",
    "version": 3
   },
   "file_extension": ".py",
   "mimetype": "text/x-python",
   "name": "python",
   "nbconvert_exporter": "python",
   "pygments_lexer": "ipython3",
   "version": "3.7.3"
  }
 },
 "nbformat": 4,
 "nbformat_minor": 2
}
