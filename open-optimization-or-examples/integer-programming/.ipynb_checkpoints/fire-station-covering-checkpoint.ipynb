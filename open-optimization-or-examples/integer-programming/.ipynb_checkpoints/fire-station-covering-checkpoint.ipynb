{
 "cells": [
  {
   "cell_type": "markdown",
   "metadata": {
    "button": false,
    "deletable": true,
    "new_sheet": false,
    "run_control": {
     "read_only": false
    }
   },
   "source": [
    "# Fire Station Covering problem\n",
    "There are 16 districts, arranged in the image below.  We want to choose locations for fire stations such that any district either contains a fire station, or neighbors a district that constains a fire station.  The image depicts the set of districts and an example placement of locations of fire stations.\n",
    "\n",
    "\n",
    "<img src=\"fire-station-covering.png\" width=\"300\">\n",
    "\n",
    "The goal is then to minimize the number of fire stations needed to satisfy all the districts."
   ]
  },
  {
   "cell_type": "markdown",
   "metadata": {
    "button": false,
    "deletable": true,
    "new_sheet": false,
    "run_control": {
     "read_only": false
    }
   },
   "source": [
    "\n",
    "We model this problem as a set covering problem.   Chosing to place a fire station in a district means that that district, and all neighboring districts are \"covered\".   For instance, if we place a fire station in district 1, then the districts 1,2,4, and 5 are covered.   \n",
    "We will list out all the sets and then setup our optimization model."
   ]
  },
  {
   "cell_type": "code",
   "execution_count": 22,
   "metadata": {
    "button": false,
    "collapsed": false,
    "deletable": true,
    "new_sheet": false,
    "run_control": {
     "read_only": false
    }
   },
   "outputs": [
    {
     "name": "stdout",
     "output_type": "stream",
     "text": [
      "Gurobi Optimizer version 9.0.3 build v9.0.3rc0 (mac64)\n",
      "Optimize a model with 16 rows, 16 columns and 93 nonzeros\n",
      "Model fingerprint: 0x31eb3715\n",
      "Variable types: 0 continuous, 16 integer (16 binary)\n",
      "Coefficient statistics:\n",
      "  Matrix range     [1e+00, 1e+00]\n",
      "  Objective range  [1e+00, 1e+00]\n",
      "  Bounds range     [1e+00, 1e+00]\n",
      "  RHS range        [1e+00, 1e+00]\n",
      "Found heuristic solution: objective 4.0000000\n",
      "Presolve removed 10 rows and 10 columns\n",
      "Presolve time: 0.00s\n",
      "Presolved: 6 rows, 6 columns, 12 nonzeros\n",
      "Found heuristic solution: objective 3.0000000\n",
      "Variable types: 0 continuous, 6 integer (6 binary)\n",
      "\n",
      "Root relaxation: cutoff, 3 iterations, 0.00 seconds\n",
      "\n",
      "    Nodes    |    Current Node    |     Objective Bounds      |     Work\n",
      " Expl Unexpl |  Obj  Depth IntInf | Incumbent    BestBd   Gap | It/Node Time\n",
      "\n",
      "     0     0     cutoff    0         3.00000    3.00000  0.00%     -    0s\n",
      "\n",
      "Explored 0 nodes (3 simplex iterations) in 0.01 seconds\n",
      "Thread count was 12 (of 12 available processors)\n",
      "\n",
      "Solution count 2: 3 4 \n",
      "\n",
      "Optimal solution found (tolerance 1.00e-04)\n",
      "Best objective 3.000000000000e+00, best bound 3.000000000000e+00, gap 0.0000%\n",
      "Optimal solution\n",
      "x[2]: 1\n",
      "x[11]: 1\n",
      "x[13]: 1\n",
      "Obj: 3\n"
     ]
    }
   ],
   "source": [
    "# Import Gurobi\n",
    "import gurobipy as gp\n",
    "from gurobipy import GRB\n",
    "import numpy as np\n",
    "\n",
    "# Create a new model\n",
    "m = gp.Model(\"Fire Station Covering\")\n",
    "\n",
    "\n",
    "# Setup Data\n",
    "\n",
    "coveringDistricts = {1: [1, 2, 4, 5],\n",
    " 2: [1, 2, 3, 5, 6],\n",
    " 3: [2, 3, 6, 7],\n",
    " 4: [1, 4, 5, 8, 10, 11],\n",
    " 5: [1, 2, 4, 5, 6, 8],\n",
    " 6: [2, 3, 5, 6, 7, 8, 9],\n",
    " 7: [3, 6, 7, 9, 13],\n",
    " 8: [4, 5, 6, 7, 8, 9, 10, 11, 12],\n",
    " 9: [6, 8, 9, 11, 12, 13],\n",
    " 10: [4, 10, 11, 14],\n",
    " 11: [4, 8, 9, 10, 11, 12, 14, 15],\n",
    " 12: [8, 9, 11, 12, 13, 14, 15, 16],\n",
    " 13: [7, 9, 12, 13, 15, 16],\n",
    " 14: [10, 11, 12, 14, 15],\n",
    " 15: [11, 12, 13, 14, 15, 16],\n",
    " 16: [12, 13, 15, 16]}\n",
    "\n",
    "\n",
    "districts = covers.keys()\n",
    "\n",
    "\n",
    "# Create variables\n",
    "x = m.addVars(districts, vtype=GRB.BINARY, name=\"x\")\n",
    "\n",
    "# Set objective\n",
    "m.setObjective(sum(x[i] for i in districts), GRB.MINIMIZE)\n",
    "\n",
    "# Add capacity constraint:\n",
    "m.addConstrs((sum([x[j] for j in coveringDistricts[i]])>= 1 for i in districts), \"Covered District\")\n",
    "\n",
    "# Optimize model\n",
    "m.optimize()\n",
    "\n",
    "print(\"Optimal solution\")\n",
    "for v in m.getVars():\n",
    "    if v.x == 1:\n",
    "        print('%s: %g' % (v.varName, v.x))\n",
    "\n",
    "print('Obj: %g' % m.objVal)\n"
   ]
  },
  {
   "cell_type": "markdown",
   "metadata": {
    "button": false,
    "deletable": true,
    "new_sheet": false,
    "run_control": {
     "read_only": false
    }
   },
   "source": [
    "## Solution\n",
    "\n",
    "The optimal solution is place a fire station in districts 2,11, and 13."
   ]
  }
 ],
 "metadata": {
  "kernelspec": {
   "display_name": "Python 3",
   "language": "python",
   "name": "python3"
  },
  "language_info": {
   "codemirror_mode": {
    "name": "ipython",
    "version": 3
   },
   "file_extension": ".py",
   "mimetype": "text/x-python",
   "name": "python",
   "nbconvert_exporter": "python",
   "pygments_lexer": "ipython3",
   "version": "3.5.0"
  }
 },
 "nbformat": 4,
 "nbformat_minor": 2
}
