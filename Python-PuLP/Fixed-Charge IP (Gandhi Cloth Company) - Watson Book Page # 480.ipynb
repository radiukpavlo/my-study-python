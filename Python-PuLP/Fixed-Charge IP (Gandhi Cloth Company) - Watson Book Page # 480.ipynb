{
 "cells": [
  {
   "cell_type": "code",
   "execution_count": 89,
   "metadata": {},
   "outputs": [],
   "source": [
    "from pulp import *"
   ]
  },
  {
   "cell_type": "code",
   "execution_count": 90,
   "metadata": {},
   "outputs": [],
   "source": [
    "# List (Type of products)\n",
    "Producttypes = [1,2,3]"
   ]
  },
  {
   "cell_type": "code",
   "execution_count": 91,
   "metadata": {},
   "outputs": [],
   "source": [
    "# Paramters and Data\n",
    "labor = {1:3,2:2,3:6}\n",
    "cloth = {1:4,2:3,3:4}\n",
    "price = {1:12,2:8,3:15}\n",
    "Vcost = {1:6,2:4,3:8}\n",
    "machinery = {1:200,2:150,3:100}\n",
    "limits = {1:40,2:53,3:25}"
   ]
  },
  {
   "cell_type": "code",
   "execution_count": 92,
   "metadata": {},
   "outputs": [],
   "source": [
    "# Setting the Problem\n",
    "prob = LpProblem(\"Fixed-Charge Problem\", LpMaximize)"
   ]
  },
  {
   "cell_type": "code",
   "execution_count": 93,
   "metadata": {},
   "outputs": [],
   "source": [
    "# Desicion Variables\n",
    "x_var = LpVariable.dicts(\"Produce\", Producttypes, 0, None, LpInteger)\n",
    "y_var = LpVariable.dicts(\"Manufacture\", Producttypes, 0, 1, LpBinary)"
   ]
  },
  {
   "cell_type": "code",
   "execution_count": 94,
   "metadata": {},
   "outputs": [],
   "source": [
    "# Objective Function\n",
    "prob += lpSum(price[i]*x_var[i] for i in Producttypes) - lpSum(Vcost[i]*x_var[i] for i in Producttypes) - lpSum(machinery[i]*y_var[i] for i in Producttypes)"
   ]
  },
  {
   "cell_type": "code",
   "execution_count": 95,
   "metadata": {},
   "outputs": [],
   "source": [
    "# Constraints\n",
    "prob += lpSum(labor[i]*x_var[i] for i in Producttypes) <= 150 # Labor Constraints\n",
    "prob += lpSum(cloth[i]*x_var[i] for i in Producttypes) <= 160 # Cloth Constraints\n",
    "for i in Producttypes:\n",
    "    prob += x_var[i] <= limits[i]*y_var[i]"
   ]
  },
  {
   "cell_type": "code",
   "execution_count": 96,
   "metadata": {},
   "outputs": [
    {
     "name": "stdout",
     "output_type": "stream",
     "text": [
      "Solution Status =  Optimal\n"
     ]
    }
   ],
   "source": [
    "prob.solve()\n",
    "print(\"Solution Status = \", LpStatus[prob.status])"
   ]
  },
  {
   "cell_type": "code",
   "execution_count": 97,
   "metadata": {},
   "outputs": [
    {
     "name": "stdout",
     "output_type": "stream",
     "text": [
      "Manufacture_3 = 1.0\n",
      "Produce_3 = 25.0\n"
     ]
    }
   ],
   "source": [
    "# Print the solution of the Decision Variables\n",
    "for v in prob.variables():\n",
    "    if v.varValue>0:\n",
    "        print(v.name, \"=\", v.varValue)"
   ]
  },
  {
   "cell_type": "code",
   "execution_count": 98,
   "metadata": {},
   "outputs": [
    {
     "name": "stdout",
     "output_type": "stream",
     "text": [
      "Total Profit =  75.0\n"
     ]
    }
   ],
   "source": [
    "# Print Optimal\n",
    "print(\"Total Profit = \", value(prob.objective))"
   ]
  }
 ],
 "metadata": {
  "kernelspec": {
   "display_name": "Python 3 (ipykernel)",
   "language": "python",
   "name": "python3"
  },
  "language_info": {
   "codemirror_mode": {
    "name": "ipython",
    "version": 3
   },
   "file_extension": ".py",
   "mimetype": "text/x-python",
   "name": "python",
   "nbconvert_exporter": "python",
   "pygments_lexer": "ipython3",
   "version": "3.9.7"
  }
 },
 "nbformat": 4,
 "nbformat_minor": 4
}
