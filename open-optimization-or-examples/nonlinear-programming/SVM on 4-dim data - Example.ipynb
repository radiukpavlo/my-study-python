{
 "cells": [
  {
   "cell_type": "markdown",
   "metadata": {
    "colab_type": "text",
    "id": "lxrsQAlN7Y-0"
   },
   "source": [
    "# Support Vector Machines"
   ]
  },
  {
   "cell_type": "markdown",
   "metadata": {
    "colab_type": "text",
    "id": "sGqxgSjh7Y-1"
   },
   "source": [
    "Here we will give an example of applying SVM to 4-dimensional data.  \n",
    "We will first make up some data that is linearly separable, then use sklearn to find a separator (maybe not the same one, but one that still works).\n",
    "\n",
    "We begin with the standard imports:"
   ]
  },
  {
   "cell_type": "code",
   "execution_count": 1,
   "metadata": {
    "colab": {},
    "colab_type": "code",
    "id": "o-Quc04C7Y-2"
   },
   "outputs": [],
   "source": [
    "%matplotlib inline\n",
    "import numpy as np\n",
    "import matplotlib.pyplot as plt\n",
    "from scipy import stats\n",
    "\n",
    "# use seaborn plotting defaults\n",
    "import seaborn as sns; sns.set()"
   ]
  },
  {
   "cell_type": "markdown",
   "metadata": {
    "colab_type": "text",
    "id": "slgKjCrh7Y-4"
   },
   "source": [
    "## Making up data to play with"
   ]
  },
  {
   "cell_type": "code",
   "execution_count": 2,
   "metadata": {
    "colab": {},
    "colab_type": "code",
    "id": "bis-nUKY7Y-5",
    "outputId": "e82d8c4c-7e60-43ff-98bd-6ff6a1f701b8"
   },
   "outputs": [],
   "source": [
    "from sklearn.datasets.samples_generator import make_blobs\n",
    "X1, y1 = make_blobs(n_samples=20, centers=2,\n",
    "                  random_state=0, cluster_std=2)\n",
    "X2, y2 = make_blobs(n_samples=20, centers=2,\n",
    "                  random_state=0, cluster_std=2)"
   ]
  },
  {
   "cell_type": "code",
   "execution_count": 3,
   "metadata": {},
   "outputs": [
    {
     "data": {
      "text/plain": [
       "array([[ 2.70514248,  2.81945729,  2.70514248,  2.81945729],\n",
       "       [-0.04183841, -1.94237221, -0.04183841, -1.94237221],\n",
       "       [ 1.60240548,  2.59559585,  1.60240548,  2.59559585],\n",
       "       [ 2.87644691,  4.00107291,  2.87644691,  4.00107291],\n",
       "       [ 4.71138606,  2.34923157,  4.71138606,  2.34923157],\n",
       "       [ 1.86399654,  4.97113598,  1.86399654,  4.97113598],\n",
       "       [ 0.76983237,  5.12498433,  0.76983237,  5.12498433],\n",
       "       [ 2.36516237,  1.6539887 ,  2.36516237,  1.6539887 ],\n",
       "       [ 6.59477677, -2.01106769,  6.59477677, -2.01106769],\n",
       "       [-4.12970955,  5.61102452, -4.12970955,  5.61102452],\n",
       "       [ 2.14678456,  0.52329596,  2.14678456,  0.52329596],\n",
       "       [ 0.27969603, -3.06392928,  0.27969603, -3.06392928],\n",
       "       [ 5.12082595,  3.8363812 ,  5.12082595,  3.8363812 ],\n",
       "       [ 1.26435722,  7.21233434,  1.26435722,  7.21233434],\n",
       "       [ 1.28061389,  0.29305816,  1.28061389,  0.29305816],\n",
       "       [ 4.51584888,  3.30242336,  4.51584888,  3.30242336],\n",
       "       [ 1.35944322,  1.2103616 ,  1.35944322,  1.2103616 ],\n",
       "       [-1.35727286,  4.79921445, -1.35727286,  4.79921445],\n",
       "       [ 3.96442822,  3.8934708 ,  3.96442822,  3.8934708 ],\n",
       "       [ 2.49834553,  4.54713736,  2.49834553,  4.54713736]])"
      ]
     },
     "execution_count": 3,
     "metadata": {},
     "output_type": "execute_result"
    }
   ],
   "source": [
    "# 4 - dimensional data\n",
    "X = np.concatenate((X1, X2), axis=1)\n",
    "X"
   ]
  },
  {
   "cell_type": "code",
   "execution_count": 4,
   "metadata": {},
   "outputs": [],
   "source": [
    "## Cheating here!  Choosing labels according to a linear classification\n",
    "## This will just make the later SVM nice.\n",
    "w = [1, 2, 3, 4]\n",
    "b = -20\n",
    "\n",
    "def f(x,w,b):\n",
    "    return sum([w[i]*x[i] for i in range(len(w))]) + b\n"
   ]
  },
  {
   "cell_type": "code",
   "execution_count": 5,
   "metadata": {},
   "outputs": [
    {
     "data": {
      "text/plain": [
       "array([ 1, -1,  1,  1,  1,  1,  1, -1, -1, -1, -1, -1,  1,  1, -1,  1, -1,\n",
       "        1,  1,  1])"
      ]
     },
     "execution_count": 5,
     "metadata": {},
     "output_type": "execute_result"
    }
   ],
   "source": [
    "y = np.array([ 2*(f(X[i],w,b)>0  )-1 for i in range(len(y1)) ])\n",
    "y"
   ]
  },
  {
   "cell_type": "markdown",
   "metadata": {
    "colab_type": "text",
    "id": "eoF8GtMv7Y_F"
   },
   "source": [
    "# SVM using sklearn\n",
    "\n",
    "### Fitting a support vector machine\n",
    "\n",
    "Plug the data in a find a fit"
   ]
  },
  {
   "cell_type": "code",
   "execution_count": 6,
   "metadata": {
    "colab": {},
    "colab_type": "code",
    "id": "l1zbphx57Y_G",
    "outputId": "cd4cf371-c3a1-41b4-e278-1ece4f6ee362"
   },
   "outputs": [
    {
     "data": {
      "text/plain": [
       "SVC(C=100, cache_size=200, class_weight=None, coef0=0.0,\n",
       "  decision_function_shape='ovr', degree=3, gamma='auto_deprecated',\n",
       "  kernel='linear', max_iter=-1, probability=False, random_state=None,\n",
       "  shrinking=True, tol=0.001, verbose=False)"
      ]
     },
     "execution_count": 6,
     "metadata": {},
     "output_type": "execute_result"
    }
   ],
   "source": [
    "from sklearn.svm import SVC # \"Support vector classifier\"\n",
    "model = SVC(kernel='linear', C=100)\n",
    "model.fit(X, y)"
   ]
  },
  {
   "cell_type": "markdown",
   "metadata": {},
   "source": [
    "### Extract coefficients from model"
   ]
  },
  {
   "cell_type": "code",
   "execution_count": 7,
   "metadata": {},
   "outputs": [
    {
     "data": {
      "text/plain": [
       "-13.974430698363326"
      ]
     },
     "execution_count": 7,
     "metadata": {},
     "output_type": "execute_result"
    }
   ],
   "source": [
    "b_learn = model.intercept_[0]\n",
    "b_learn"
   ]
  },
  {
   "cell_type": "code",
   "execution_count": 8,
   "metadata": {},
   "outputs": [
    {
     "data": {
      "text/plain": [
       "array([1.27712201, 2.09608988, 1.27712201, 2.09608988])"
      ]
     },
     "execution_count": 8,
     "metadata": {},
     "output_type": "execute_result"
    }
   ],
   "source": [
    "w_learn = (model.coef_)[0]\n",
    "w_learn"
   ]
  },
  {
   "cell_type": "code",
   "execution_count": 9,
   "metadata": {},
   "outputs": [
    {
     "name": "stdout",
     "output_type": "stream",
     "text": [
      "y[0] =  1\n",
      "learned function of X[0] =  4.754835066369134\n"
     ]
    }
   ],
   "source": [
    "## Example check:\n",
    "print(\"y[0] = \", y[0])\n",
    "print(\"learned function of X[0] = \", f(X[0], w_learn, b_learn) )"
   ]
  },
  {
   "cell_type": "markdown",
   "metadata": {},
   "source": [
    "#### Since the predicted value was positive, it predicted correctly"
   ]
  },
  {
   "cell_type": "markdown",
   "metadata": {},
   "source": [
    "### Check on data for correctness on all data\n"
   ]
  },
  {
   "cell_type": "code",
   "execution_count": 10,
   "metadata": {},
   "outputs": [
    {
     "name": "stdout",
     "output_type": "stream",
     "text": [
      "T/F     y[i]    f(X[i]))\n",
      "True     1      4.754835066369134\n",
      "True     -1      -22.224069697911467\n",
      "True     1      0.9997083092712256\n",
      "True     1      10.145933510603333\n",
      "True     1      7.907999984120389\n",
      "True     1      11.626566993462314\n",
      "True     1      9.47676465016272\n",
      "True     -1      -0.9994109077394828\n",
      "True     -1      -5.560518883884486\n",
      "True     -1      -1.000293155030862\n",
      "True     -1      -6.297268361745775\n",
      "True     -1      -26.10456111391583\n",
      "True     1      15.188207971552524\n",
      "True     1      19.490448253583388\n",
      "True     -1      -9.474877860480586\n",
      "True     1      11.40450165684714\n",
      "True     -1      -5.42802758304137\n",
      "True     1      2.677932933481978\n",
      "True     1      12.473815870324332\n",
      "True     1      11.469370648051163\n",
      "Number true: 20\n",
      "Number false: 0\n"
     ]
    }
   ],
   "source": [
    "print(\"T/F     y[i]    f(X[i]))\")\n",
    "I = range(len(y))\n",
    "for i in I:\n",
    "    sign = f(X[i],w_learn,b_learn)*y[i] > 0\n",
    "    print(sign,\"   \", y[i],\"    \", f(X[i],w_learn,b_learn))\n",
    "print(\"Number true:\", sum([f(X[i],w_learn,b_learn)*y[i] > 0 for i in I]))\n",
    "print(\"Number false:\", sum([f(X[i],w_learn,b_learn)*y[i] < 0 for i in I]))"
   ]
  },
  {
   "cell_type": "markdown",
   "metadata": {},
   "source": [
    "Alternatively, you could use sklearn to return the predictions"
   ]
  },
  {
   "cell_type": "code",
   "execution_count": 16,
   "metadata": {},
   "outputs": [
    {
     "data": {
      "text/plain": [
       "array([ 1, -1,  1,  1,  1,  1,  1, -1, -1, -1, -1, -1,  1,  1, -1,  1, -1,\n",
       "        1,  1,  1])"
      ]
     },
     "execution_count": 16,
     "metadata": {},
     "output_type": "execute_result"
    }
   ],
   "source": [
    "y_predict = model.predict(X)\n",
    "y_predict"
   ]
  },
  {
   "cell_type": "code",
   "execution_count": 18,
   "metadata": {},
   "outputs": [
    {
     "data": {
      "text/plain": [
       "array([ True,  True,  True,  True,  True,  True,  True,  True,  True,\n",
       "        True,  True,  True,  True,  True,  True,  True,  True,  True,\n",
       "        True,  True])"
      ]
     },
     "execution_count": 18,
     "metadata": {},
     "output_type": "execute_result"
    }
   ],
   "source": [
    "## Check if it matches original y\n",
    "y == y_predict"
   ]
  },
  {
   "cell_type": "markdown",
   "metadata": {
    "colab_type": "text",
    "id": "z1SJ1-So7Y_O"
   },
   "source": [
    "## Predict New Data Labels\n",
    "Given new data values, we now want to use our predictor to determine its label"
   ]
  },
  {
   "cell_type": "markdown",
   "metadata": {},
   "source": [
    "#### Predict by hand"
   ]
  },
  {
   "cell_type": "code",
   "execution_count": 11,
   "metadata": {},
   "outputs": [
    {
     "data": {
      "text/plain": [
       "10.457020406821696"
      ]
     },
     "execution_count": 11,
     "metadata": {},
     "output_type": "execute_result"
    }
   ],
   "source": [
    "## Suppose we want to pedict the label on x_new\n",
    "x_new = np.array([3,7,3,1])\n",
    "f(x_new,w_learn, b_learn)"
   ]
  },
  {
   "cell_type": "markdown",
   "metadata": {},
   "source": [
    "Since f(x_new,w_learn, b_learn) > 0 , classify it as a 1.  This can be done as "
   ]
  },
  {
   "cell_type": "code",
   "execution_count": 12,
   "metadata": {},
   "outputs": [
    {
     "data": {
      "text/plain": [
       "1"
      ]
     },
     "execution_count": 12,
     "metadata": {},
     "output_type": "execute_result"
    }
   ],
   "source": [
    "y_new = 2*(f(x_new,w_learn, b_learn) > 0)-1\n",
    "y_new"
   ]
  },
  {
   "cell_type": "markdown",
   "metadata": {},
   "source": [
    "#### Using sklearn"
   ]
  },
  {
   "cell_type": "code",
   "execution_count": 20,
   "metadata": {},
   "outputs": [
    {
     "data": {
      "text/plain": [
       "1"
      ]
     },
     "execution_count": 20,
     "metadata": {},
     "output_type": "execute_result"
    }
   ],
   "source": [
    "y_new = model.predict([x_new])\n",
    "y_new[0]"
   ]
  },
  {
   "cell_type": "markdown",
   "metadata": {},
   "source": [
    "### Predict large set of data\n"
   ]
  },
  {
   "cell_type": "code",
   "execution_count": 46,
   "metadata": {},
   "outputs": [
    {
     "data": {
      "text/plain": [
       "array([[2.46350072, 2.00623543, 2.16086734, 2.36909536],\n",
       "       [2.58375044, 1.9128083 , 1.98400395, 2.06437   ],\n",
       "       [2.52616443, 1.91509917, 2.23977682, 2.44520358],\n",
       "       [2.25935698, 2.46328596, 1.8597641 , 1.85793108],\n",
       "       [2.2263227 , 2.33065546, 2.31530074, 1.9423563 ],\n",
       "       [2.58491204, 2.41687113, 1.90612101, 2.01562784],\n",
       "       [2.26223867, 2.06679729, 1.9224054 , 2.44385233],\n",
       "       [2.11573174, 1.70244131, 1.94709056, 2.0442258 ],\n",
       "       [1.98604432, 2.29161726, 2.41170362, 2.59976687],\n",
       "       [2.53689256, 2.21333169, 1.8803709 , 1.75964277],\n",
       "       [2.02405636, 2.5269408 , 1.76362802, 2.37038545],\n",
       "       [1.82278597, 1.83035092, 2.02691278, 1.69268726],\n",
       "       [1.64842048, 1.65327344, 2.01809494, 1.84089292],\n",
       "       [1.636963  , 2.06136033, 1.67249043, 2.30562335],\n",
       "       [1.64742066, 1.73874116, 2.50029792, 2.59136078]])"
      ]
     },
     "execution_count": 46,
     "metadata": {},
     "output_type": "execute_result"
    }
   ],
   "source": [
    "X_new = np.random.rand(15,4)+1.6\n",
    "X_new"
   ]
  },
  {
   "cell_type": "code",
   "execution_count": 47,
   "metadata": {},
   "outputs": [
    {
     "data": {
      "text/plain": [
       "array([ 1,  1,  1,  1,  1,  1,  1, -1,  1, -1,  1, -1, -1, -1,  1])"
      ]
     },
     "execution_count": 47,
     "metadata": {},
     "output_type": "execute_result"
    }
   ],
   "source": [
    "y_new = model.predict(X_new)\n",
    "y_new"
   ]
  }
 ],
 "metadata": {
  "anaconda-cloud": {},
  "colab": {
   "name": "05.07-Support-Vector-Machines.ipynb",
   "provenance": []
  },
  "kernelspec": {
   "display_name": "Python 3",
   "language": "python",
   "name": "python3"
  },
  "language_info": {
   "codemirror_mode": {
    "name": "ipython",
    "version": 3
   },
   "file_extension": ".py",
   "mimetype": "text/x-python",
   "name": "python",
   "nbconvert_exporter": "python",
   "pygments_lexer": "ipython3",
   "version": "3.6.8"
  }
 },
 "nbformat": 4,
 "nbformat_minor": 1
}
