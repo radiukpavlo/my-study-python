{
 "cells": [
  {
   "cell_type": "code",
   "execution_count": 1,
   "id": "189b83f3-8186-4fc0-8a04-252754fe74bf",
   "metadata": {},
   "outputs": [
    {
     "name": "stderr",
     "output_type": "stream",
     "text": [
      "C:\\Users\\radiu\\anaconda3\\lib\\site-packages\\pandas\\core\\arrays\\masked.py:60: UserWarning: Pandas requires version '1.3.6' or newer of 'bottleneck' (version '1.3.5' currently installed).\n",
      "  from pandas.core import (\n",
      "C:\\Users\\radiu\\anaconda3\\lib\\site-packages\\torchvision\\io\\image.py:13: UserWarning: Failed to load image Python extension: [WinError 127] The specified procedure could not be found\n",
      "  warn(f\"Failed to load image Python extension: {e}\")\n"
     ]
    },
    {
     "name": "stdout",
     "output_type": "stream",
     "text": [
      "XML file saved to applsci-3508831-peer-review-v1.xml\n"
     ]
    }
   ],
   "source": [
    "#!/usr/bin/env python3\n",
    "import xml.etree.ElementTree as ET\n",
    "from docling.document_converter import DocumentConverter\n",
    "\n",
    "def build_xml(document):\n",
    "    # Create the XML root element.\n",
    "    root = ET.Element(\"document\")\n",
    "    \n",
    "    # Add document metadata (if available)\n",
    "    if hasattr(document, \"metadata\") and document.metadata:\n",
    "        metadata_el = ET.SubElement(root, \"metadata\")\n",
    "        for key, value in document.metadata.items():\n",
    "            meta_item = ET.SubElement(metadata_el, key)\n",
    "            meta_item.text = str(value)\n",
    "    \n",
    "    # Add main content (using the markdown export)\n",
    "    content_el = ET.SubElement(root, \"content\")\n",
    "    if hasattr(document, \"export_to_markdown\"):\n",
    "        content_el.text = document.export_to_markdown()\n",
    "    else:\n",
    "        content_el.text = \"\"\n",
    "    \n",
    "    return root\n",
    "\n",
    "def main():\n",
    "    # Source PDF file (local path or URL)\n",
    "    source = \"applsci-3508831-peer-review-v1.pdf\"\n",
    "    converter = DocumentConverter()\n",
    "    \n",
    "    # Convert the document\n",
    "    result = converter.convert(source)\n",
    "    document = result.document\n",
    "\n",
    "    # Build XML tree from the conversion result\n",
    "    xml_root = build_xml(document)\n",
    "    tree = ET.ElementTree(xml_root)\n",
    "    \n",
    "    # Save XML to file with declaration and UTF-8 encoding\n",
    "    output_file = \"applsci-3508831-peer-review-v1.xml\"\n",
    "    tree.write(output_file, encoding=\"utf-8\", xml_declaration=True)\n",
    "    print(f\"XML file saved to {output_file}\")\n",
    "\n",
    "if __name__ == \"__main__\":\n",
    "    main()"
   ]
  },
  {
   "cell_type": "code",
   "execution_count": null,
   "id": "6c9ae19d-7f01-4b64-b39f-8f63f2ec6dff",
   "metadata": {},
   "outputs": [],
   "source": []
  }
 ],
 "metadata": {
  "kernelspec": {
   "display_name": "Python 3 (ipykernel)",
   "language": "python",
   "name": "python3"
  },
  "language_info": {
   "codemirror_mode": {
    "name": "ipython",
    "version": 3
   },
   "file_extension": ".py",
   "mimetype": "text/x-python",
   "name": "python",
   "nbconvert_exporter": "python",
   "pygments_lexer": "ipython3",
   "version": "3.9.16"
  }
 },
 "nbformat": 4,
 "nbformat_minor": 5
}
