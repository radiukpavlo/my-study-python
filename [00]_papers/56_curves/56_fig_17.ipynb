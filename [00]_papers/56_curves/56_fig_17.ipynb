{
 "cells": [
  {
   "cell_type": "code",
   "execution_count": 1,
   "id": "50109f44-6c93-40f0-84e7-a83901b2f01d",
   "metadata": {},
   "outputs": [
    {
     "name": "stdout",
     "output_type": "stream",
     "text": [
      "All confusion matrices have been saved as separate SVG files.\n"
     ]
    }
   ],
   "source": [
    "import numpy as np\n",
    "import matplotlib.pyplot as plt\n",
    "import seaborn as sns\n",
    "\n",
    "# Data for each confusion matrix\n",
    "labels = [\"A\", \"B\"]\n",
    "\n",
    "conf_matrices = [\n",
    "    np.array([[29, 1],\n",
    "              [1, 19]]),\n",
    "    np.array([[10, 0],\n",
    "              [0, 10]]),\n",
    "    np.array([[10, 0],\n",
    "              [0, 10]]),\n",
    "    np.array([[9, 1],\n",
    "              [1, 9]])\n",
    "]\n",
    "\n",
    "# Titles for each confusion matrix\n",
    "titles = [\n",
    "    \"Step 1\",\n",
    "    \"Step 2\",\n",
    "    \"Step 3\",\n",
    "    \"Step 4\"\n",
    "]\n",
    "\n",
    "# Save each confusion matrix as an SVG file\n",
    "for i, conf_matrix in enumerate(conf_matrices):\n",
    "    plt.figure(figsize=(5, 5))\n",
    "    ax = sns.heatmap(conf_matrix, annot=True, fmt=\"d\", cmap=\"Blues\", cbar=False,\n",
    "                     xticklabels=labels, yticklabels=labels, annot_kws={\"size\": 18, \"weight\": \"bold\"},\n",
    "                     linewidths=0.5, linecolor=\"black\")\n",
    "\n",
    "    # Add a clean black border around the entire matrix\n",
    "    for _, spine in ax.spines.items():\n",
    "        spine.set_visible(True)\n",
    "        spine.set_linewidth(0.5)\n",
    "        spine.set_color(\"black\")\n",
    "\n",
    "    # Customization for aesthetics\n",
    "    ax.set_title(titles[i], fontsize=18, fontweight=\"bold\", pad=20)\n",
    "    ax.set_xlabel(\"Predicted Label\", fontsize=16, fontweight=\"bold\", labelpad=15)\n",
    "    ax.set_ylabel(\"True Label\", fontsize=16, fontweight=\"bold\", labelpad=15)\n",
    "    ax.tick_params(axis='x', labelsize=16, labelrotation=0, labelcolor=\"black\")\n",
    "    ax.tick_params(axis='y', labelsize=16, labelcolor=\"black\")\n",
    "\n",
    "    # Add gridlines for separation within the matrix\n",
    "    ax.hlines(np.arange(1, len(labels)), *ax.get_xlim(), colors=\"black\", linewidth=1)\n",
    "    ax.vlines(np.arange(1, len(labels)), *ax.get_ylim(), colors=\"black\", linewidth=1)\n",
    "\n",
    "    # Adjust layout and save the figure\n",
    "    plt.tight_layout()\n",
    "    # plt.savefig(f\"56_fig_17_{i + 1}.svg\", format=\"svg\")\n",
    "    plt.savefig(f\"56_fig_17_{i + 1}.pdf\", format=\"pdf\")\n",
    "    plt.close()\n",
    "\n",
    "print(\"All confusion matrices have been saved as separate SVG files.\")\n"
   ]
  },
  {
   "cell_type": "code",
   "execution_count": null,
   "id": "9e9e4d02-5d63-4e6a-a1a1-dd4b7c65fd95",
   "metadata": {},
   "outputs": [],
   "source": []
  }
 ],
 "metadata": {
  "kernelspec": {
   "display_name": "Python 3 (ipykernel)",
   "language": "python",
   "name": "python3"
  },
  "language_info": {
   "codemirror_mode": {
    "name": "ipython",
    "version": 3
   },
   "file_extension": ".py",
   "mimetype": "text/x-python",
   "name": "python",
   "nbconvert_exporter": "python",
   "pygments_lexer": "ipython3",
   "version": "3.9.16"
  }
 },
 "nbformat": 4,
 "nbformat_minor": 5
}
