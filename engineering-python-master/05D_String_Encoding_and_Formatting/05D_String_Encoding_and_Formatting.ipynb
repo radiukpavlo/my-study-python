{
 "cells": [
  {
   "cell_type": "markdown",
   "metadata": {
    "collapsed": true
   },
   "source": [
    "# String Encoding and Formatting"
   ]
  },
  {
   "cell_type": "markdown",
   "metadata": {},
   "source": [
    "### String Encoding"
   ]
  },
  {
   "cell_type": "markdown",
   "metadata": {},
   "source": [
    "- There are two widely used text encoding systems: ASCII and Unicode.\n",
    "- ASCII is originally developed based on the English alphabet and encodes only 128 characters.\n",
    "\n",
    "|\tDecimal\t|\tHex\t|\tSymbol\t|\tDecimal\t|\tHex\t|\tSymbol\t|\n",
    "|\t:----\t|\t:----\t|\t:----\t|\t:----\t|\t:----\t|\t:----\t|\n",
    "|\t0\t|\t0\t|\tNUL (null)\t|\t64\t|\t40\t|\t@\t|\n",
    "|\t1\t|\t1\t|\tSOH (start of heading)\t|\t65\t|\t41\t|\tA\t|\n",
    "|\t2\t|\t2\t|\tSTX (start of text)\t|\t66\t|\t42\t|\tB\t|\n",
    "|\t3\t|\t3\t|\tETX (end of text)\t|\t67\t|\t43\t|\tC\t|\n",
    "|\t4\t|\t4\t|\tEOT (end of transmission)\t|\t68\t|\t44\t|\tD\t|\n",
    "|\t5\t|\t5\t|\tENQ (enquiry)\t|\t69\t|\t45\t|\tE\t|\n",
    "|\t6\t|\t6\t|\tACK (acknowledge)\t|\t70\t|\t46\t|\tF\t|\n",
    "|\t7\t|\t7\t|\tBEL (bell)\t|\t71\t|\t47\t|\tG\t|\n",
    "|\t8\t|\t8\t|\tBS (backspace)\t|\t72\t|\t48\t|\tH\t|\n",
    "|\t9\t|\t9\t|\tTAB (horizontal tab)\t|\t73\t|\t49\t|\tI\t|\n",
    "|\t10\t|\tA\t|\tLF (NL line feed, new line)\t|\t74\t|\t4A\t|\tJ\t|\n",
    "|\t11\t|\tB\t|\tVT (vertical tab)\t|\t75\t|\t4B\t|\tK\t|\n",
    "|\t12\t|\tC\t|\tFF (NP form feed, new page)\t|\t76\t|\t4C\t|\tL\t|\n",
    "|\t13\t|\tD\t|\tCR (carriage return)\t|\t77\t|\t4D\t|\tM\t|\n",
    "|\t14\t|\tE\t|\tSO (shift out)\t|\t78\t|\t4E\t|\tN\t|\n",
    "|\t15\t|\tF\t|\tSI (shift in)\t|\t79\t|\t4F\t|\tO\t|\n",
    "|\t16\t|\t10\t|\tDLE (data link escape)\t|\t80\t|\t50\t|\tP\t|\n",
    "|\t17\t|\t11\t|\tDC1 (device control 1)\t|\t81\t|\t51\t|\tQ\t|\n",
    "|\t18\t|\t12\t|\tDC2 (device control 2)\t|\t82\t|\t52\t|\tR\t|\n",
    "|\t19\t|\t13\t|\tDC3 (device control 3)\t|\t83\t|\t53\t|\tS\t|\n",
    "|\t20\t|\t14\t|\tDC4 (device control 4)\t|\t84\t|\t54\t|\tT\t|\n",
    "|\t21\t|\t15\t|\tNAK (negative acknowledge)\t|\t85\t|\t55\t|\tU\t|\n",
    "|\t22\t|\t16\t|\tSYN (synchronous idle)\t|\t86\t|\t56\t|\tV\t|\n",
    "|\t23\t|\t17\t|\tETB (end of trans. block)\t|\t87\t|\t57\t|\tW\t|\n",
    "|\t24\t|\t18\t|\tCAN (cancel)\t|\t88\t|\t58\t|\tX\t|\n",
    "|\t25\t|\t19\t|\tEM (end of medium)\t|\t89\t|\t59\t|\tY\t|\n",
    "|\t26\t|\t1A\t|\tSUB (substitute)\t|\t90\t|\t5A\t|\tZ\t|\n",
    "|\t27\t|\t1B\t|\tESC (escape)\t|\t91\t|\t5B\t|\t[\t|\n",
    "|\t28\t|\t1C\t|\tFS (file separator)\t|\t92\t|\t5C\t|\t\\\t|\n",
    "|\t29\t|\t1D\t|\tGS (group separator)\t|\t93\t|\t5D\t|\t]\t|\n",
    "|\t30\t|\t1E\t|\tRS (record separator)\t|\t94\t|\t5E\t|\t^\t|\n",
    "|\t31\t|\t1F\t|\tUS (unit separator)\t|\t95\t|\t5F\t|\t_\t|\n",
    "|\t32\t|\t20\t|\t (space)\t|\t96\t|\t60\t|\t`\t|\n",
    "|\t33\t|\t21\t|\t!\t|\t97\t|\t61\t|\ta\t|\n",
    "|\t34\t|\t22\t|\t\"\t|\t98\t|\t62\t|\tb\t|\n",
    "|\t35\t|\t23\t|\t#\t|\t99\t|\t63\t|\tc\t|\n",
    "|\t36\t|\t24\t|\t$\t|\t100\t|\t64\t|\td\t|\n",
    "|\t37\t|\t25\t|\t%\t|\t101\t|\t65\t|\te\t|\n",
    "|\t38\t|\t26\t|\t&\t|\t102\t|\t66\t|\tf\t|\n",
    "|\t39\t|\t27\t|\t'\t|\t103\t|\t67\t|\tg\t|\n",
    "|\t40\t|\t28\t|\t(\t|\t104\t|\t68\t|\th\t|\n",
    "|\t41\t|\t29\t|\t)\t|\t105\t|\t69\t|\ti\t|\n",
    "|\t42\t|\t2A\t|\t*\t|\t106\t|\t6A\t|\tj\t|\n",
    "|\t43\t|\t2B\t|\t+\t|\t107\t|\t6B\t|\tk\t|\n",
    "|\t44\t|\t2C\t|\t,\t|\t108\t|\t6C\t|\tl\t|\n",
    "|\t45\t|\t2D\t|\t-\t|\t109\t|\t6D\t|\tm\t|\n",
    "|\t46\t|\t2E\t|\t.\t|\t110\t|\t6E\t|\tn\t|\n",
    "|\t47\t|\t2F\t|\t/\t|\t111\t|\t6F\t|\to\t|\n",
    "|\t48\t|\t30\t|\t0\t|\t112\t|\t70\t|\tp\t|\n",
    "|\t49\t|\t31\t|\t1\t|\t113\t|\t71\t|\tq\t|\n",
    "|\t50\t|\t32\t|\t2\t|\t114\t|\t72\t|\tr\t|\n",
    "|\t51\t|\t33\t|\t3\t|\t115\t|\t73\t|\ts\t|\n",
    "|\t52\t|\t34\t|\t4\t|\t116\t|\t74\t|\tt\t|\n",
    "|\t53\t|\t35\t|\t5\t|\t117\t|\t75\t|\tu\t|\n",
    "|\t54\t|\t36\t|\t6\t|\t118\t|\t76\t|\tv\t|\n",
    "|\t55\t|\t37\t|\t7\t|\t119\t|\t77\t|\tw\t|\n",
    "|\t56\t|\t38\t|\t8\t|\t120\t|\t78\t|\tx\t|\n",
    "|\t57\t|\t39\t|\t9\t|\t121\t|\t79\t|\ty\t|\n",
    "|\t58\t|\t3A\t|\t:\t|\t122\t|\t7A\t|\tz\t|\n",
    "|\t59\t|\t3B\t|\t;\t|\t123\t|\t7B\t|\t{\t|\n",
    "|\t60\t|\t3C\t|\t<\t|\t124\t|\t7C\t|\t|\t|\n",
    "|\t61\t|\t3D\t|\t=\t|\t125\t|\t7D\t|\t}\t|\n",
    "|\t62\t|\t3E\t|\t>\t|\t126\t|\t7E\t|\t~\t|\n",
    "|\t63\t|\t3F\t|\t?\t|\t127\t|\t7F\t|\tDEL\t|\n",
    "\n",
    "- UNICODE contains more than 100,000 characters covering more than 100 languages."
   ]
  },
  {
   "cell_type": "code",
   "execution_count": 1,
   "metadata": {
    "scrolled": true
   },
   "outputs": [
    {
     "data": {
      "text/plain": [
       "66"
      ]
     },
     "execution_count": 1,
     "metadata": {},
     "output_type": "execute_result"
    }
   ],
   "source": [
    "ord('B')  # Convert a single character to the ordinal number"
   ]
  },
  {
   "cell_type": "code",
   "execution_count": 2,
   "metadata": {
    "scrolled": true
   },
   "outputs": [
    {
     "data": {
      "text/plain": [
       "98"
      ]
     },
     "execution_count": 2,
     "metadata": {},
     "output_type": "execute_result"
    }
   ],
   "source": [
    "ord('b')"
   ]
  },
  {
   "cell_type": "code",
   "execution_count": 3,
   "metadata": {},
   "outputs": [
    {
     "data": {
      "text/plain": [
       "(80, 121, 116, 104, 111, 110)"
      ]
     },
     "execution_count": 3,
     "metadata": {},
     "output_type": "execute_result"
    }
   ],
   "source": [
    "ord('P'), ord('y'), ord('t'), ord('h'), ord('o'), ord('n')"
   ]
  },
  {
   "cell_type": "code",
   "execution_count": 4,
   "metadata": {},
   "outputs": [
    {
     "data": {
      "text/plain": [
       "642"
      ]
     },
     "execution_count": 4,
     "metadata": {},
     "output_type": "execute_result"
    }
   ],
   "source": [
    "ord('P') + ord('y') + ord('t') + ord('h') + ord('o') + ord('n')"
   ]
  },
  {
   "cell_type": "code",
   "execution_count": 5,
   "metadata": {},
   "outputs": [
    {
     "data": {
      "text/plain": [
       "'C'"
      ]
     },
     "execution_count": 5,
     "metadata": {},
     "output_type": "execute_result"
    }
   ],
   "source": [
    "chr(67)  # Convert a number to the corresponding character"
   ]
  },
  {
   "cell_type": "code",
   "execution_count": 6,
   "metadata": {},
   "outputs": [
    {
     "data": {
      "text/plain": [
       "'c'"
      ]
     },
     "execution_count": 6,
     "metadata": {},
     "output_type": "execute_result"
    }
   ],
   "source": [
    "chr(99)"
   ]
  },
  {
   "cell_type": "code",
   "execution_count": 7,
   "metadata": {},
   "outputs": [
    {
     "data": {
      "text/plain": [
       "('P', 'y', 't', 'h', 'o', 'n')"
      ]
     },
     "execution_count": 7,
     "metadata": {},
     "output_type": "execute_result"
    }
   ],
   "source": [
    "chr(80), chr(121), chr(116), chr(104), chr(111), chr(110)"
   ]
  },
  {
   "cell_type": "code",
   "execution_count": 8,
   "metadata": {
    "scrolled": true
   },
   "outputs": [
    {
     "data": {
      "text/plain": [
       "'Python'"
      ]
     },
     "execution_count": 8,
     "metadata": {},
     "output_type": "execute_result"
    }
   ],
   "source": [
    "chr(80) + chr(121) + chr(116) + chr(104) + chr(111) + chr(110)"
   ]
  },
  {
   "cell_type": "code",
   "execution_count": 9,
   "metadata": {},
   "outputs": [
    {
     "data": {
      "text/plain": [
       "12"
      ]
     },
     "execution_count": 9,
     "metadata": {},
     "output_type": "execute_result"
    }
   ],
   "source": [
    "n = int('12')  # Convert a string to an integer number\n",
    "n"
   ]
  },
  {
   "cell_type": "code",
   "execution_count": 10,
   "metadata": {
    "scrolled": true
   },
   "outputs": [
    {
     "ename": "ValueError",
     "evalue": "invalid literal for int() with base 10: '12.0'",
     "output_type": "error",
     "traceback": [
      "\u001b[1;31m---------------------------------------------------------------------------\u001b[0m",
      "\u001b[1;31mValueError\u001b[0m                                Traceback (most recent call last)",
      "\u001b[1;32m<ipython-input-10-dff9579f89ea>\u001b[0m in \u001b[0;36m<module>\u001b[1;34m()\u001b[0m\n\u001b[1;32m----> 1\u001b[1;33m \u001b[0mn\u001b[0m \u001b[1;33m=\u001b[0m \u001b[0mint\u001b[0m\u001b[1;33m(\u001b[0m\u001b[1;34m'12.0'\u001b[0m\u001b[1;33m)\u001b[0m  \u001b[1;31m# This won't work\u001b[0m\u001b[1;33m\u001b[0m\u001b[0m\n\u001b[0m",
      "\u001b[1;31mValueError\u001b[0m: invalid literal for int() with base 10: '12.0'"
     ]
    }
   ],
   "source": [
    "n = int('12.0')  # This won't work"
   ]
  },
  {
   "cell_type": "code",
   "execution_count": 11,
   "metadata": {},
   "outputs": [
    {
     "data": {
      "text/plain": [
       "12.0"
      ]
     },
     "execution_count": 11,
     "metadata": {},
     "output_type": "execute_result"
    }
   ],
   "source": [
    "n = float('12.0')\n",
    "n"
   ]
  },
  {
   "cell_type": "code",
   "execution_count": 12,
   "metadata": {},
   "outputs": [
    {
     "data": {
      "text/plain": [
       "'12'"
      ]
     },
     "execution_count": 12,
     "metadata": {},
     "output_type": "execute_result"
    }
   ],
   "source": [
    "s = str(12)  # Convert a number to a string\n",
    "s"
   ]
  },
  {
   "cell_type": "code",
   "execution_count": 13,
   "metadata": {},
   "outputs": [
    {
     "data": {
      "text/plain": [
       "'12.0'"
      ]
     },
     "execution_count": 13,
     "metadata": {},
     "output_type": "execute_result"
    }
   ],
   "source": [
    "s = str(12.0)\n",
    "s"
   ]
  },
  {
   "cell_type": "markdown",
   "metadata": {},
   "source": [
    "- The following program converts a user-inputted message to the corresponding ASCII codes."
   ]
  },
  {
   "cell_type": "code",
   "execution_count": 14,
   "metadata": {
    "scrolled": true
   },
   "outputs": [
    {
     "name": "stdout",
     "output_type": "stream",
     "text": [
      "What is the message? Wake up, Neo...\n",
      "The encoded message: 87 97 107 101 32 117 112 44 32 78 101 111 46 46 46 "
     ]
    }
   ],
   "source": [
    "msg = input('What is the message? ')\n",
    "print('The encoded message:', end=' ')\n",
    "for c in msg:\n",
    "    print(ord(c), end=' ')"
   ]
  },
  {
   "cell_type": "markdown",
   "metadata": {},
   "source": [
    "<img src=\"images/wake_up_neo.jpg\" alt=\"The Matrix: Wake up Neo...\" style=\"width: 200px;\"/>"
   ]
  },
  {
   "cell_type": "markdown",
   "metadata": {},
   "source": [
    "- Now, let's decode the message."
   ]
  },
  {
   "cell_type": "code",
   "execution_count": 15,
   "metadata": {},
   "outputs": [
    {
     "name": "stdout",
     "output_type": "stream",
     "text": [
      "What is the encoded message? 87 97 107 101 32 117 112 44 32 78 101 111 46 46 46\n"
     ]
    },
    {
     "data": {
      "text/plain": [
       "['87',\n",
       " '97',\n",
       " '107',\n",
       " '101',\n",
       " '32',\n",
       " '117',\n",
       " '112',\n",
       " '44',\n",
       " '32',\n",
       " '78',\n",
       " '101',\n",
       " '111',\n",
       " '46',\n",
       " '46',\n",
       " '46']"
      ]
     },
     "execution_count": 15,
     "metadata": {},
     "output_type": "execute_result"
    }
   ],
   "source": [
    "encoded_msg = input('What is the encoded message? ')\n",
    "codes = encoded_msg.split()  # Split the input into a list of seperate number strings\n",
    "codes"
   ]
  },
  {
   "cell_type": "code",
   "execution_count": 16,
   "metadata": {},
   "outputs": [
    {
     "name": "stdout",
     "output_type": "stream",
     "text": [
      "The decoded message: Wake up, Neo...\n"
     ]
    }
   ],
   "source": [
    "decoded_msg = ''  # Set the initial msg empty\n",
    "for num_str in codes:\n",
    "    code = int(num_str)  # Convert each number string to an integer code\n",
    "    decoded_msg += chr(code)  # Convert each code to a character and add it to the end of the msg\n",
    "print(\"The decoded message:\", decoded_msg)"
   ]
  },
  {
   "cell_type": "markdown",
   "metadata": {},
   "source": [
    "### String Formatting (Pretty It Up)"
   ]
  },
  {
   "cell_type": "markdown",
   "metadata": {},
   "source": [
    "- These examples can be found by running `help('FORMATTING')` in a Jupyter Notebook cell.\n",
    "```python\n",
    "s = '...{[index][:][[fill]align][sign][#][0][width][grouping_option][.precision][type]}...'\n",
    "s.format(...)```"
   ]
  },
  {
   "cell_type": "code",
   "execution_count": 17,
   "metadata": {},
   "outputs": [
    {
     "data": {
      "text/plain": [
       "'a, b, c'"
      ]
     },
     "execution_count": 17,
     "metadata": {},
     "output_type": "execute_result"
    }
   ],
   "source": [
    "'{0}, {1}, {2}'.format('a', 'b', 'c')  # Accessing arguments by position"
   ]
  },
  {
   "cell_type": "code",
   "execution_count": 18,
   "metadata": {},
   "outputs": [
    {
     "data": {
      "text/plain": [
       "'10, -20.987649534590876, 30.4'"
      ]
     },
     "execution_count": 18,
     "metadata": {},
     "output_type": "execute_result"
    }
   ],
   "source": [
    "'{}, {}, {}'.format(10, -20.987649534590876, 30.4)"
   ]
  },
  {
   "cell_type": "code",
   "execution_count": 19,
   "metadata": {},
   "outputs": [
    {
     "data": {
      "text/plain": [
       "'c, b, a'"
      ]
     },
     "execution_count": 19,
     "metadata": {},
     "output_type": "execute_result"
    }
   ],
   "source": [
    "'{2}, {1}, {0}'.format('a', 'b', 'c')"
   ]
  },
  {
   "cell_type": "code",
   "execution_count": 20,
   "metadata": {},
   "outputs": [
    {
     "data": {
      "text/plain": [
       "'abracadabra'"
      ]
     },
     "execution_count": 20,
     "metadata": {},
     "output_type": "execute_result"
    }
   ],
   "source": [
    "'{0}{1}{0}'.format('abra', 'cad')  # Repeated indices"
   ]
  },
  {
   "cell_type": "code",
   "execution_count": 21,
   "metadata": {},
   "outputs": [
    {
     "data": {
      "text/plain": [
       "'Coordinates: 37.24N, -115.81W'"
      ]
     },
     "execution_count": 21,
     "metadata": {},
     "output_type": "execute_result"
    }
   ],
   "source": [
    "'Coordinates: {lat}, {lon}'.format(lat='37.24N', lon='-115.81W')  # Accessing arguments by name"
   ]
  },
  {
   "cell_type": "code",
   "execution_count": 22,
   "metadata": {},
   "outputs": [
    {
     "data": {
      "text/plain": [
       "'X: 3;  Y: 5'"
      ]
     },
     "execution_count": 22,
     "metadata": {},
     "output_type": "execute_result"
    }
   ],
   "source": [
    "coord = [3, 5]\n",
    "'X: {0[0]};  Y: {0[1]}'.format(coord)  # Accessing arguments' items"
   ]
  },
  {
   "cell_type": "code",
   "execution_count": 23,
   "metadata": {},
   "outputs": [
    {
     "data": {
      "text/plain": [
       "'+3.14; -3.14'"
      ]
     },
     "execution_count": 23,
     "metadata": {},
     "output_type": "execute_result"
    }
   ],
   "source": [
    "'{:+}; {:+}'.format(3.14, -3.14)  # Show both the plus and minus signs"
   ]
  },
  {
   "cell_type": "code",
   "execution_count": 24,
   "metadata": {},
   "outputs": [
    {
     "data": {
      "text/plain": [
       "'1,234,567,890'"
      ]
     },
     "execution_count": 24,
     "metadata": {},
     "output_type": "execute_result"
    }
   ],
   "source": [
    "'{:,}'.format(1234567890)  # Using the comma as a thousands separator"
   ]
  },
  {
   "cell_type": "code",
   "execution_count": 25,
   "metadata": {},
   "outputs": [
    {
     "data": {
      "text/plain": [
       "'ratio = 86.36%'"
      ]
     },
     "execution_count": 25,
     "metadata": {},
     "output_type": "execute_result"
    }
   ],
   "source": [
    "'ratio = {:.2%}'.format(19/22)  # Expressing a percentage"
   ]
  },
  {
   "cell_type": "code",
   "execution_count": 26,
   "metadata": {
    "scrolled": true
   },
   "outputs": [
    {
     "data": {
      "text/plain": [
       "'1234.57'"
      ]
     },
     "execution_count": 26,
     "metadata": {},
     "output_type": "execute_result"
    }
   ],
   "source": [
    "'{:.2f}'.format(1234.5678)  # Precision: two digits after the decimal point"
   ]
  },
  {
   "cell_type": "code",
   "execution_count": 27,
   "metadata": {},
   "outputs": [
    {
     "data": {
      "text/plain": [
       "'1.2e+03'"
      ]
     },
     "execution_count": 27,
     "metadata": {},
     "output_type": "execute_result"
    }
   ],
   "source": [
    "'{:.2}'.format(1234.5678)  # Precision: two digits in total"
   ]
  },
  {
   "cell_type": "code",
   "execution_count": 28,
   "metadata": {},
   "outputs": [
    {
     "data": {
      "text/plain": [
       "'1.234568e+03'"
      ]
     },
     "execution_count": 28,
     "metadata": {},
     "output_type": "execute_result"
    }
   ],
   "source": [
    "'{:e}'.format(1234.5678)  # Precision: scientific notation with 6 digits after the decimal point"
   ]
  },
  {
   "cell_type": "code",
   "execution_count": 29,
   "metadata": {
    "scrolled": true
   },
   "outputs": [
    {
     "data": {
      "text/plain": [
       "'1.2346E+03'"
      ]
     },
     "execution_count": 29,
     "metadata": {},
     "output_type": "execute_result"
    }
   ],
   "source": [
    "'{:.4E}'.format(1234.5678)  # Precision: scientific notation with 4 digits after the decimal point"
   ]
  },
  {
   "cell_type": "code",
   "execution_count": 30,
   "metadata": {},
   "outputs": [
    {
     "data": {
      "text/plain": [
       "'Alignment: left aligned                  '"
      ]
     },
     "execution_count": 30,
     "metadata": {},
     "output_type": "execute_result"
    }
   ],
   "source": [
    "'Alignment: {:<30}'.format('left aligned')  # Align the text with a specified width"
   ]
  },
  {
   "cell_type": "code",
   "execution_count": 31,
   "metadata": {},
   "outputs": [
    {
     "data": {
      "text/plain": [
       "'Alignment:                  right aligned'"
      ]
     },
     "execution_count": 31,
     "metadata": {},
     "output_type": "execute_result"
    }
   ],
   "source": [
    "'Alignment: {:>30}'.format('right aligned')"
   ]
  },
  {
   "cell_type": "code",
   "execution_count": 32,
   "metadata": {},
   "outputs": [
    {
     "data": {
      "text/plain": [
       "'Alignment:            centered           '"
      ]
     },
     "execution_count": 32,
     "metadata": {},
     "output_type": "execute_result"
    }
   ],
   "source": [
    "'Alignment: {:^30}'.format('centered')"
   ]
  },
  {
   "cell_type": "code",
   "execution_count": 33,
   "metadata": {},
   "outputs": [
    {
     "data": {
      "text/plain": [
       "'Alignment: ***********centered***********'"
      ]
     },
     "execution_count": 33,
     "metadata": {},
     "output_type": "execute_result"
    }
   ],
   "source": [
    "'Alignment: {:*^30}'.format('centered')  # Use '*' as a fill character"
   ]
  },
  {
   "cell_type": "code",
   "execution_count": 34,
   "metadata": {},
   "outputs": [
    {
     "data": {
      "text/plain": [
       "'dict: { apples:10, bananas:20 }'"
      ]
     },
     "execution_count": 34,
     "metadata": {},
     "output_type": "execute_result"
    }
   ],
   "source": [
    "\"dict: {{ apples:{}, bananas:{} }}\".format(10, 20)  # The brace character can be escaped by doubling"
   ]
  },
  {
   "cell_type": "markdown",
   "metadata": {},
   "source": [
    "- The following program count the total value of some coins.\n",
    "<img src=\"images/coins.jpg\" alt=\"Coins\" style=\"width: 200px;\"/>"
   ]
  },
  {
   "cell_type": "code",
   "execution_count": 35,
   "metadata": {},
   "outputs": [
    {
     "name": "stdout",
     "output_type": "stream",
     "text": [
      "Enter the number (integer) of each type of coins.\n",
      "Quarters: 12\n",
      "Dimes: 1\n",
      "Nickels: 0\n",
      "Pennies: 4\n",
      "Total: $3.14\n"
     ]
    }
   ],
   "source": [
    "print(\"Enter the number (integer) of each type of coins.\")\n",
    "q = int(input(\"Quarters: \"))\n",
    "d = int(input(\"Dimes: \"))\n",
    "n = int(input(\"Nickels: \"))\n",
    "p = int(input(\"Pennies: \"))\n",
    "total = q * 25 + d * 10 + n * 5 + p\n",
    "print(\"Total: ${:.2f}\".format(total/100))"
   ]
  },
  {
   "cell_type": "markdown",
   "metadata": {},
   "source": [
    "### Course Materials on YouTube and GitHub"
   ]
  },
  {
   "cell_type": "markdown",
   "metadata": {},
   "source": [
    "- Course videos are hosted by YouTube ( http://youtube.com/yongtwang ).\n",
    "- Course documents (Jupyter Notebooks and Python source code) are hosted by GitHub ( http://github.com/yongtwang )."
   ]
  }
 ],
 "metadata": {
  "kernelspec": {
   "display_name": "Python 3",
   "language": "python",
   "name": "python3"
  },
  "language_info": {
   "codemirror_mode": {
    "name": "ipython",
    "version": 3
   },
   "file_extension": ".py",
   "mimetype": "text/x-python",
   "name": "python",
   "nbconvert_exporter": "python",
   "pygments_lexer": "ipython3",
   "version": "3.7.3"
  }
 },
 "nbformat": 4,
 "nbformat_minor": 2
}
