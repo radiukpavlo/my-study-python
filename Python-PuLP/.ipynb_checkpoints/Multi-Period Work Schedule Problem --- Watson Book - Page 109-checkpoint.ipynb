{
 "cells": [
  {
   "cell_type": "code",
   "execution_count": 225,
   "metadata": {},
   "outputs": [],
   "source": [
    "from pulp import *"
   ]
  },
  {
   "cell_type": "code",
   "execution_count": 226,
   "metadata": {},
   "outputs": [],
   "source": [
    "# Lsit (TimePeriods)\n",
    "Month = ['January', 'February', 'March', 'April', 'May']"
   ]
  },
  {
   "cell_type": "code",
   "execution_count": 227,
   "metadata": {},
   "outputs": [],
   "source": [
    "# Parameters and Data\n",
    "Time_Require ={'January':6000, 'February':7000 ,'March':8000 ,'April':9500 ,'May':11000}"
   ]
  },
  {
   "cell_type": "code",
   "execution_count": 228,
   "metadata": {},
   "outputs": [],
   "source": [
    "# Setting the Problem\n",
    "prob = LpProblem(\"Multi-Period Work Schedule Problem\", LpMinimize)"
   ]
  },
  {
   "cell_type": "code",
   "execution_count": 229,
   "metadata": {},
   "outputs": [],
   "source": [
    "# Desicion Variables\n",
    "x_var = LpVariable.dicts(\"TrainedTechnicians\", Month, 0)\n",
    "y_var = LpVariable.dicts(\"ExperiencedTechnicians\", Month, 0)"
   ]
  },
  {
   "cell_type": "code",
   "execution_count": 230,
   "metadata": {},
   "outputs": [],
   "source": [
    "# Objective Function\n",
    "prob += lpSum(1000*x_var[i] for i in Month) + lpSum(2000*y_var[i] for i in Month)"
   ]
  },
  {
   "cell_type": "code",
   "execution_count": 231,
   "metadata": {},
   "outputs": [],
   "source": [
    "# Constraints\n",
    "for i in Month:\n",
    "    prob += (160*y_var[i] - 50*x_var[i]) >= Time_Require[i] # Technician Availablity Constraints\n",
    "\n",
    "prob += y_var['January'] == 50\n",
    "prob += (0.95*y_var['January'] + x_var['January']) == y_var['February'] \n",
    "prob += (0.95*y_var['February'] + x_var['February']) == y_var['March'] \n",
    "prob += (0.95*y_var['March'] + x_var['March']) == y_var['April'] \n",
    "prob += (0.95*y_var['April'] + x_var['April']) == y_var['May'] "
   ]
  },
  {
   "cell_type": "code",
   "execution_count": 232,
   "metadata": {},
   "outputs": [
    {
     "name": "stdout",
     "output_type": "stream",
     "text": [
      "Solution Status =  Optimal\n"
     ]
    }
   ],
   "source": [
    "prob.solve()\n",
    "print(\"Solution Status = \", LpStatus[prob.status])"
   ]
  },
  {
   "cell_type": "code",
   "execution_count": 233,
   "metadata": {},
   "outputs": [
    {
     "name": "stdout",
     "output_type": "stream",
     "text": [
      "ExperiencedTechnicians_April = 62.349398\n",
      "ExperiencedTechnicians_February = 47.5\n",
      "ExperiencedTechnicians_January = 50.0\n",
      "ExperiencedTechnicians_March = 53.578168\n",
      "ExperiencedTechnicians_May = 68.75\n",
      "TrainedTechnicians_April = 9.5180723\n",
      "TrainedTechnicians_February = 8.4531681\n",
      "TrainedTechnicians_March = 11.450138\n"
     ]
    }
   ],
   "source": [
    "# Print the solution of the Decision Variables\n",
    "for v in prob.variables():\n",
    "    if v.varValue>0:\n",
    "        print(v.name, \"=\", v.varValue)"
   ]
  },
  {
   "cell_type": "code",
   "execution_count": 234,
   "metadata": {},
   "outputs": [
    {
     "name": "stdout",
     "output_type": "stream",
     "text": [
      "Total Profit =  593776.5104\n"
     ]
    }
   ],
   "source": [
    "# Print Optimal\n",
    "print(\"Total Profit = \", value(prob.objective))"
   ]
  },
  {
   "cell_type": "code",
   "execution_count": null,
   "metadata": {},
   "outputs": [],
   "source": []
  }
 ],
 "metadata": {
  "kernelspec": {
   "display_name": "Python 3",
   "language": "python",
   "name": "python3"
  },
  "language_info": {
   "codemirror_mode": {
    "name": "ipython",
    "version": 3
   },
   "file_extension": ".py",
   "mimetype": "text/x-python",
   "name": "python",
   "nbconvert_exporter": "python",
   "pygments_lexer": "ipython3",
   "version": "3.7.4"
  }
 },
 "nbformat": 4,
 "nbformat_minor": 2
}
