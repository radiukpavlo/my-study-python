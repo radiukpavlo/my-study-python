{
 "cells": [
  {
   "cell_type": "code",
   "execution_count": 15,
   "id": "0639d943-8fcd-4567-b76f-048ee6fc27a8",
   "metadata": {},
   "outputs": [
    {
     "name": "stdout",
     "output_type": "stream",
     "text": [
      "Confusion matrix plot successfully saved as '67_fig_09a.pdf'\n",
      "Confusion matrix plot successfully saved as '67_fig_09b.pdf'\n",
      "Confusion matrix plot successfully saved as '67_fig_09c.pdf'\n",
      "Confusion matrix plot successfully saved as '67_fig_09d.pdf'\n",
      "Confusion matrix plot successfully saved as '67_fig_09e.pdf'\n",
      "Confusion matrix plot successfully saved as '67_fig_09f.pdf'\n"
     ]
    }
   ],
   "source": [
    "%run 67_conf_matrices.py"
   ]
  },
  {
   "cell_type": "code",
   "execution_count": 14,
   "id": "e1bc08a7",
   "metadata": {},
   "outputs": [
    {
     "name": "stdout",
     "output_type": "stream",
     "text": [
      "1 layer - Faster R-CNN approximated AUC: 0.9509\n",
      "2 layer - YOLOv11m approximated AUC: 0.9318\n",
      "3 layer - YOLOv11s approximated AUC: 0.9605\n",
      "ROC curves saved to 'd:\\GitHub\\my-study-python\\[00]_papers\\67_curves\\67_fig_10.pdf'\n"
     ]
    }
   ],
   "source": [
    "%run 67_roc.py"
   ]
  },
  {
   "cell_type": "code",
   "execution_count": null,
   "id": "73de53ff",
   "metadata": {},
   "outputs": [],
   "source": []
  }
 ],
 "metadata": {
  "kernelspec": {
   "display_name": "courses",
   "language": "python",
   "name": "python3"
  },
  "language_info": {
   "codemirror_mode": {
    "name": "ipython",
    "version": 3
   },
   "file_extension": ".py",
   "mimetype": "text/x-python",
   "name": "python",
   "nbconvert_exporter": "python",
   "pygments_lexer": "ipython3",
   "version": "3.13.5"
  }
 },
 "nbformat": 4,
 "nbformat_minor": 5
}
