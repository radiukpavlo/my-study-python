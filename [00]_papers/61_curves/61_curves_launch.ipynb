{
 "cells": [
  {
   "cell_type": "code",
   "execution_count": 1,
   "id": "e45db917-4529-4206-b13a-02ae7a3887b1",
   "metadata": {},
   "outputs": [
    {
     "name": "stdout",
     "output_type": "stream",
     "text": [
      "Output directory: C:\\Courses\\my-study-python\\[00]_papers\\61_curves\n",
      "Generating latency distribution plot...\n",
      "Generating F1-score bar chart...\n",
      "Generating mAP heatmap...\n",
      "Generating confusion matrix...\n",
      "Generating ROC curves plot...\n",
      "Generating sensitivity analysis plot...\n",
      "\n",
      "All figures have been generated and saved successfully.\n"
     ]
    }
   ],
   "source": [
    "%run figures.py"
   ]
  },
  {
   "cell_type": "code",
   "execution_count": null,
   "id": "aa3dac3f-5be4-47fd-9924-375856be3a40",
   "metadata": {},
   "outputs": [],
   "source": []
  }
 ],
 "metadata": {
  "kernelspec": {
   "display_name": "Python 3 (ipykernel)",
   "language": "python",
   "name": "python3"
  },
  "language_info": {
   "codemirror_mode": {
    "name": "ipython",
    "version": 3
   },
   "file_extension": ".py",
   "mimetype": "text/x-python",
   "name": "python",
   "nbconvert_exporter": "python",
   "pygments_lexer": "ipython3",
   "version": "3.9.16"
  }
 },
 "nbformat": 4,
 "nbformat_minor": 5
}
