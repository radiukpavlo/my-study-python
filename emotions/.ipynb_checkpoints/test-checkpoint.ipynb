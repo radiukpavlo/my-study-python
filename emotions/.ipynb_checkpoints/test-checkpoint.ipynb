{
 "cells": [
  {
   "cell_type": "code",
   "execution_count": 5,
   "id": "88b324d9-19c4-401d-9ee5-80f94838baa2",
   "metadata": {},
   "outputs": [
    {
     "name": "stdout",
     "output_type": "stream",
     "text": [
      "{'Matrix_1': array([[148,  12, 131, 233, 173, 153, 108],\n",
      "       [ 21,   1,  17,  31,  20,  14,   7],\n",
      "       [138,  15, 121, 238, 210, 192, 110],\n",
      "       [238,  22, 218, 449, 339, 280, 228],\n",
      "       [179,   7, 133, 305, 244, 225, 140],\n",
      "       [183,  10, 134, 349, 236, 202, 133],\n",
      "       [113,   9,  96, 210, 138, 161, 104]], dtype=int64), 'Matrix_2': array([[133,  12,  96, 253, 187, 169, 108],\n",
      "       [ 13,   0,  12,  31,  22,  20,  13],\n",
      "       [131,   9, 123, 259, 212, 166, 124],\n",
      "       [223,  18, 209, 450, 349, 324, 201],\n",
      "       [177,  10, 160, 281, 253, 229, 123],\n",
      "       [194,  12, 146, 287, 235, 220, 153],\n",
      "       [112,  11, 101, 211, 169, 115, 112]], dtype=int64), 'Matrix_3': array([[ 700,   11,   64,    9,   89,   80,    5],\n",
      "       [  31,   64,    5,    0,    3,    8,    0],\n",
      "       [ 217,    6,  446,   11,  115,  171,   58],\n",
      "       [ 108,    5,   36, 1427,  136,   38,   24],\n",
      "       [ 119,    8,   51,   39,  861,  148,    7],\n",
      "       [ 224,    4,  126,   19,  226,  640,    8],\n",
      "       [  55,    1,  107,   27,   29,   17,  595]], dtype=int64), 'Matrix_4': array([[144,   9, 114, 228, 188, 168, 107],\n",
      "       [ 19,   2,  13,  25,  26,  16,  10],\n",
      "       [156,   8, 117, 264, 196, 164, 119],\n",
      "       [260,  14, 217, 417, 361, 283, 222],\n",
      "       [184,   8, 132, 306, 244, 213, 146],\n",
      "       [182,  12, 132, 315, 248, 206, 152],\n",
      "       [106,  12,  96, 219, 168, 141,  89]], dtype=int64), 'Matrix_5': array([[ 620,   15,   76,   34,   85,  114,   14],\n",
      "       [  34,   64,    3,    3,    1,    5,    1],\n",
      "       [ 128,    4,  462,   27,  103,  213,   87],\n",
      "       [  35,    2,   21, 1554,   82,   38,   42],\n",
      "       [  70,    3,   64,   63,  873,  149,   11],\n",
      "       [ 129,    2,  109,   49,  225,  717,   16],\n",
      "       [  28,    1,   70,   29,   26,   14,  663]], dtype=int64)}\n"
     ]
    }
   ],
   "source": [
    "import pandas as pd\n",
    "\n",
    "# sheet names\n",
    "sheet_names = ['Sheet1', 'Sheet2', 'Sheet3', 'Sheet4', 'Sheet5']\n",
    "\n",
    "# dictionary to hold arrays\n",
    "matrix_dict = {}\n",
    "\n",
    "# read each sheet and convert to numpy array\n",
    "for i, sheet in enumerate(sheet_names, start=1):\n",
    "    df = pd.read_excel('er_experiments.xlsx', sheet_name=sheet)\n",
    "    matrix_dict[f'Matrix_{i}'] = df.to_numpy()\n",
    "\n",
    "# access the numpy array for a specific matrix\n",
    "print(matrix_dict)\n"
   ]
  },
  {
   "cell_type": "code",
   "execution_count": null,
   "id": "aa557350-0c3a-4449-a3d6-b49b57e70f94",
   "metadata": {},
   "outputs": [],
   "source": []
  }
 ],
 "metadata": {
  "kernelspec": {
   "display_name": "Python 3 (ipykernel)",
   "language": "python",
   "name": "python3"
  },
  "language_info": {
   "codemirror_mode": {
    "name": "ipython",
    "version": 3
   },
   "file_extension": ".py",
   "mimetype": "text/x-python",
   "name": "python",
   "nbconvert_exporter": "python",
   "pygments_lexer": "ipython3",
   "version": "3.9.16"
  }
 },
 "nbformat": 4,
 "nbformat_minor": 5
}
