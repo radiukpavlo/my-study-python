{
 "cells": [
  {
   "cell_type": "code",
   "execution_count": 3,
   "id": "a30fed2d-b5f8-41ac-966c-74eb6eae571b",
   "metadata": {},
   "outputs": [
    {
     "name": "stdout",
     "output_type": "stream",
     "text": [
      "PDF chart generated successfully: 55_fig_10.pdf\n"
     ]
    }
   ],
   "source": [
    "import matplotlib.pyplot as plt\n",
    "import matplotlib as mpl\n",
    "\n",
    "# Configure matplotlib for large, bold text using Palatino Linotype\n",
    "mpl.rcParams[\"font.family\"] = \"Palatino Linotype\"\n",
    "mpl.rcParams[\"font.size\"] = 14\n",
    "mpl.rcParams[\"font.weight\"] = \"bold\"\n",
    "\n",
    "def recreate_inspection_time_chart(categories: list[str],\n",
    "                                   manual_times: list[float],\n",
    "                                   automated_times: list[float],\n",
    "                                   pdf_filename: str,\n",
    "                                   rotation: int = 45) -> None:\n",
    "    \"\"\"\n",
    "    Recreates the inspection time bar chart with side-by-side bars and large, bold Palatino Linotype text.\n",
    "    The X-axis labels are rotated for improved readability.\n",
    "\n",
    "    Args:\n",
    "        categories (list of str): Category names for the X-axis.\n",
    "        manual_times (list of float): Inspection times for manual operations.\n",
    "        automated_times (list of float): Inspection times for automated operations.\n",
    "        pdf_filename (str): Output PDF file name.\n",
    "        rotation (int, optional): Angle (in degrees) to rotate the X-axis labels. Defaults to 45.\n",
    "    \"\"\"\n",
    "    # Calculate x positions for the bars\n",
    "    x_positions = list(range(len(categories)))\n",
    "    bar_width = 0.4\n",
    "\n",
    "    # Create figure and axis\n",
    "    fig, ax = plt.subplots(figsize=(8, 6))\n",
    "    \n",
    "    # Plot side-by-side bars: Manual (orange) and Automated (green)\n",
    "    ax.bar([p - bar_width/2 for p in x_positions],\n",
    "           manual_times,\n",
    "           width=bar_width,\n",
    "           color=\"orange\",\n",
    "           label=\"Manual\")\n",
    "    \n",
    "    ax.bar([p + bar_width/2 for p in x_positions],\n",
    "           automated_times,\n",
    "           width=bar_width,\n",
    "           color=\"green\",\n",
    "           label=\"Automated\")\n",
    "    \n",
    "    # Set x-ticks and rotate labels for better readability\n",
    "    ax.set_xticks(x_positions)\n",
    "    ax.set_xticklabels(categories, rotation=rotation)\n",
    "    \n",
    "    # Set chart title and y-axis label with enhanced styling\n",
    "    ax.set_title(\"Inspection Execution Time\", fontsize=18, fontweight=\"bold\")\n",
    "    ax.set_ylabel(\"Time (min)\", fontsize=16, fontweight=\"bold\")\n",
    "    \n",
    "    # \"Pythonic\" styling: remove top/right spines and add a light grid on the y-axis\n",
    "    ax.spines[\"top\"].set_visible(False)\n",
    "    ax.spines[\"right\"].set_visible(False)\n",
    "    ax.grid(axis=\"y\", linestyle=\"--\", alpha=0.5)\n",
    "    \n",
    "    # Add legend\n",
    "    ax.legend(fontsize=14)\n",
    "    \n",
    "    # Adjust layout and save the figure as a PDF\n",
    "    plt.tight_layout()\n",
    "    plt.savefig(pdf_filename, format=\"pdf\")\n",
    "    plt.close()\n",
    "\n",
    "def main() -> None:\n",
    "    # Define the data for the chart\n",
    "    categories = [\"Horizontal Blade\", \"Vertical Blade\", \"Sharp Blade\", \"Beam\", \"Motor\"]\n",
    "    manual_times = [15, 23, 25, 20, 18]      # Orange bars represent Manual times\n",
    "    automated_times = [5, 8, 10, 7, 9]       # Green bars represent Automated times\n",
    "\n",
    "    pdf_filename = \"55_fig_10.pdf\"\n",
    "    recreate_inspection_time_chart(categories, manual_times, automated_times, pdf_filename)\n",
    "    print(\"PDF chart generated successfully:\", pdf_filename)\n",
    "\n",
    "if __name__ == \"__main__\":\n",
    "    main()"
   ]
  },
  {
   "cell_type": "code",
   "execution_count": null,
   "id": "52286133-bf58-47d4-b4d2-fc5430d5212f",
   "metadata": {},
   "outputs": [],
   "source": []
  }
 ],
 "metadata": {
  "kernelspec": {
   "display_name": "Python 3 (ipykernel)",
   "language": "python",
   "name": "python3"
  },
  "language_info": {
   "codemirror_mode": {
    "name": "ipython",
    "version": 3
   },
   "file_extension": ".py",
   "mimetype": "text/x-python",
   "name": "python",
   "nbconvert_exporter": "python",
   "pygments_lexer": "ipython3",
   "version": "3.9.16"
  }
 },
 "nbformat": 4,
 "nbformat_minor": 5
}
