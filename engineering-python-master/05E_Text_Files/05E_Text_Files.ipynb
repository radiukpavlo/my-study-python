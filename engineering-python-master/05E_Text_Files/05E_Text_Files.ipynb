{
 "cells": [
  {
   "cell_type": "markdown",
   "metadata": {
    "collapsed": true
   },
   "source": [
    "# Text Files"
   ]
  },
  {
   "cell_type": "markdown",
   "metadata": {},
   "source": [
    "### Read and Write Text Files"
   ]
  },
  {
   "cell_type": "markdown",
   "metadata": {},
   "source": [
    "- A file usually contains more than one line of text (multi-line strings).\n",
    "- Python uses the newline character (\\n) to mark line breaks."
   ]
  },
  {
   "cell_type": "markdown",
   "metadata": {},
   "source": [
    "<img src=\"images/42.png\" alt=\"The Answer is 42\" style=\"width: 200px;\"/>"
   ]
  },
  {
   "cell_type": "code",
   "execution_count": 1,
   "metadata": {},
   "outputs": [
    {
     "name": "stdout",
     "output_type": "stream",
     "text": [
      "The\n",
      "\n",
      "answer\n",
      "is 42.\n"
     ]
    }
   ],
   "source": [
    "print(\"The\\n\\nanswer\\nis 42.\")"
   ]
  },
  {
   "cell_type": "markdown",
   "metadata": {},
   "source": [
    "<img src=\"images/solar_panels.jpg\" alt=\"Solar Panels\" style=\"width: 250px;\"/>"
   ]
  },
  {
   "cell_type": "code",
   "execution_count": 2,
   "metadata": {},
   "outputs": [
    {
     "data": {
      "text/plain": [
       "'6AM\\t0\\n7AM\\t0.1\\n8AM\\t7.1\\n9AM\\t15.3\\n10AM\\t53.4\\n11AM\\t78.0\\n12PM\\t93.8\\n1PM\\t103.5\\n2PM\\t106.1\\n3PM\\t100.9\\n4PM\\t90.2\\n5PM\\t74.1\\n6PM\\t52.1\\n7PM\\t23.6\\n8PM\\t3.3\\n9PM\\t0'"
      ]
     },
     "execution_count": 2,
     "metadata": {},
     "output_type": "execute_result"
    }
   ],
   "source": [
    "f = open('solar.txt', 'r')  # Open the file\n",
    "data = f.read()  # Read all the contents as a single, large string\n",
    "f.close()  # Close the file\n",
    "data"
   ]
  },
  {
   "cell_type": "markdown",
   "metadata": {},
   "source": [
    "<img src=\"images/solar_txt.png\" alt=\"solar.txt\" style=\"width: 225px;\"/>"
   ]
  },
  {
   "cell_type": "markdown",
   "metadata": {},
   "source": [
    "- Using the `with` keyword to deal with file objects.\n",
    "- File is properly closed after its use finishes, even if an exception is raised at some point. "
   ]
  },
  {
   "cell_type": "code",
   "execution_count": 3,
   "metadata": {},
   "outputs": [
    {
     "data": {
      "text/plain": [
       "True"
      ]
     },
     "execution_count": 3,
     "metadata": {},
     "output_type": "execute_result"
    }
   ],
   "source": [
    "with open('solar.txt','r') as f:  # Open solor.txt in the reading mode\n",
    "    data = f.read()\n",
    "f.closed  # Check if the file is properly closed"
   ]
  },
  {
   "cell_type": "code",
   "execution_count": 4,
   "metadata": {},
   "outputs": [
    {
     "data": {
      "text/plain": [
       "'6AM\\t0\\n7AM\\t0.1\\n8AM\\t7.1\\n9AM\\t15.3\\n10AM\\t53.4\\n11AM\\t78.0\\n12PM\\t93.8\\n1PM\\t103.5\\n2PM\\t106.1\\n3PM\\t100.9\\n4PM\\t90.2\\n5PM\\t74.1\\n6PM\\t52.1\\n7PM\\t23.6\\n8PM\\t3.3\\n9PM\\t0'"
      ]
     },
     "execution_count": 4,
     "metadata": {},
     "output_type": "execute_result"
    }
   ],
   "source": [
    "data"
   ]
  },
  {
   "cell_type": "markdown",
   "metadata": {},
   "source": [
    "- `f.read(size)` reads `size` characters from the current position.\n",
    "- If the end of the file has been reached, `f.read()` will return an empty string (`''`)."
   ]
  },
  {
   "cell_type": "code",
   "execution_count": 5,
   "metadata": {},
   "outputs": [
    {
     "data": {
      "text/plain": [
       "'6AM\\t0\\n7A'"
      ]
     },
     "execution_count": 5,
     "metadata": {},
     "output_type": "execute_result"
    }
   ],
   "source": [
    "f = open('solar.txt', 'r')\n",
    "f.read(8)  # Read the first 8 character (starting with 1 from left) in the file"
   ]
  },
  {
   "cell_type": "code",
   "execution_count": 6,
   "metadata": {
    "scrolled": true
   },
   "outputs": [
    {
     "data": {
      "text/plain": [
       "'M'"
      ]
     },
     "execution_count": 6,
     "metadata": {},
     "output_type": "execute_result"
    }
   ],
   "source": [
    "f.read(1)  # Read one more character"
   ]
  },
  {
   "cell_type": "code",
   "execution_count": 7,
   "metadata": {},
   "outputs": [
    {
     "data": {
      "text/plain": [
       "'\\t0.1\\n8AM\\t7.1\\n9AM\\t15.3\\n10AM\\t53.4\\n11AM\\t78.0\\n12PM\\t93.8\\n1PM\\t103.5\\n2PM\\t106.1\\n3PM\\t100.9\\n4PM\\t90.2\\n5PM\\t74.1\\n6PM\\t52.1\\n7PM\\t23.6\\n8PM\\t3.3\\n9PM\\t0'"
      ]
     },
     "execution_count": 7,
     "metadata": {},
     "output_type": "execute_result"
    }
   ],
   "source": [
    "f.read()  # Read the rest"
   ]
  },
  {
   "cell_type": "code",
   "execution_count": 8,
   "metadata": {},
   "outputs": [
    {
     "data": {
      "text/plain": [
       "''"
      ]
     },
     "execution_count": 8,
     "metadata": {},
     "output_type": "execute_result"
    }
   ],
   "source": [
    "f.read()  # Reach the end"
   ]
  },
  {
   "cell_type": "code",
   "execution_count": 9,
   "metadata": {
    "collapsed": true
   },
   "outputs": [],
   "source": [
    "f.close()"
   ]
  },
  {
   "cell_type": "markdown",
   "metadata": {},
   "source": [
    "- `f.readline()` reads the next line from the file.\n",
    "- If the end of the file has been reached, `f.readline()` will return an empty string (`''`)."
   ]
  },
  {
   "cell_type": "code",
   "execution_count": 10,
   "metadata": {},
   "outputs": [
    {
     "name": "stdout",
     "output_type": "stream",
     "text": [
      "6AM\t0\n",
      "7AM\t0.1\n",
      "8AM\t7.1\n",
      "9AM\t15.3\n",
      "10AM\t53.4\n"
     ]
    }
   ],
   "source": [
    "with open('solar.txt','r') as f:\n",
    "    for i in range(5):  # Read the first 5 lines\n",
    "        line = f.readline()\n",
    "        print(line, end='')  # Exclude the newline characters ('\\n') at the end of each line"
   ]
  },
  {
   "cell_type": "markdown",
   "metadata": {},
   "source": [
    "- Read the entire file line-by-line. This is memory efficient and fast:"
   ]
  },
  {
   "cell_type": "code",
   "execution_count": 11,
   "metadata": {},
   "outputs": [
    {
     "name": "stdout",
     "output_type": "stream",
     "text": [
      "6AM\t0\n",
      "7AM\t0.1\n",
      "8AM\t7.1\n",
      "9AM\t15.3\n",
      "10AM\t53.4\n",
      "11AM\t78.0\n",
      "12PM\t93.8\n",
      "1PM\t103.5\n",
      "2PM\t106.1\n",
      "3PM\t100.9\n",
      "4PM\t90.2\n",
      "5PM\t74.1\n",
      "6PM\t52.1\n",
      "7PM\t23.6\n",
      "8PM\t3.3\n",
      "9PM\t0"
     ]
    }
   ],
   "source": [
    "with open('solar.txt','r') as f:\n",
    "    for line in f:\n",
    "        print(line, end='')"
   ]
  },
  {
   "cell_type": "markdown",
   "metadata": {},
   "source": [
    "- `list(f)` and `f.readlines()` read all the lines of a file into a list."
   ]
  },
  {
   "cell_type": "code",
   "execution_count": 12,
   "metadata": {
    "scrolled": true
   },
   "outputs": [
    {
     "name": "stdout",
     "output_type": "stream",
     "text": [
      "6AM\t0\n",
      "7AM\t0.1\n",
      "8AM\t7.1\n",
      "9AM\t15.3\n",
      "10AM\t53.4\n",
      "11AM\t78.0\n",
      "12PM\t93.8\n",
      "1PM\t103.5\n",
      "2PM\t106.1\n",
      "3PM\t100.9\n",
      "4PM\t90.2\n",
      "5PM\t74.1\n",
      "6PM\t52.1\n",
      "7PM\t23.6\n",
      "8PM\t3.3\n",
      "9PM\t0"
     ]
    }
   ],
   "source": [
    "with open('solar.txt','r') as f:\n",
    "    for line in list(f):\n",
    "        print(line, end='')"
   ]
  },
  {
   "cell_type": "code",
   "execution_count": 13,
   "metadata": {},
   "outputs": [
    {
     "name": "stdout",
     "output_type": "stream",
     "text": [
      "6AM\t0\n",
      "7AM\t0.1\n",
      "8AM\t7.1\n",
      "9AM\t15.3\n",
      "10AM\t53.4\n",
      "11AM\t78.0\n",
      "12PM\t93.8\n",
      "1PM\t103.5\n",
      "2PM\t106.1\n",
      "3PM\t100.9\n",
      "4PM\t90.2\n",
      "5PM\t74.1\n",
      "6PM\t52.1\n",
      "7PM\t23.6\n",
      "8PM\t3.3\n",
      "9PM\t0"
     ]
    }
   ],
   "source": [
    "with open('solar.txt','r') as f:\n",
    "    for line in f.readlines():\n",
    "        print(line, end='')"
   ]
  },
  {
   "cell_type": "markdown",
   "metadata": {},
   "source": [
    "- `f.write(string)` writes the contents of `string` to the file, returning the number of characters written. \n",
    "- If you open an existing file for writing, you will overwrite the file's contents.\n",
    "- If the named file does not exist, a new one is created."
   ]
  },
  {
   "cell_type": "code",
   "execution_count": 14,
   "metadata": {
    "collapsed": true
   },
   "outputs": [],
   "source": [
    "f = open('my_out.txt','w')\n",
    "print('The\\n\\nanswer\\nis 42.', file=f)\n",
    "f.close()"
   ]
  },
  {
   "cell_type": "markdown",
   "metadata": {},
   "source": [
    "<img src=\"images/my_out.png\" alt=\"myout.txt\" style=\"width: 225px;\"/>"
   ]
  },
  {
   "cell_type": "code",
   "execution_count": 15,
   "metadata": {
    "collapsed": true
   },
   "outputs": [],
   "source": [
    "with open('my_out.txt','w') as f:  # Open the file in the writing mode\n",
    "    f.write('The\\n\\nanswer\\nis 42.')"
   ]
  },
  {
   "cell_type": "markdown",
   "metadata": {},
   "source": [
    "- After a file object is closed, either by a with statement or by calling f.close(), attempts to use the file object will automatically fail."
   ]
  },
  {
   "cell_type": "code",
   "execution_count": 16,
   "metadata": {
    "scrolled": false
   },
   "outputs": [
    {
     "ename": "ValueError",
     "evalue": "I/O operation on closed file.",
     "output_type": "error",
     "traceback": [
      "\u001b[1;31m---------------------------------------------------------------------------\u001b[0m",
      "\u001b[1;31mValueError\u001b[0m                                Traceback (most recent call last)",
      "\u001b[1;32m<ipython-input-16-94b03372b7c6>\u001b[0m in \u001b[0;36m<module>\u001b[1;34m()\u001b[0m\n\u001b[0;32m      1\u001b[0m \u001b[0mf\u001b[0m\u001b[1;33m.\u001b[0m\u001b[0mclose\u001b[0m\u001b[1;33m(\u001b[0m\u001b[1;33m)\u001b[0m\u001b[1;33m\u001b[0m\u001b[0m\n\u001b[1;32m----> 2\u001b[1;33m \u001b[0mf\u001b[0m\u001b[1;33m.\u001b[0m\u001b[0mread\u001b[0m\u001b[1;33m(\u001b[0m\u001b[1;33m)\u001b[0m\u001b[1;33m\u001b[0m\u001b[0m\n\u001b[0m",
      "\u001b[1;31mValueError\u001b[0m: I/O operation on closed file."
     ]
    }
   ],
   "source": [
    "f.close()\n",
    "f.read()"
   ]
  },
  {
   "cell_type": "markdown",
   "metadata": {},
   "source": [
    "### Example: Generating Usernames"
   ]
  },
  {
   "cell_type": "markdown",
   "metadata": {},
   "source": [
    "- Batch mode processing is where program input and output are done through files (i.e., the program is not interactive)."
   ]
  },
  {
   "cell_type": "code",
   "execution_count": 17,
   "metadata": {
    "scrolled": true
   },
   "outputs": [
    {
     "name": "stdout",
     "output_type": "stream",
     "text": [
      "             George Washington ==> gwashing  \n",
      "                    John Adams ==> jadams    \n",
      "              Thomas Jefferson ==> tjeffers  \n",
      "                 James Madison ==> jmadison  \n",
      "                  James Monroe ==> jmonroe   \n",
      "                    John Adams ==> jadams    \n",
      "                Andrew Jackson ==> ajackson  \n",
      "               Martin VanBuren ==> mvanbure  \n",
      "              William Harrison ==> wharriso  \n",
      "                    John Tyler ==> jtyler    \n",
      "                    James Polk ==> jpolk     \n",
      "                Zachary Taylor ==> ztaylor   \n",
      "              Millard Fillmore ==> mfillmor  \n",
      "               Franklin Pierce ==> fpierce   \n",
      "                James Buchanan ==> jbuchana  \n",
      "               Abraham Lincoln ==> alincoln  \n",
      "                Andrew Johnson ==> ajohnson  \n",
      "                 Ulysses Grant ==> ugrant    \n",
      "              Rutherford Hayes ==> rhayes    \n",
      "                James Garfield ==> jgarfiel  \n",
      "                Chester Arthur ==> carthur   \n",
      "              Grover Cleveland ==> gclevela  \n",
      "             Benjamin Harrison ==> bharriso  \n",
      "              Grover Cleveland ==> gclevela  \n",
      "              William McKinley ==> wmckinle  \n",
      "            Theodore Roosevelt ==> trooseve  \n",
      "                  William Taft ==> wtaft     \n",
      "                Woodrow Wilson ==> wwilson   \n",
      "                Warren Harding ==> wharding  \n",
      "               Calvin Coolidge ==> ccoolidg  \n",
      "                Herbert Hoover ==> hhoover   \n",
      "            Franklin Roosevelt ==> frooseve  \n",
      "                  Harry Truman ==> htruman   \n",
      "             Dwight Eisenhower ==> deisenho  \n",
      "                  John Kennedy ==> jkennedy  \n",
      "                Lyndon Johnson ==> ljohnson  \n",
      "                 Richard Nixon ==> rnixon    \n",
      "                   Gerald Ford ==> gford     \n",
      "                  James Carter ==> jcarter   \n",
      "                 Ronald Reagan ==> rreagan   \n",
      "                 George HWBush ==> ghwbush   \n",
      "               William Clinton ==> wclinton  \n",
      "                  George WBush ==> gwbush    \n",
      "                  Barack Obama ==> bobama    \n",
      "                  Donald Trump ==> dtrump    \n",
      "Usernames are stored in usernames.txt.\n"
     ]
    }
   ],
   "source": [
    "with open('realnames.txt', 'r') as f_in, \\\n",
    "     open('usernames.txt', 'w') as f_out:\n",
    "    for line in f_in:  # Process each line\n",
    "        first, last = line.split()\n",
    "        username = (first[0] + last[:7]).lower()\n",
    "        print('{:>30} ==> {:<10}'.format(line[:-1], username))\n",
    "        f_out.write(username + '\\n')\n",
    "    print(\"Usernames are stored in usernames.txt.\")"
   ]
  },
  {
   "cell_type": "markdown",
   "metadata": {},
   "source": [
    "<img src=\"images/realnames_usernames.png\" alt=\"realnames.txt and usernames.txt\" style=\"width: 500px;\"/>"
   ]
  },
  {
   "cell_type": "markdown",
   "metadata": {},
   "source": [
    "### Example: Student Cumulative GPA"
   ]
  },
  {
   "cell_type": "markdown",
   "metadata": {},
   "source": [
    "- Assume the information of all the courses taken by a student is stored in a data file, `courses.txt`. <img src=\"images/courses.png\" alt=\"Courses.txt\" style=\"width: 400px;\"/>\n",
    "- Step 1: The grade points of each course = the letter grade $\\times$ the credit hours.\n",
    "    - A: 4.0 &nbsp;&nbsp; A-: 3.7 &nbsp;&nbsp; B+: 3.3 &nbsp;&nbsp; B: 3.0 &nbsp;&nbsp; B-: 2.7 &nbsp;&nbsp; C+: 2.3 &nbsp;&nbsp; C: 2.0 &nbsp;&nbsp; C-: 1.7 &nbsp;&nbsp; D: 1.0 &nbsp;&nbsp; F: 0\n",
    "\n",
    "|Course ID | Course Name            | Credit Hours| Letter Grade | Grade Points (Each Course) |\n",
    "|:---------|:-----------------------|:------------|:-------------|:---------------------------|\n",
    "|ISE211    | Engineering Economics  | 4           | B+           | $4\\times3.3=13.2$          |\n",
    "|ISE295    | Undergraduate Seminars | 1           | C            | $1\\times2.0=2.0$           |\n",
    "|ISE314    | Computer Programming   | 4           | A            | $4\\times4.0=16.0$            |\n",
    "|ISE364    | Project Managemnt      | 3           | A-           | $3\\times3.7=11.1$          |\n",
    "|ISE420    | Operations Research    | 4           | A            | $4\\times4=16.0$              |\n",
    "\n",
    "- Step 2: Total credit hours $=4+1+4+3+4=16$, Total grade points $=13.2+2.0+16.0+11.1+16.0=58.3$.\n",
    "- Step 3: Cumulative GPA = (Total grade points)$/$(Total credits) $=58.3/16=3.64$."
   ]
  },
  {
   "cell_type": "code",
   "execution_count": 18,
   "metadata": {
    "scrolled": false
   },
   "outputs": [
    {
     "name": "stdout",
     "output_type": "stream",
     "text": [
      "Course ID, Course Name, Credit Hours, Letter Grade\n",
      "\n",
      "['ISE211, Engineering Economics, 4, B+\\n', 'ISE295, Undergraduate Seminars, 1, C\\n', 'ISE314, Computer Programming for Engineers, 4, A\\n', 'ISE364, Engineering Project Managemnt, 3, A-\\n', 'ISE420, Operations Research, 4, A']\n",
      "['ISE211', ' Engineering Economics', ' 4', ' B+\\n']\n",
      "['ISE295', ' Undergraduate Seminars', ' 1', ' C\\n']\n",
      "['ISE314', ' Computer Programming for Engineers', ' 4', ' A\\n']\n",
      "['ISE364', ' Engineering Project Managemnt', ' 3', ' A-\\n']\n",
      "['ISE420', ' Operations Research', ' 4', ' A']\n",
      "GPA = 3.64375\n"
     ]
    }
   ],
   "source": [
    "letter_equivalent = {'A': 4.0, 'A-': 3.7, 'B+': 3.3, 'B': 3.0, 'B-': 2.7, 'C+': 2.3, 'C': 2.0, 'C-': 1.7, 'D': 1.0, 'F': 0}\n",
    "t_credits = 0  # Total credit hours\n",
    "t_gps = 0  # Total grade points\n",
    "\n",
    "with open('courses.txt','r') as file:\n",
    "    header = file.readline()  # Read the header (first line) of the table\n",
    "    print(header)\n",
    "    data = file.readlines()  # Read all the remaining lines, which contain the course data\n",
    "    print(data)\n",
    "    for line in data:  # Process each course\n",
    "        course = line.split(',')\n",
    "        print(course)\n",
    "        credit = float(course[2])\n",
    "        letter = course[3].strip()  # Remove the leading space and the ending '\\n'\n",
    "        gps = credit * letter_equivalent[letter]\n",
    "        t_credits += credit\n",
    "        t_gps += gps\n",
    "\n",
    "GPA = t_gps / t_credits\n",
    "print('GPA =', GPA)"
   ]
  },
  {
   "cell_type": "markdown",
   "metadata": {},
   "source": [
    "### Course Materials on YouTube and GitHub"
   ]
  },
  {
   "cell_type": "markdown",
   "metadata": {},
   "source": [
    "- Course videos are hosted by YouTube ( http://youtube.com/yongtwang ).\n",
    "- Course documents (Jupyter Notebooks and Python source code) are hosted by GitHub ( http://github.com/yongtwang )."
   ]
  }
 ],
 "metadata": {
  "kernelspec": {
   "display_name": "Python 3",
   "language": "python",
   "name": "python3"
  },
  "language_info": {
   "codemirror_mode": {
    "name": "ipython",
    "version": 3
   },
   "file_extension": ".py",
   "mimetype": "text/x-python",
   "name": "python",
   "nbconvert_exporter": "python",
   "pygments_lexer": "ipython3",
   "version": "3.7.3"
  }
 },
 "nbformat": 4,
 "nbformat_minor": 2
}
