{
 "cells": [
  {
   "cell_type": "markdown",
   "metadata": {},
   "source": [
    "# Monte Carlo Simulation"
   ]
  },
  {
   "cell_type": "markdown",
   "metadata": {},
   "source": [
    "### The Basics"
   ]
  },
  {
   "cell_type": "markdown",
   "metadata": {},
   "source": [
    "- Monte Carlo Simulation is a technique that approximates the solution to a problem through statistical sampling.\n",
    "- In Monte Carlo Simulation, a model is simulated a large number of times. \n",
    "- Each simulation is referred to as a realization, and it represents a possible \"future\" of the system.\n",
    "- It was named after the Monte Carlo Casino in Monaco.\n",
    "<img src=\"images/monte_carlo_casino.jpg\" alt=\"Monte Carlo Casino\" style=\"width: 300px;\"/>"
   ]
  },
  {
   "cell_type": "markdown",
   "metadata": {},
   "source": [
    "### Example: Calculating $\\pi$"
   ]
  },
  {
   "cell_type": "markdown",
   "metadata": {},
   "source": [
    "- The ratio between the area of the small square and the area of the large square is 1/4. \n",
    "- If we randomly spread 100,000 dots over the large square, about 25,000 dots will be inside of the small square. \n",
    "<img src=\"images/squares_dots.png\" alt=\"Counting Dots in Two Squares\" style=\"width: 200px;\"/>"
   ]
  },
  {
   "cell_type": "markdown",
   "metadata": {},
   "source": [
    "- The ratio between the area of the circle and the area of the square is $A_{circle}/A_{square} = \\pi r^2/(2r)^2 = \\pi/4$. \n",
    "- Therefore, $\\pi = 4\\cdot A_{circle}/A_{square}$. \n",
    "- The value of $A_{circle}/A_{square}$ can be approximated using ratio between the number of dots inside of the circle $n_{circle}$ and the number of dots inside of the square $n_{square}$. \n",
    "- That is, $\\pi \\approx 4\\cdot n_{circle}/n_{square}$.\n",
    "<img src=\"images/circle_square_dots.png\" alt=\"Counting Dots in a Circle and a Square\" style=\"width: 200px;\"/>"
   ]
  },
  {
   "cell_type": "code",
   "execution_count": 1,
   "metadata": {
    "scrolled": true
   },
   "outputs": [
    {
     "name": "stdout",
     "output_type": "stream",
     "text": [
      "Approximate value of π: 3.143684\n",
      "Exact value of π: 3.141592653589793\n"
     ]
    }
   ],
   "source": [
    "import random\n",
    "import math\n",
    "\n",
    "n_circle = 0\n",
    "n_square = 0\n",
    "\n",
    "for i in range(1000000):\n",
    "    x = random.random()  # Generate a random point (x, y)\n",
    "    y = random.random()\n",
    "    if x**2 + y**2 <= 1:  # The radius of the circle is 1.\n",
    "        n_circle += 1  # If the point (x, y) is inside the circle, n_circle is increased by one.\n",
    "    n_square += 1  # The point (x, y) is always inside the square. n_square is increased by one.\n",
    "\n",
    "pi = 4.0 * n_circle / n_square\n",
    "\n",
    "print('Approximate value of π:', pi)\n",
    "print('Exact value of π:', math.pi)"
   ]
  },
  {
   "cell_type": "markdown",
   "metadata": {},
   "source": [
    "### Example: Monty Hall Problem"
   ]
  },
  {
   "cell_type": "markdown",
   "metadata": {},
   "source": [
    "- A detailed description of the Monty Hall problem:\n",
    "    - [Monty Hall Problem - Numberphile](https://youtu.be/4Lb-6rxZxx0)\n",
    "    - [Monty Hall Problem Express Explanation](https://youtu.be/C4vRTzsv4os)\n",
    "- A contestant is given the chance of three doors. Behind one door is a sports car; behind the other two are goats.\n",
    "- The contestant picks a door and then the host, who knows everything, opens a losing door, which has a goat.\n",
    "- The host then asks whether the contestant would like to stick to the original choice or switch to the remaining unopened door."
   ]
  },
  {
   "cell_type": "markdown",
   "metadata": {
    "collapsed": true
   },
   "source": [
    "<img src=\"images/monte_hall_problem_1.png\" alt=\"Monte Hall Problem (Three Doors)\" style=\"width: 200px;\"/>"
   ]
  },
  {
   "cell_type": "markdown",
   "metadata": {
    "collapsed": true
   },
   "source": [
    "- It turns out it is always better to switch.\n",
    "<img src=\"images/monte_hall_problem_1_analysis.png\" alt=\"Monte Hall Problem Analysis (Three Doors)\" style=\"width: 215px;\"/>"
   ]
  },
  {
   "cell_type": "code",
   "execution_count": 2,
   "metadata": {},
   "outputs": [
    {
     "name": "stdout",
     "output_type": "stream",
     "text": [
      "Winning probability if you always switch: 0.67086\n",
      "Winning probability if you always stick to your original choice: 0.32914\n"
     ]
    }
   ],
   "source": [
    "import random\n",
    "\n",
    "doors = ['goat']*2 + ['car']\n",
    "simulation = 100000\n",
    "switch_wins = 0\n",
    "stick_wins = 0\n",
    "\n",
    "for i in range(simulation):\n",
    "    random.shuffle(doors)  # Place the car randomly behind one of three doors\n",
    "    k = random.randrange(3)  # The contestant picks door k\n",
    "    \n",
    "    if doors[k] != 'car': # If your original choice is not 'car', you win if you switch\n",
    "        switch_wins += 1\n",
    "    else:  # If your orginal choice is 'car', you win if and you stick\n",
    "        stick_wins += 1\n",
    "\n",
    "print('Winning probability if you always switch:', switch_wins/simulation)\n",
    "print('Winning probability if you always stick to your original choice:', stick_wins/simulation)"
   ]
  },
  {
   "cell_type": "markdown",
   "metadata": {},
   "source": [
    "- What if there are 10 doors instead of 3? How should we change the program?\n",
    "<img src=\"images/monte_hall_problem_2.png\" alt=\"Monte Hall Problem Analysis (Ten Doors)\" style=\"width: 500px;\"/>\n",
    "<img src=\"images/monte_hall_problem_2_analysis.png\" alt=\"Monte Hall Problem Analysis (Ten Doors)\" style=\"width: 500px;\"/>"
   ]
  },
  {
   "cell_type": "markdown",
   "metadata": {},
   "source": [
    "### Course Materials on YouTube and GitHub"
   ]
  },
  {
   "cell_type": "markdown",
   "metadata": {},
   "source": [
    "- Course videos are hosted by YouTube ( http://youtube.com/yongtwang ).\n",
    "- Course documents (Jupyter Notebooks and Python source code) are hosted by GitHub ( http://github.com/yongtwang )."
   ]
  }
 ],
 "metadata": {
  "kernelspec": {
   "display_name": "Python 3",
   "language": "python",
   "name": "python3"
  },
  "language_info": {
   "codemirror_mode": {
    "name": "ipython",
    "version": 3
   },
   "file_extension": ".py",
   "mimetype": "text/x-python",
   "name": "python",
   "nbconvert_exporter": "python",
   "pygments_lexer": "ipython3",
   "version": "3.7.3"
  }
 },
 "nbformat": 4,
 "nbformat_minor": 2
}
