{
 "cells": [
  {
   "cell_type": "code",
   "execution_count": null,
   "id": "646bd318-e90c-4f9d-93d3-07e95bf69af3",
   "metadata": {},
   "outputs": [],
   "source": [
    "%run bot.py"
   ]
  },
  {
   "cell_type": "code",
   "execution_count": null,
   "id": "3e4c5d51-322b-4d92-992a-1c336edf6f3d",
   "metadata": {},
   "outputs": [],
   "source": []
  }
 ],
 "metadata": {
  "kernelspec": {
   "display_name": "Python 3 (ipykernel)",
   "language": "python",
   "name": "python3"
  },
  "language_info": {
   "codemirror_mode": {
    "name": "ipython",
    "version": 3
   },
   "file_extension": ".py",
   "mimetype": "text/x-python",
   "name": "python",
   "nbconvert_exporter": "python",
   "pygments_lexer": "ipython3",
   "version": "3.9.16"
  }
 },
 "nbformat": 4,
 "nbformat_minor": 5
}
