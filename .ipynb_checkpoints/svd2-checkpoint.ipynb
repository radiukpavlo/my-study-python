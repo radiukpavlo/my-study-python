{
 "cells": [
  {
   "cell_type": "code",
   "execution_count": 107,
   "id": "1409c190-d67e-4634-bf04-182d5a688acb",
   "metadata": {},
   "outputs": [],
   "source": [
    "# Singular-value decomposition\n",
    "import numpy as np\n",
    "from scipy.linalg import svd"
   ]
  },
  {
   "cell_type": "code",
   "execution_count": 108,
   "id": "91ecfc6c-6a1d-441a-89cb-0c343f7d617f",
   "metadata": {},
   "outputs": [
    {
     "name": "stdout",
     "output_type": "stream",
     "text": [
      "Matrix A:\n",
      " [[ 1  2  3  4]\n",
      " [ 5  6  7  8]\n",
      " [ 9 10 11 12]\n",
      " [13 14 15 16]]\n"
     ]
    }
   ],
   "source": [
    "# define a matrix\n",
    "'''\n",
    "A = np.array([\n",
    "    [1, 1, 1, 0, 0],\n",
    "    [3, 3, 3, 0, 0],\n",
    "    [4, 4, 4, 0, 0],\n",
    "    [5, 5, 5, 0, 0],\n",
    "    [0, 2, 0, 4, 4]])\n",
    "'''\n",
    "\n",
    "A = np.array([[1, 2, 3, 4], [5, 6, 7, 8], [9, 10, 11, 12], [13, 14, 15, 16]])\n",
    "\n",
    "print(\"Matrix A:\\n\", A)\n",
    "# SVD\n",
    "U, s, VT = svd(A)"
   ]
  },
  {
   "cell_type": "code",
   "execution_count": 109,
   "id": "a8d42f13-e201-49e5-b440-35f4f72b0bd1",
   "metadata": {},
   "outputs": [
    {
     "name": "stdout",
     "output_type": "stream",
     "text": [
      "Matrix U:\n",
      " [[-0.13472212 -0.82574206  0.54432436  0.06091792]\n",
      " [-0.3407577  -0.4288172  -0.77117135  0.32449153]\n",
      " [-0.54679327 -0.03189234 -0.09063038 -0.83173682]\n",
      " [-0.75282884  0.36503251  0.31747737  0.44632737]]\n",
      "\n",
      "Matrix s:\n",
      " [3.86226568e+01 2.07132307e+00 1.52856047e-15 2.72860272e-16]\n",
      "\n",
      "Matrix VT:\n",
      " [[-0.4284124  -0.47437252 -0.52033264 -0.56629275]\n",
      " [ 0.71865348  0.27380781 -0.17103786 -0.61588352]\n",
      " [-0.15245872 -0.18883588  0.83504791 -0.49375331]\n",
      " [ 0.52607636 -0.81507117  0.05191325  0.23708156]]\n"
     ]
    }
   ],
   "source": [
    "print(\"Matrix U:\\n\", U)\n",
    "print(\"\\nMatrix s:\\n\", s)\n",
    "print(\"\\nMatrix VT:\\n\", VT)"
   ]
  },
  {
   "cell_type": "code",
   "execution_count": 110,
   "id": "2b092670-6027-4f2f-a315-593c4b3ad9f8",
   "metadata": {},
   "outputs": [
    {
     "data": {
      "text/plain": [
       "array([3.86226568e+01, 0.00000000e+00, 1.52856047e-15, 2.72860272e-16])"
      ]
     },
     "execution_count": 110,
     "metadata": {},
     "output_type": "execute_result"
    }
   ],
   "source": [
    "s[1] = 0\n",
    "s"
   ]
  },
  {
   "cell_type": "code",
   "execution_count": 111,
   "id": "a7f5c3e4-737a-4fca-b70b-fd976d3b290d",
   "metadata": {},
   "outputs": [
    {
     "name": "stdout",
     "output_type": "stream",
     "text": [
      "Matrix A:\n",
      " [[ 1  2  3  4]\n",
      " [ 5  6  7  8]\n",
      " [ 9 10 11 12]\n",
      " [13 14 15 16]]\n",
      "\n",
      "Matrix B:\n",
      " [[ 2.22916951  2.46831501  2.70746051  2.94660601]\n",
      " [ 5.63832164  6.24320129  6.84808093  7.45296058]\n",
      " [ 9.04747378 10.01808757 10.98870135 11.95931514]\n",
      " [12.45662591 13.79297384 15.12932177 16.4656697 ]]\n"
     ]
    }
   ],
   "source": [
    "# Reconstruct SVD\n",
    "# create n x n Sigma matrix\n",
    "\n",
    "Sigma = np.diag(s)\n",
    "\n",
    "# reconstruct matrix\n",
    "B = U.dot(Sigma.dot(VT))\n",
    "\n",
    "print(\"Matrix A:\\n\", A)\n",
    "print(\"\\nMatrix B:\\n\", B)"
   ]
  },
  {
   "cell_type": "code",
   "execution_count": null,
   "id": "0730630a-65e4-4a65-906b-21d7ab728928",
   "metadata": {},
   "outputs": [],
   "source": []
  }
 ],
 "metadata": {
  "kernelspec": {
   "display_name": "Python 3 (ipykernel)",
   "language": "python",
   "name": "python3"
  },
  "language_info": {
   "codemirror_mode": {
    "name": "ipython",
    "version": 3
   },
   "file_extension": ".py",
   "mimetype": "text/x-python",
   "name": "python",
   "nbconvert_exporter": "python",
   "pygments_lexer": "ipython3",
   "version": "3.9.7"
  }
 },
 "nbformat": 4,
 "nbformat_minor": 5
}
