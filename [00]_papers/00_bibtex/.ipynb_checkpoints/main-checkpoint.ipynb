{
 "cells": [
  {
   "cell_type": "code",
   "execution_count": 6,
   "id": "64ece327-9f99-4518-b516-1bd1b1fc2f9e",
   "metadata": {},
   "outputs": [],
   "source": [
    "# Imports\n",
    "import bib_processor\n",
    "from excel_to_bib import excel_to_bib"
   ]
  },
  {
   "cell_type": "code",
   "execution_count": 8,
   "id": "520d6804-a9c1-4b1c-9c4b-7198e77fe8e1",
   "metadata": {},
   "outputs": [],
   "source": [
    "# Convert .bib → Excel\n",
    "bib_processor.bib_to_excel('refs_2.bib', 'refs_2.xlsx')"
   ]
  },
  {
   "cell_type": "code",
   "execution_count": 3,
   "id": "b9d56a6d-c22f-48b4-ba43-3bc45d48e95c",
   "metadata": {},
   "outputs": [],
   "source": [
    "# Convert Excel → .bib\n",
    "excel_to_bib('refs_2.xlsx', 'refs_2_new.bib')"
   ]
  },
  {
   "cell_type": "code",
   "execution_count": null,
   "id": "1a73ca24-0fb7-44ee-a03b-4380149074d7",
   "metadata": {},
   "outputs": [],
   "source": []
  }
 ],
 "metadata": {
  "kernelspec": {
   "display_name": "Python 3 (ipykernel)",
   "language": "python",
   "name": "python3"
  },
  "language_info": {
   "codemirror_mode": {
    "name": "ipython",
    "version": 3
   },
   "file_extension": ".py",
   "mimetype": "text/x-python",
   "name": "python",
   "nbconvert_exporter": "python",
   "pygments_lexer": "ipython3",
   "version": "3.9.16"
  }
 },
 "nbformat": 4,
 "nbformat_minor": 5
}
