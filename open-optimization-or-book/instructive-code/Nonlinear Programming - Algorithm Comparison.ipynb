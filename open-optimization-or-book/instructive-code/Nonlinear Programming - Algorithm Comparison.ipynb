{
 "cells": [
  {
   "cell_type": "code",
   "execution_count": 23,
   "metadata": {},
   "outputs": [
    {
     "data": {
      "text/plain": [
       "array([3.93124131e-02, 5.82773071e-01, 5.80428105e-01, 1.01200516e-02,\n",
       "       7.08127013e-01, 1.97530973e-01, 8.89890258e-01, 1.72016876e-01,\n",
       "       8.24036641e-01, 3.63383426e-01, 8.29729163e-01, 3.57334264e-01,\n",
       "       9.39570032e-01, 2.98400024e-02, 8.66227198e-02, 5.02984048e-01,\n",
       "       6.78855529e-01, 3.56178599e-01, 4.37469780e-01, 5.54832528e-01,\n",
       "       4.10693035e-02, 8.52434907e-01, 7.24249296e-01, 3.29731595e-01,\n",
       "       9.28068754e-01, 7.79098703e-01, 1.42677877e-01, 7.08473173e-01,\n",
       "       5.60687614e-01, 4.64661883e-01, 8.60261368e-01, 3.29864171e-01,\n",
       "       1.06988714e-01, 6.80931909e-04, 5.12948094e-03, 2.66617990e-01,\n",
       "       6.53855414e-03, 9.95510605e-01, 2.74938437e-02, 6.71627112e-02])"
      ]
     },
     "execution_count": 23,
     "metadata": {},
     "output_type": "execute_result"
    }
   ],
   "source": [
    "x0 = np.random.rand(40)\n",
    "x0"
   ]
  },
  {
   "cell_type": "code",
   "execution_count": 24,
   "metadata": {},
   "outputs": [
    {
     "name": "stdout",
     "output_type": "stream",
     "text": [
      "Warning: Maximum number of function evaluations has been exceeded.\n",
      "[ 0.38485341  0.13992125  0.0403471   0.03316081  0.01466026  0.03182755\n",
      "  0.02517174  0.11580586  0.01821502  0.06746616 -0.012438    0.00210446\n",
      " -0.01137433  0.20336589  0.09866709  0.05169481  0.00198313 -0.0141297\n",
      " -0.01286858  0.03236938 -0.03835868  0.01320723 -0.00534061  0.05605636\n",
      "  0.03001329 -0.00043306  0.18264291  0.03905858 -0.02042312  0.06836147\n",
      "  0.0088702   0.10837739  0.20310754  0.00155803  0.02627566 -0.00291049\n",
      "  0.02609271  0.01132475  0.09446326 -0.09381346]\n"
     ]
    }
   ],
   "source": [
    "import numpy as np\n",
    "from scipy.optimize import minimize\n",
    "\n",
    "def rosen(x):\n",
    "    \"\"\"The Rosenbrock function\"\"\"\n",
    "    return sum(100.0*(x[1:]-x[:-1]**2.0)**2.0 + (1-x[:-1])**2.0)\n",
    "\n",
    "#x0 = np.array([1.3, 0.7, 0.8, 1.9, 1.2,10,40,1,6,5,12,1,4,5,6,3,2,7,-1,2,3,4])\n",
    "\n",
    "\n",
    "res = minimize(rosen, x0, method='nelder-mead',\n",
    "               options={'xtol': 1e-8, 'disp': True})\n",
    "print(res.x)"
   ]
  },
  {
   "cell_type": "code",
   "execution_count": null,
   "metadata": {},
   "outputs": [],
   "source": []
  },
  {
   "cell_type": "code",
   "execution_count": 9,
   "metadata": {},
   "outputs": [],
   "source": [
    "def rosen_der(x):\n",
    "    xm = x[1:-1]\n",
    "    xm_m1 = x[:-2]\n",
    "    xm_p1 = x[2:]\n",
    "    der = np.zeros_like(x)\n",
    "    der[1:-1] = 200*(xm-xm_m1**2) - 400*(xm_p1 - xm**2)*xm - 2*(1-xm)\n",
    "    der[0] = -400*x[0]*(x[1]-x[0]**2) - 2*(1-x[0])\n",
    "    der[-1] = 200*(x[-1]-x[-2]**2)\n",
    "    return der"
   ]
  },
  {
   "cell_type": "code",
   "execution_count": 25,
   "metadata": {},
   "outputs": [
    {
     "name": "stdout",
     "output_type": "stream",
     "text": [
      "Optimization terminated successfully.\n",
      "         Current function value: 0.000000\n",
      "         Iterations: 110\n",
      "         Function evaluations: 134\n",
      "         Gradient evaluations: 134\n"
     ]
    },
    {
     "data": {
      "text/plain": [
       "array([1.        , 1.        , 1.        , 1.        , 1.        ,\n",
       "       1.        , 1.        , 1.        , 1.        , 1.        ,\n",
       "       1.        , 1.        , 1.        , 1.        , 1.        ,\n",
       "       1.        , 1.        , 1.        , 1.        , 1.        ,\n",
       "       1.        , 1.        , 1.        , 1.        , 1.        ,\n",
       "       1.        , 1.        , 1.        , 1.        , 1.        ,\n",
       "       1.        , 1.        , 1.        , 1.        , 1.        ,\n",
       "       1.        , 1.00000001, 1.00000003, 1.00000004, 1.00000008])"
      ]
     },
     "execution_count": 25,
     "metadata": {},
     "output_type": "execute_result"
    }
   ],
   "source": [
    "res = minimize(rosen, x0, method='BFGS', jac=rosen_der,\n",
    "               options={'disp': True})\n",
    "res.x"
   ]
  },
  {
   "cell_type": "code",
   "execution_count": 11,
   "metadata": {},
   "outputs": [],
   "source": [
    "def rosen_hess(x):\n",
    "    x = np.asarray(x)\n",
    "    H = np.diag(-400*x[:-1],1) - np.diag(400*x[:-1],-1)\n",
    "    diagonal = np.zeros_like(x)\n",
    "    diagonal[0] = 1200*x[0]**2-400*x[1]+2\n",
    "    diagonal[-1] = 200\n",
    "    diagonal[1:-1] = 202 + 1200*x[1:-1]**2 - 400*x[2:]\n",
    "    H = H + np.diag(diagonal)\n",
    "    return H"
   ]
  },
  {
   "cell_type": "code",
   "execution_count": 38,
   "metadata": {},
   "outputs": [],
   "source": [
    "def derivative_free(x0):\n",
    "    tstart = time.clock()\n",
    "    res = minimize(rosen, x0, method='nelder-mead',\n",
    "               options={'xtol': 1e-8, 'disp': True})\n",
    "    tend = time.clock()\n",
    "    return tend - tstart\n",
    "    "
   ]
  },
  {
   "cell_type": "code",
   "execution_count": 40,
   "metadata": {},
   "outputs": [],
   "source": [
    "def first_order(x0):\n",
    "    tstart = time.clock()\n",
    "    res = minimize(rosen, x0, method='BFGS', jac=rosen_der,\n",
    "               options={'disp': True})\n",
    "    tend = time.clock()\n",
    "    return tend - tstart"
   ]
  },
  {
   "cell_type": "code",
   "execution_count": 41,
   "metadata": {},
   "outputs": [],
   "source": [
    "def second_order(x0):\n",
    "    tstart = time.clock()\n",
    "    res = minimize(rosen, x0, method='Newton-CG',\n",
    "               jac=rosen_der, hess=rosen_hess,\n",
    "               options={'xtol': 1e-8, 'disp': True})\n",
    "    tend = time.clock()\n",
    "    return tend - tstart"
   ]
  },
  {
   "cell_type": "code",
   "execution_count": 36,
   "metadata": {},
   "outputs": [],
   "source": [
    "import time\n",
    "import matplotlib.pyplot as plt\n",
    "\n",
    "\n"
   ]
  },
  {
   "cell_type": "code",
   "execution_count": 42,
   "metadata": {},
   "outputs": [
    {
     "name": "stdout",
     "output_type": "stream",
     "text": [
      "Warning: Maximum number of function evaluations has been exceeded.\n",
      "Optimization terminated successfully.\n",
      "         Current function value: 0.000000\n",
      "         Iterations: 36\n",
      "         Function evaluations: 48\n",
      "         Gradient evaluations: 48\n",
      "Optimization terminated successfully.\n",
      "         Current function value: 0.000000\n",
      "         Iterations: 31\n",
      "         Function evaluations: 38\n",
      "         Gradient evaluations: 68\n",
      "         Hessian evaluations: 31\n",
      "Warning: Maximum number of function evaluations has been exceeded.\n",
      "Optimization terminated successfully.\n",
      "         Current function value: 0.000000\n",
      "         Iterations: 68\n",
      "         Function evaluations: 80\n",
      "         Gradient evaluations: 80\n",
      "Optimization terminated successfully.\n",
      "         Current function value: 0.000000\n",
      "         Iterations: 35\n",
      "         Function evaluations: 45\n",
      "         Gradient evaluations: 79\n",
      "         Hessian evaluations: 35\n",
      "Warning: Maximum number of function evaluations has been exceeded.\n",
      "Optimization terminated successfully.\n",
      "         Current function value: 0.000000\n",
      "         Iterations: 143\n",
      "         Function evaluations: 171\n",
      "         Gradient evaluations: 171\n",
      "Optimization terminated successfully.\n",
      "         Current function value: 0.000000\n",
      "         Iterations: 76\n",
      "         Function evaluations: 88\n",
      "         Gradient evaluations: 163\n",
      "         Hessian evaluations: 76\n",
      "Warning: Maximum number of function evaluations has been exceeded.\n",
      "Optimization terminated successfully.\n",
      "         Current function value: 0.000000\n",
      "         Iterations: 180\n",
      "         Function evaluations: 215\n",
      "         Gradient evaluations: 215\n",
      "Optimization terminated successfully.\n",
      "         Current function value: 0.000000\n",
      "         Iterations: 66\n",
      "         Function evaluations: 78\n",
      "         Gradient evaluations: 143\n",
      "         Hessian evaluations: 66\n",
      "Warning: Maximum number of function evaluations has been exceeded.\n",
      "Optimization terminated successfully.\n",
      "         Current function value: 0.000000\n",
      "         Iterations: 151\n",
      "         Function evaluations: 184\n",
      "         Gradient evaluations: 184\n",
      "Optimization terminated successfully.\n",
      "         Current function value: 0.000000\n",
      "         Iterations: 63\n",
      "         Function evaluations: 69\n",
      "         Gradient evaluations: 131\n",
      "         Hessian evaluations: 63\n",
      "Warning: Maximum number of function evaluations has been exceeded.\n",
      "Optimization terminated successfully.\n",
      "         Current function value: 0.000000\n",
      "         Iterations: 208\n",
      "         Function evaluations: 252\n",
      "         Gradient evaluations: 252\n",
      "Optimization terminated successfully.\n",
      "         Current function value: 0.000000\n",
      "         Iterations: 72\n",
      "         Function evaluations: 101\n",
      "         Gradient evaluations: 172\n",
      "         Hessian evaluations: 72\n",
      "Warning: Maximum number of function evaluations has been exceeded.\n",
      "Optimization terminated successfully.\n",
      "         Current function value: 0.000000\n",
      "         Iterations: 210\n",
      "         Function evaluations: 247\n",
      "         Gradient evaluations: 247\n",
      "Optimization terminated successfully.\n",
      "         Current function value: 0.000000\n",
      "         Iterations: 79\n",
      "         Function evaluations: 117\n",
      "         Gradient evaluations: 195\n",
      "         Hessian evaluations: 79\n",
      "Warning: Maximum number of function evaluations has been exceeded.\n",
      "Optimization terminated successfully.\n",
      "         Current function value: 0.000000\n",
      "         Iterations: 251\n",
      "         Function evaluations: 291\n",
      "         Gradient evaluations: 291\n",
      "Optimization terminated successfully.\n",
      "         Current function value: 0.000000\n",
      "         Iterations: 72\n",
      "         Function evaluations: 95\n",
      "         Gradient evaluations: 166\n",
      "         Hessian evaluations: 72\n",
      "Warning: Maximum number of function evaluations has been exceeded.\n",
      "Optimization terminated successfully.\n",
      "         Current function value: 0.000000\n",
      "         Iterations: 278\n",
      "         Function evaluations: 328\n",
      "         Gradient evaluations: 328\n",
      "Optimization terminated successfully.\n",
      "         Current function value: 0.000000\n",
      "         Iterations: 166\n",
      "         Function evaluations: 197\n",
      "         Gradient evaluations: 362\n",
      "         Hessian evaluations: 166\n"
     ]
    },
    {
     "data": {
      "image/png": "[encoded data removed]",
      "text/plain": [
       "<Figure size 432x288 with 1 Axes>"
      ]
     },
     "metadata": {
      "needs_background": "light"
     },
     "output_type": "display_data"
    }
   ],
   "source": [
    "N = range(10,100,10)\n",
    "y0 = [0]\n",
    "y1 = [0]\n",
    "y2 = [0]\n",
    "for i,n in enumerate(N):\n",
    "    x0 = np.random.rand(n)\n",
    "    y0 = y0 + [derivative_free(x0)]\n",
    "    y1 = y1 + [first_order(x0)]\n",
    "    y2 = y2 + [second_order(x0)]\n",
    "    plt.plot([n-10,n],[y0[i],y0[i+1]], color = 'r')\n",
    "    plt.plot([n-10,n],[y1[i],y1[i+1]], color = 'b')\n",
    "    plt.plot([n-10,n],[y2[i],y2[i+1]], color = 'g')\n",
    "    \n",
    "    \n",
    "    \n"
   ]
  },
  {
   "cell_type": "code",
   "execution_count": 44,
   "metadata": {},
   "outputs": [
    {
     "name": "stdout",
     "output_type": "stream",
     "text": [
      "Optimization terminated successfully.\n",
      "         Current function value: 0.000000\n",
      "         Iterations: 220\n",
      "         Function evaluations: 246\n",
      "         Gradient evaluations: 246\n",
      "Optimization terminated successfully.\n",
      "         Current function value: 0.000000\n",
      "         Iterations: 65\n",
      "         Function evaluations: 84\n",
      "         Gradient evaluations: 148\n",
      "         Hessian evaluations: 65\n",
      "Optimization terminated successfully.\n",
      "         Current function value: 0.000000\n",
      "         Iterations: 377\n",
      "         Function evaluations: 446\n",
      "         Gradient evaluations: 446\n",
      "Optimization terminated successfully.\n",
      "         Current function value: 0.000000\n",
      "         Iterations: 100\n",
      "         Function evaluations: 129\n",
      "         Gradient evaluations: 228\n",
      "         Hessian evaluations: 100\n",
      "Optimization terminated successfully.\n",
      "         Current function value: 0.000000\n",
      "         Iterations: 509\n",
      "         Function evaluations: 589\n",
      "         Gradient evaluations: 589\n",
      "Optimization terminated successfully.\n",
      "         Current function value: 0.000000\n",
      "         Iterations: 253\n",
      "         Function evaluations: 346\n",
      "         Gradient evaluations: 598\n",
      "         Hessian evaluations: 253\n",
      "Optimization terminated successfully.\n",
      "         Current function value: 0.000000\n",
      "         Iterations: 605\n",
      "         Function evaluations: 690\n",
      "         Gradient evaluations: 690\n",
      "Optimization terminated successfully.\n",
      "         Current function value: 0.000000\n",
      "         Iterations: 214\n",
      "         Function evaluations: 293\n",
      "         Gradient evaluations: 506\n",
      "         Hessian evaluations: 214\n",
      "Optimization terminated successfully.\n",
      "         Current function value: 0.000000\n",
      "         Iterations: 780\n",
      "         Function evaluations: 855\n",
      "         Gradient evaluations: 855\n",
      "Optimization terminated successfully.\n",
      "         Current function value: 0.000000\n",
      "         Iterations: 144\n",
      "         Function evaluations: 196\n",
      "         Gradient evaluations: 339\n",
      "         Hessian evaluations: 144\n",
      "Optimization terminated successfully.\n",
      "         Current function value: 0.000000\n",
      "         Iterations: 894\n",
      "         Function evaluations: 1000\n",
      "         Gradient evaluations: 1000\n",
      "Optimization terminated successfully.\n",
      "         Current function value: 0.000000\n",
      "         Iterations: 276\n",
      "         Function evaluations: 343\n",
      "         Gradient evaluations: 618\n",
      "         Hessian evaluations: 276\n",
      "Optimization terminated successfully.\n",
      "         Current function value: 0.000000\n",
      "         Iterations: 1106\n",
      "         Function evaluations: 1271\n",
      "         Gradient evaluations: 1271\n",
      "Optimization terminated successfully.\n",
      "         Current function value: 0.000000\n",
      "         Iterations: 292\n",
      "         Function evaluations: 401\n",
      "         Gradient evaluations: 692\n",
      "         Hessian evaluations: 292\n",
      "Optimization terminated successfully.\n",
      "         Current function value: 0.000000\n",
      "         Iterations: 1129\n",
      "         Function evaluations: 1251\n",
      "         Gradient evaluations: 1251\n",
      "Optimization terminated successfully.\n",
      "         Current function value: 0.000000\n",
      "         Iterations: 379\n",
      "         Function evaluations: 505\n",
      "         Gradient evaluations: 883\n",
      "         Hessian evaluations: 379\n",
      "Optimization terminated successfully.\n",
      "         Current function value: 0.000000\n",
      "         Iterations: 1235\n",
      "         Function evaluations: 1369\n",
      "         Gradient evaluations: 1369\n",
      "Optimization terminated successfully.\n",
      "         Current function value: 0.000000\n",
      "         Iterations: 396\n",
      "         Function evaluations: 561\n",
      "         Gradient evaluations: 956\n",
      "         Hessian evaluations: 396\n"
     ]
    },
    {
     "data": {
      "image/png": "[encoded data removed]",
      "text/plain": [
       "<Figure size 432x288 with 1 Axes>"
      ]
     },
     "metadata": {
      "needs_background": "light"
     },
     "output_type": "display_data"
    }
   ],
   "source": [
    "N = range(100,1000,100)\n",
    "#y0 = [0]\n",
    "y1 = [0]\n",
    "y2 = [0]\n",
    "for i,n in enumerate(N):\n",
    "    x0 = np.random.rand(n)\n",
    "    #y0 = y0 + [derivative_free(x0)]\n",
    "    y1 = y1 + [first_order(x0)]\n",
    "    y2 = y2 + [second_order(x0)]\n",
    "    #plt.plot([n-10,n],[y0[i],y0[i+1]], color = 'r')\n",
    "    plt.plot([n-100,n],[y1[i],y1[i+1]], color = 'b')\n",
    "    plt.plot([n-100,n],[y2[i],y2[i+1]], color = 'g')"
   ]
  },
  {
   "cell_type": "code",
   "execution_count": 46,
   "metadata": {},
   "outputs": [],
   "source": [
    "plt.show()"
   ]
  },
  {
   "cell_type": "code",
   "execution_count": 47,
   "metadata": {},
   "outputs": [
    {
     "data": {
      "text/plain": [
       "[3, 4]"
      ]
     },
     "execution_count": 47,
     "metadata": {},
     "output_type": "execute_result"
    }
   ],
   "source": [
    "y3"
   ]
  },
  {
   "cell_type": "code",
   "execution_count": 48,
   "metadata": {},
   "outputs": [
    {
     "data": {
      "text/plain": [
       "[0,\n",
       " 0.0786510000000078,\n",
       " 0.16865700000001027,\n",
       " 0.6689949999999953,\n",
       " 0.5552539999999908,\n",
       " 0.6383150000000057,\n",
       " 1.7772799999999904,\n",
       " 2.5184399999999982,\n",
       " 7.0702890000000025,\n",
       " 6.001640000000009]"
      ]
     },
     "execution_count": 48,
     "metadata": {},
     "output_type": "execute_result"
    }
   ],
   "source": [
    "y2"
   ]
  },
  {
   "cell_type": "code",
   "execution_count": 49,
   "metadata": {},
   "outputs": [
    {
     "data": {
      "text/plain": [
       "[0,\n",
       " 0.29289499999998725,\n",
       " 1.0138000000000034,\n",
       " 3.3471370000000036,\n",
       " 8.308315000000007,\n",
       " 17.70738700000001,\n",
       " 37.812674000000015,\n",
       " 61.64468600000001,\n",
       " 109.54364999999999,\n",
       " 166.740413]"
      ]
     },
     "execution_count": 49,
     "metadata": {},
     "output_type": "execute_result"
    }
   ],
   "source": [
    "y1"
   ]
  },
  {
   "cell_type": "code",
   "execution_count": 50,
   "metadata": {},
   "outputs": [
    {
     "data": {
      "text/plain": [
       "range(100, 1000, 100)"
      ]
     },
     "execution_count": 50,
     "metadata": {},
     "output_type": "execute_result"
    }
   ],
   "source": [
    "N"
   ]
  },
  {
   "cell_type": "code",
   "execution_count": 54,
   "metadata": {},
   "outputs": [
    {
     "name": "stdout",
     "output_type": "stream",
     "text": [
      "Optimization terminated successfully.\n",
      "         Current function value: 0.000000\n",
      "         Iterations: 1404\n",
      "         Function evaluations: 1562\n",
      "         Gradient evaluations: 1562\n",
      "Optimization terminated successfully.\n",
      "         Current function value: 0.000000\n",
      "         Iterations: 336\n",
      "         Function evaluations: 449\n",
      "         Gradient evaluations: 784\n",
      "         Hessian evaluations: 336\n",
      "Optimization terminated successfully.\n",
      "         Current function value: 0.000000\n",
      "         Iterations: 2395\n",
      "         Function evaluations: 2623\n",
      "         Gradient evaluations: 2623\n",
      "Optimization terminated successfully.\n",
      "         Current function value: 0.000000\n",
      "         Iterations: 460\n",
      "         Function evaluations: 587\n",
      "         Gradient evaluations: 1046\n",
      "         Hessian evaluations: 460\n"
     ]
    },
    {
     "data": {
      "image/png": "[encoded data removed]",
      "text/plain": [
       "<Figure size 432x288 with 1 Axes>"
      ]
     },
     "metadata": {
      "needs_background": "light"
     },
     "output_type": "display_data"
    }
   ],
   "source": [
    "N = [1000,2000]\n",
    "#y0 = [0]\n",
    "yLarge1 = [0]\n",
    "yLarge2 = [0]\n",
    "for i,n in enumerate(N):\n",
    "    x0 = np.random.rand(n)\n",
    "    #y0 = y0 + [derivative_free(x0)]\n",
    "    yLarge1 = yLarge1 + [first_order(x0)]\n",
    "    yLarge2 = yLarge2 + [second_order(x0)]\n",
    "    #plt.plot([n-10,n],[y0[i],y0[i+1]], color = 'r')\n",
    "    plt.plot([n-1000,n],[yLarge1[i],yLarge1[i+1]], color = 'b')\n",
    "    plt.plot([n-1000,n],[yLarge2[i],yLarge2[i+1]], color = 'g')"
   ]
  },
  {
   "cell_type": "code",
   "execution_count": 55,
   "metadata": {},
   "outputs": [
    {
     "data": {
      "text/plain": [
       "[0, 265.8282889999998, 2768.659211]"
      ]
     },
     "execution_count": 55,
     "metadata": {},
     "output_type": "execute_result"
    }
   ],
   "source": [
    "yLarge1"
   ]
  },
  {
   "cell_type": "code",
   "execution_count": 56,
   "metadata": {},
   "outputs": [
    {
     "data": {
      "text/plain": [
       "[0, 10.121258000000125, 72.32411800000045]"
      ]
     },
     "execution_count": 56,
     "metadata": {},
     "output_type": "execute_result"
    }
   ],
   "source": [
    "yLarge2"
   ]
  },
  {
   "cell_type": "code",
   "execution_count": null,
   "metadata": {},
   "outputs": [],
   "source": []
  }
 ],
 "metadata": {
  "kernelspec": {
   "display_name": "Python 3",
   "language": "python",
   "name": "python3"
  },
  "language_info": {
   "codemirror_mode": {
    "name": "ipython",
    "version": 3
   },
   "file_extension": ".py",
   "mimetype": "text/x-python",
   "name": "python",
   "nbconvert_exporter": "python",
   "pygments_lexer": "ipython3",
   "version": "3.6.8"
  }
 },
 "nbformat": 4,
 "nbformat_minor": 2
}
