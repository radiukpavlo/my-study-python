{
 "cells": [
  {
   "cell_type": "markdown",
   "metadata": {
    "button": false,
    "new_sheet": false,
    "run_control": {
     "read_only": false
    }
   },
   "source": [
    "# Assignment Problem\n",
    "The assignment problem (machine/person to job/task assignment) seeks to assign tasks to machines in a way that is most efficient.   This problem can be thought of as having a set of machines that can complete various tasks (textile machines that can make t-shirts, pants, socks, etc) that require different amounts of time to complete each task, and given a demand, you need to decide how to alloacte your machines to tasks.\n",
    "\n",
    "Alternatively, you could be an employer with a set of jobs to complete and a list of employees to assign to these jobs.  Each employee has various abilities, and hence, can complete jobs in differing amounts of time.  And each employee's time might cost a different amout.  How should you assign your employees to jobs in order to minimize your total costs?\n",
    "\n",
    "\n",
    "\n",
    "\n"
   ]
  },
  {
   "cell_type": "markdown",
   "metadata": {
    "button": false,
    "new_sheet": false,
    "run_control": {
     "read_only": false
    }
   },
   "source": [
    "## Problem\n",
    "Given $m$ machines and $n$ jobs, find a least cost assignment of jobs to machines. The cost of assigning job $j$ to machine $i$ is $c_{ij}$.\n"
   ]
  },
  {
   "cell_type": "code",
   "execution_count": 4,
   "metadata": {
    "button": false,
    "new_sheet": false,
    "run_control": {
     "read_only": false
    }
   },
   "outputs": [
    {
     "name": "stdout",
     "output_type": "stream",
     "text": [
      "Gurobi Optimizer version 9.0.3 build v9.0.3rc0 (mac64)\n",
      "Optimize a model with 8 rows, 16 columns and 32 nonzeros\n",
      "Model fingerprint: 0x214e63ad\n",
      "Variable types: 0 continuous, 16 integer (16 binary)\n",
      "Coefficient statistics:\n",
      "  Matrix range     [1e+00, 1e+00]\n",
      "  Objective range  [2e+00, 1e+01]\n",
      "  Bounds range     [1e+00, 1e+00]\n",
      "  RHS range        [1e+00, 1e+00]\n",
      "Found heuristic solution: objective 20.0000000\n",
      "Presolve time: 0.00s\n",
      "Presolved: 8 rows, 16 columns, 32 nonzeros\n",
      "Variable types: 0 continuous, 16 integer (16 binary)\n",
      "\n",
      "Root relaxation: objective 1.100000e+01, 8 iterations, 0.00 seconds\n",
      "\n",
      "    Nodes    |    Current Node    |     Objective Bounds      |     Work\n",
      " Expl Unexpl |  Obj  Depth IntInf | Incumbent    BestBd   Gap | It/Node Time\n",
      "\n",
      "*    0     0               0      11.0000000   11.00000  0.00%     -    0s\n",
      "\n",
      "Explored 0 nodes (8 simplex iterations) in 0.01 seconds\n",
      "Thread count was 12 (of 12 available processors)\n",
      "\n",
      "Solution count 2: 11 20 \n",
      "\n",
      "Optimal solution found (tolerance 1.00e-04)\n",
      "Best objective 1.100000000000e+01, best bound 1.100000000000e+01, gap 0.0000%\n",
      "Optimal solution\n",
      "x[0,0]: -0\n",
      "x[0,1]: 1\n",
      "x[0,2]: 0\n",
      "x[0,3]: -0\n",
      "x[1,0]: 1\n",
      "x[1,1]: 0\n",
      "x[1,2]: -0\n",
      "x[1,3]: -0\n",
      "x[2,0]: 0\n",
      "x[2,1]: -0\n",
      "x[2,2]: -0\n",
      "x[2,3]: 1\n",
      "x[3,0]: -0\n",
      "x[3,1]: -0\n",
      "x[3,2]: 1\n",
      "x[3,3]: -0\n",
      "Obj: 11\n"
     ]
    }
   ],
   "source": [
    "# Import Gurobi\n",
    "import gurobipy as gp\n",
    "from gurobipy import GRB\n",
    "\n",
    "import numpy as np\n",
    "\n",
    "# Create a new model\n",
    "m = gp.Model(\"Assignment_Problem\")\n",
    "\n",
    "\n",
    "# Setup Data\n",
    "c = np.array([[10,3,4,6],[4,2,4,7],[2,2,2,2],[6,7,2,11]])\n",
    "\n",
    "# Create sets\n",
    "n = len(c)   # read the number of items from the data\n",
    "I = range(n) # set of machines\n",
    "J = range(n) # set of tasks\n",
    "\n",
    "# Create variables\n",
    "x = m.addVars(I,J, vtype=GRB.BINARY, name=\"x\")\n",
    "\n",
    "# Set objective\n",
    "m.setObjective(sum(c[i,j]*x[i,j] for i in I for j in J), GRB.MINIMIZE)\n",
    "\n",
    "# Add capacity constraints:  \n",
    "m.addConstrs((sum(x[i,j] for i in I) == 1 for j in J), \"Each job has exactly one machine\")\n",
    "\n",
    "m.addConstrs((sum(x[i,j] for j in J) == 1 for i in I), \"Each machine assigned to exactly one job\")\n",
    "\n",
    "# Optimize model\n",
    "m.optimize()\n",
    "\n",
    "print(\"Optimal solution\")\n",
    "for v in m.getVars():\n",
    "    print('%s: %g' % (v.varName, v.x))\n",
    "\n",
    "print('Obj: %g' % m.objVal)\n"
   ]
  },
  {
   "cell_type": "markdown",
   "metadata": {
    "button": false,
    "new_sheet": false,
    "run_control": {
     "read_only": false
    }
   },
   "source": [
    "## Solution\n",
    "\n",
    "The optimal solution is to assign \n",
    "- machine 0 to job 1,\n",
    "- machine 1 to job 0,\n",
    "- machine 2 to job 3,\n",
    "- machine 3 to job 2,"
   ]
  },
  {
   "cell_type": "code",
   "execution_count": null,
   "metadata": {
    "button": false,
    "collapsed": true,
    "new_sheet": false,
    "run_control": {
     "read_only": false
    }
   },
   "outputs": [],
   "source": []
  }
 ],
 "metadata": {
  "kernelspec": {
   "display_name": "Python 3",
   "language": "python",
   "name": "python3"
  },
  "language_info": {
   "codemirror_mode": {
    "name": "ipython",
    "version": 3
   },
   "file_extension": ".py",
   "mimetype": "text/x-python",
   "name": "python",
   "nbconvert_exporter": "python",
   "pygments_lexer": "ipython3",
   "version": "3.8.3"
  }
 },
 "nbformat": 4,
 "nbformat_minor": 2
}
