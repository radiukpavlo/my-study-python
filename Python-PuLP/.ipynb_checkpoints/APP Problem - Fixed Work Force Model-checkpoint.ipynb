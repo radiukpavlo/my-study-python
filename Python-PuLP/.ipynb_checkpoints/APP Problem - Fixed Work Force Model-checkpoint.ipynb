{
 "cells": [
  {
   "cell_type": "code",
   "execution_count": 175,
   "metadata": {},
   "outputs": [],
   "source": [
    "from pulp import *"
   ]
  },
  {
   "cell_type": "code",
   "execution_count": 176,
   "metadata": {},
   "outputs": [],
   "source": [
    "# Lsit (TimePeriods)\n",
    "t = [0,1,2,3,4,5,6]"
   ]
  },
  {
   "cell_type": "code",
   "execution_count": 177,
   "metadata": {},
   "outputs": [],
   "source": [
    "# Parameters and Data\n",
    "demand = {1:100, 2:100, 3:150, 4:200, 5:150, 6:100} # Demand data\n",
    "UPC = {1:7, 2:8, 3:8, 4:8, 5:7, 6:8} # Unit Production Cost (Excluding Labor)\n",
    "UHC = {1:3, 2:4, 3:4, 4:4, 5:3, 6:2} # Unit Holding Cost\n",
    "URLC = {1:15, 2:15, 3:18, 4:18, 5:15, 6:15} # Unit Regular Labor Cost\n",
    "UOLC = {1:22.5, 2:22.5, 3:27, 4:27, 5:22.5, 6:22.5} # Unit Overtime Labor Cost\n",
    "R_MH = {1:120, 2:130, 3:120, 4:150, 5:100, 6:100} # Available Man-hours R (Regular time) Labor\n",
    "O_MH = {1:30, 2:40, 3:40, 4:30, 5:30, 6:30} # Available Man-hours O (Overtime) Labor"
   ]
  },
  {
   "cell_type": "code",
   "execution_count": 178,
   "metadata": {},
   "outputs": [],
   "source": [
    "# Setting the Problem\n",
    "prob = LpProblem(\"Aggregate Production Planning: Fixed Work Force Model\", LpMinimize)"
   ]
  },
  {
   "cell_type": "code",
   "execution_count": 179,
   "metadata": {},
   "outputs": [],
   "source": [
    "# Desicion Variables\n",
    "Xt = LpVariable.dicts(\"Quantity Produced\", t, 0)\n",
    "It = LpVariable.dicts(\"Inventory\", t, 0)\n",
    "Rt = LpVariable.dicts(\"R_Labor Used\", t, 0)\n",
    "Ot = LpVariable.dicts(\"O_Labor Used\", t, 0)"
   ]
  },
  {
   "cell_type": "code",
   "execution_count": 180,
   "metadata": {},
   "outputs": [],
   "source": [
    "# Objective Function\n",
    "prob += lpSum(UPC[i]*Xt[i] for i in t[1:])+lpSum(UHC[i]*It[i] for i in t[1:])+lpSum(URLC[i]*Rt[i] for i in t[1:])+lpSum(UOLC[i]*Ot[i] for i in t[1:])"
   ]
  },
  {
   "cell_type": "code",
   "execution_count": 181,
   "metadata": {},
   "outputs": [],
   "source": [
    "# Constraints\n",
    "It[0] = 3\n",
    "for i in t[1:]:\n",
    "    prob += (Xt[i] + It[i-1]- It[i]) == demand[i] # Inventory-Balancing Constraints\n",
    "for i in t[1:]:\n",
    "    prob += Xt[i] - Rt[i] - Ot[i] == 0  # Time Required to produce products\n",
    "for i in t[1:]:\n",
    "    prob += Rt[i] <= R_MH[i] # Regular Time Required\n",
    "for i in t[1:]:\n",
    "    prob += Ot[i] <= O_MH[i] # Over Time Required"
   ]
  },
  {
   "cell_type": "code",
   "execution_count": 182,
   "metadata": {},
   "outputs": [
    {
     "name": "stdout",
     "output_type": "stream",
     "text": [
      "Solution Status =  Optimal\n"
     ]
    }
   ],
   "source": [
    "prob.solve()\n",
    "print(\"Solution Status = \", LpStatus[prob.status])"
   ]
  },
  {
   "cell_type": "code",
   "execution_count": 183,
   "metadata": {},
   "outputs": [
    {
     "name": "stdout",
     "output_type": "stream",
     "text": [
      "Inventory_1 = 23.0\n",
      "Inventory_2 = 70.0\n",
      "Inventory_3 = 40.0\n",
      "Inventory_4 = 20.0\n",
      "O_Labor_Used_2 = 17.0\n",
      "O_Labor_Used_4 = 30.0\n",
      "O_Labor_Used_5 = 30.0\n",
      "Quantity_Produced_1 = 120.0\n",
      "Quantity_Produced_2 = 147.0\n",
      "Quantity_Produced_3 = 120.0\n",
      "Quantity_Produced_4 = 180.0\n",
      "Quantity_Produced_5 = 130.0\n",
      "Quantity_Produced_6 = 100.0\n",
      "R_Labor_Used_1 = 120.0\n",
      "R_Labor_Used_2 = 130.0\n",
      "R_Labor_Used_3 = 120.0\n",
      "R_Labor_Used_4 = 150.0\n",
      "R_Labor_Used_5 = 100.0\n",
      "R_Labor_Used_6 = 100.0\n"
     ]
    }
   ],
   "source": [
    "# Print the solution of the Decision Variables\n",
    "for v in prob.variables():\n",
    "    if v.varValue>0:\n",
    "        print(v.name, \"=\", v.varValue)"
   ]
  },
  {
   "cell_type": "code",
   "execution_count": 184,
   "metadata": {},
   "outputs": [
    {
     "name": "stdout",
     "output_type": "stream",
     "text": [
      "Total Production Plan Cost =  20192.5\n"
     ]
    }
   ],
   "source": [
    "# Print Optimal\n",
    "print(\"Total Production Plan Cost = \", value(prob.objective))"
   ]
  },
  {
   "cell_type": "code",
   "execution_count": null,
   "metadata": {},
   "outputs": [],
   "source": []
  },
  {
   "cell_type": "code",
   "execution_count": 96,
   "metadata": {},
   "outputs": [
    {
     "name": "stdout",
     "output_type": "stream",
     "text": [
      "-O_Labor_Used_1 + Quantity_Produced_1 - R_Labor_Used_1 = 0\n",
      "-O_Labor_Used_2 + Quantity_Produced_2 - R_Labor_Used_2 = 0\n",
      "-O_Labor_Used_3 + Quantity_Produced_3 - R_Labor_Used_3 = 0\n",
      "-O_Labor_Used_4 + Quantity_Produced_4 - R_Labor_Used_4 = 0\n",
      "-O_Labor_Used_5 + Quantity_Produced_5 - R_Labor_Used_5 = 0\n",
      "-O_Labor_Used_6 + Quantity_Produced_6 - R_Labor_Used_6 = 0\n"
     ]
    }
   ],
   "source": [
    "for i in t[1:]:\n",
    "    print((Xt[i] - Rt[i] - Ot[i]) == 0) # Time Required to produce products\n"
   ]
  },
  {
   "cell_type": "code",
   "execution_count": 97,
   "metadata": {},
   "outputs": [
    {
     "name": "stdout",
     "output_type": "stream",
     "text": [
      "R_Labor_Used_1 <= 120\n",
      "R_Labor_Used_2 <= 130\n",
      "R_Labor_Used_3 <= 120\n",
      "R_Labor_Used_4 <= 150\n",
      "R_Labor_Used_5 <= 100\n",
      "R_Labor_Used_6 <= 100\n"
     ]
    }
   ],
   "source": [
    "for i in t[1:]:\n",
    "    print(Rt[i] <= R_MH[i]) # Regular Time Required\n"
   ]
  }
 ],
 "metadata": {
  "kernelspec": {
   "display_name": "Python 3 (ipykernel)",
   "language": "python",
   "name": "python3"
  },
  "language_info": {
   "codemirror_mode": {
    "name": "ipython",
    "version": 3
   },
   "file_extension": ".py",
   "mimetype": "text/x-python",
   "name": "python",
   "nbconvert_exporter": "python",
   "pygments_lexer": "ipython3",
   "version": "3.9.13"
  }
 },
 "nbformat": 4,
 "nbformat_minor": 4
}
