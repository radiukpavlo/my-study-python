{
 "cells": [
  {
   "cell_type": "code",
   "execution_count": 1,
   "id": "64ece327-9f99-4518-b516-1bd1b1fc2f9e",
   "metadata": {},
   "outputs": [],
   "source": [
    "# Imports\n",
    "import bib_processor\n",
    "from excel_to_bib import excel_to_bib"
   ]
  },
  {
   "cell_type": "code",
   "execution_count": 2,
   "id": "520d6804-a9c1-4b1c-9c4b-7198e77fe8e1",
   "metadata": {},
   "outputs": [
    {
     "ename": "FileNotFoundError",
     "evalue": "[Errno 2] No such file or directory: 'refs.bib'",
     "output_type": "error",
     "traceback": [
      "\u001b[1;31m---------------------------------------------------------------------------\u001b[0m",
      "\u001b[1;31mFileNotFoundError\u001b[0m                         Traceback (most recent call last)",
      "Cell \u001b[1;32mIn[2], line 2\u001b[0m\n\u001b[0;32m      1\u001b[0m \u001b[38;5;66;03m# Convert .bib → Excel\u001b[39;00m\n\u001b[1;32m----> 2\u001b[0m \u001b[43mbib_processor\u001b[49m\u001b[38;5;241;43m.\u001b[39;49m\u001b[43mbib_to_excel\u001b[49m\u001b[43m(\u001b[49m\u001b[38;5;124;43m'\u001b[39;49m\u001b[38;5;124;43mrefs.bib\u001b[39;49m\u001b[38;5;124;43m'\u001b[39;49m\u001b[43m,\u001b[49m\u001b[43m \u001b[49m\u001b[38;5;124;43m'\u001b[39;49m\u001b[38;5;124;43mrefs.xlsx\u001b[39;49m\u001b[38;5;124;43m'\u001b[39;49m\u001b[43m)\u001b[49m\n",
      "File \u001b[1;32mC:\\Courses\\my-study-python\\papers\\00_bibtex\\bib_processor.py:9\u001b[0m, in \u001b[0;36mbib_to_excel\u001b[1;34m(bib_file, excel_file)\u001b[0m\n\u001b[0;32m      5\u001b[0m \u001b[38;5;28;01mdef\u001b[39;00m \u001b[38;5;21mbib_to_excel\u001b[39m(bib_file: \u001b[38;5;28mstr\u001b[39m, excel_file: \u001b[38;5;28mstr\u001b[39m) \u001b[38;5;241m-\u001b[39m\u001b[38;5;241m>\u001b[39m \u001b[38;5;28;01mNone\u001b[39;00m:\n\u001b[0;32m      6\u001b[0m \u001b[38;5;250m    \u001b[39m\u001b[38;5;124;03m\"\"\"\u001b[39;00m\n\u001b[0;32m      7\u001b[0m \u001b[38;5;124;03m    Read a .bib file and export its entries to an Excel file.\u001b[39;00m\n\u001b[0;32m      8\u001b[0m \u001b[38;5;124;03m    \"\"\"\u001b[39;00m\n\u001b[1;32m----> 9\u001b[0m     \u001b[38;5;28;01mwith\u001b[39;00m \u001b[38;5;28;43mopen\u001b[39;49m\u001b[43m(\u001b[49m\u001b[43mbib_file\u001b[49m\u001b[43m,\u001b[49m\u001b[43m \u001b[49m\u001b[38;5;124;43m'\u001b[39;49m\u001b[38;5;124;43mr\u001b[39;49m\u001b[38;5;124;43m'\u001b[39;49m\u001b[43m,\u001b[49m\u001b[43m \u001b[49m\u001b[43mencoding\u001b[49m\u001b[38;5;241;43m=\u001b[39;49m\u001b[38;5;124;43m'\u001b[39;49m\u001b[38;5;124;43mutf-8\u001b[39;49m\u001b[38;5;124;43m'\u001b[39;49m\u001b[43m)\u001b[49m \u001b[38;5;28;01mas\u001b[39;00m bf:\n\u001b[0;32m     10\u001b[0m         bib_db \u001b[38;5;241m=\u001b[39m bibtexparser\u001b[38;5;241m.\u001b[39mload(bf)\n\u001b[0;32m     12\u001b[0m     records \u001b[38;5;241m=\u001b[39m []\n",
      "\u001b[1;31mFileNotFoundError\u001b[0m: [Errno 2] No such file or directory: 'refs.bib'"
     ]
    }
   ],
   "source": [
    "# Convert .bib → Excel\n",
    "bib_processor.bib_to_excel('refs.bib', 'refs.xlsx')"
   ]
  },
  {
   "cell_type": "code",
   "execution_count": null,
   "id": "b9d56a6d-c22f-48b4-ba43-3bc45d48e95c",
   "metadata": {},
   "outputs": [],
   "source": [
    "# Convert Excel → .bib\n",
    "excel_to_bib('refs.xlsx', 'new_refs.bib')"
   ]
  }
 ],
 "metadata": {
  "kernelspec": {
   "display_name": "Python 3 (ipykernel)",
   "language": "python",
   "name": "python3"
  },
  "language_info": {
   "codemirror_mode": {
    "name": "ipython",
    "version": 3
   },
   "file_extension": ".py",
   "mimetype": "text/x-python",
   "name": "python",
   "nbconvert_exporter": "python",
   "pygments_lexer": "ipython3",
   "version": "3.9.16"
  }
 },
 "nbformat": 4,
 "nbformat_minor": 5
}
