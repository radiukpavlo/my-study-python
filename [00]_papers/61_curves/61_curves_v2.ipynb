{
 "cells": [
  {
   "cell_type": "code",
   "execution_count": 1,
   "id": "e45db917-4529-4206-b13a-02ae7a3887b1",
   "metadata": {},
   "outputs": [
    {
     "name": "stdout",
     "output_type": "stream",
     "text": [
      "Generating curve for target AUC = 0.95...\n",
      "-> Achieved AUC: 0.9519\n",
      "\n",
      "Generating curve for target AUC = 0.97...\n",
      "-> Achieved AUC: 0.9664\n",
      "\n",
      "Generating curve for target AUC = 0.98...\n",
      "-> Achieved AUC: 0.9807\n",
      "\n",
      "Styled ROC curve plot has been saved to ./img/61_fig_2_roc.pdf\n"
     ]
    }
   ],
   "source": [
    "%run roc_curves.py"
   ]
  },
  {
   "cell_type": "code",
   "execution_count": 2,
   "id": "5f7c6d0a-94aa-494e-8227-3f15467310b9",
   "metadata": {},
   "outputs": [
    {
     "name": "stdout",
     "output_type": "stream",
     "text": [
      "Figures saved to: C:\\Courses\\my-study-python\\[00]_papers\\61_curves\\img\n"
     ]
    }
   ],
   "source": [
    "%run generate_figures.py"
   ]
  },
  {
   "cell_type": "code",
   "execution_count": 3,
   "id": "4239ecc4-ff1a-4d65-8865-0b1b355868ea",
   "metadata": {},
   "outputs": [
    {
     "name": "stdout",
     "output_type": "stream",
     "text": [
      "Styled sensitivity analysis figure saved as './img/61_fig_a1.pdf'.\n"
     ]
    }
   ],
   "source": [
    "%run sensitivity_plot.py"
   ]
  }
 ],
 "metadata": {
  "kernelspec": {
   "display_name": "Python 3 (ipykernel)",
   "language": "python",
   "name": "python3"
  },
  "language_info": {
   "codemirror_mode": {
    "name": "ipython",
    "version": 3
   },
   "file_extension": ".py",
   "mimetype": "text/x-python",
   "name": "python",
   "nbconvert_exporter": "python",
   "pygments_lexer": "ipython3",
   "version": "3.9.16"
  }
 },
 "nbformat": 4,
 "nbformat_minor": 5
}
