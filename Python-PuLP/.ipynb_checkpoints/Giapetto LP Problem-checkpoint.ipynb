{
 "cells": [
  {
   "cell_type": "markdown",
   "metadata": {},
   "source": [
    "### Example: Chairs and Tables\n",
    "- Giapetto, Inc. manufactures two types of furniture: chairs and tables. The manufacturer wants to maximize their weekly profit.\n",
    "- \\$20 of profit per chair. \n",
    "- \\$30 of profit per table.\n",
    "- A chair requires 1 hour of finishing labor and 2 hours of carpentry labor.\n",
    "- A table requires 2 hours of finishing labor and 1 hour of carpentry labor.\n",
    "- Each week, Giapetto has only 100 finishing hours and 100 carpentry hours available.\n",
    "\n",
    "- $x_1$: number of chairs produced each week\n",
    "- $x_2$: number of tables produced each week\n",
    "\n",
    "\\begin{align}\n",
    "max \\hspace{1cm} z & = 20x_1+30x_2 \\\\\n",
    "s.t. \\hspace{0.5cm} x_1+2x_2 & \\leq 100 \\hspace{0.5cm} (Finishing\\ hours)\\\\\n",
    "2x_1+x_2 & \\leq 100 \\hspace{0.5cm} (Carpentry\\ hours)\\\\\n",
    "x_1 & \\geq 0 \\hspace{0.5cm} (Sign\\ restriction)\\\\\n",
    "x_2 & \\geq 0 \\hspace{0.5cm} (Sign\\ restriction)\\\\\n",
    "\\end{align}"
   ]
  },
  {
   "cell_type": "markdown",
   "metadata": {},
   "source": [
    "- PuLP uses LP solvers (e.g., GLPK, COIN CLP/CBC, CPLEX, and GUROBI) to solve linear problems. \n",
    "- To install PuLP, in a Command Prompt, type in `pip install pulp`"
   ]
  },
  {
   "cell_type": "code",
   "execution_count": 5,
   "metadata": {},
   "outputs": [
    {
     "data": {
      "text/plain": [
       "'C:\\\\Users\\\\Hakeem-ur-Rehman'"
      ]
     },
     "execution_count": 5,
     "metadata": {},
     "output_type": "execute_result"
    }
   ],
   "source": [
    "import os\n",
    "os.getcwd() "
   ]
  },
  {
   "cell_type": "code",
   "execution_count": 8,
   "metadata": {},
   "outputs": [],
   "source": [
    "os.chdir('F:/1. PU-IQTM/BSc Industrial Engineering & Management/7. Operations Research-1/OR-1 (Lab)/3. Python PuLP/1. Simple LP problem Using PuLP')"
   ]
  },
  {
   "cell_type": "code",
   "execution_count": 9,
   "metadata": {},
   "outputs": [
    {
     "data": {
      "text/plain": [
       "'F:\\\\1. PU-IQTM\\\\BSc Industrial Engineering & Management\\\\7. Operations Research-1\\\\OR-1 (Lab)\\\\3. Python PuLP\\\\1. Simple LP problem Using PuLP'"
      ]
     },
     "execution_count": 9,
     "metadata": {},
     "output_type": "execute_result"
    }
   ],
   "source": [
    "os.getcwd()"
   ]
  },
  {
   "cell_type": "code",
   "execution_count": 10,
   "metadata": {},
   "outputs": [],
   "source": [
    "# Import PuLP modeler functions\n",
    "from pulp import *"
   ]
  },
  {
   "cell_type": "code",
   "execution_count": 15,
   "metadata": {},
   "outputs": [],
   "source": [
    "# Create a LP maximization problem\n",
    "prob = LpProblem(\"Giapetto\", LpMaximize)  "
   ]
  },
  {
   "cell_type": "code",
   "execution_count": 16,
   "metadata": {},
   "outputs": [],
   "source": [
    "# LpVariable(variable name, lower Bound=None, uppper Bound=None, catagory='Continuous')\n",
    "x1 = LpVariable(\"x1\", lowBound=0) # Create a variable x1 >= 0\n",
    "x2 = LpVariable(\"x2\", lowBound=0) # Create another variable x2 >= 0"
   ]
  },
  {
   "cell_type": "code",
   "execution_count": 19,
   "metadata": {},
   "outputs": [],
   "source": [
    "# Objective Function\n",
    "prob += 20*x1 + 30*x2  \n",
    "# prob += 20*x1 + 30*x2, \"obj\""
   ]
  },
  {
   "cell_type": "code",
   "execution_count": 20,
   "metadata": {},
   "outputs": [],
   "source": [
    "# Constraints\n",
    "prob += 1*x1 + 2*x2 <= 100  # Finishing hours\n",
    "prob += 2*x1 + 1*x2 <= 100  # Carpentry hours\n",
    "\n",
    "# prob += 1*x1 + 2*x2 <= 100,\"Finishing hours\"\n",
    "# prob += 2*x1 + 1*x2 <= 100,\"Carpentry hours\""
   ]
  },
  {
   "cell_type": "code",
   "execution_count": 22,
   "metadata": {},
   "outputs": [
    {
     "data": {
      "text/plain": [
       "Giapetto:\n",
       "MAXIMIZE\n",
       "20*x1 + 30*x2 + 0\n",
       "SUBJECT TO\n",
       "_C1: x1 + 2 x2 <= 100\n",
       "\n",
       "_C2: 2 x1 + x2 <= 100\n",
       "\n",
       "VARIABLES\n",
       "x1 Continuous\n",
       "x2 Continuous"
      ]
     },
     "execution_count": 22,
     "metadata": {},
     "output_type": "execute_result"
    }
   ],
   "source": [
    "# Display the LP problem\n",
    "prob"
   ]
  },
  {
   "cell_type": "code",
   "execution_count": 23,
   "metadata": {},
   "outputs": [
    {
     "data": {
      "text/plain": [
       "1"
      ]
     },
     "execution_count": 23,
     "metadata": {},
     "output_type": "execute_result"
    }
   ],
   "source": [
    "# Solve with the default solver\n",
    "prob.solve()"
   ]
  },
  {
   "cell_type": "code",
   "execution_count": 24,
   "metadata": {},
   "outputs": [
    {
     "name": "stdout",
     "output_type": "stream",
     "text": [
      "Status: Optimal\n"
     ]
    }
   ],
   "source": [
    "# Print the solution status\n",
    "print(\"Status:\", LpStatus[prob.status])"
   ]
  },
  {
   "cell_type": "code",
   "execution_count": 26,
   "metadata": {},
   "outputs": [
    {
     "data": {
      "text/plain": [
       "(33.333333, 33.333333, 1666.6666500000001)"
      ]
     },
     "execution_count": 26,
     "metadata": {},
     "output_type": "execute_result"
    }
   ],
   "source": [
    "# Show the solution (1st Approach)\n",
    "value(x1), value(x2), value(prob.objective)  "
   ]
  },
  {
   "cell_type": "code",
   "execution_count": 27,
   "metadata": {},
   "outputs": [
    {
     "name": "stdout",
     "output_type": "stream",
     "text": [
      "x1 = 33.333333 \tReduced Cost = -0.0\n",
      "x2 = 33.333333 \tReduced Cost = -0.0\n"
     ]
    }
   ],
   "source": [
    "# Show the solution (2nd Approach)\n",
    "for v in prob.variables():\n",
    "    print (v.name, \"=\", v.varValue, \"\\tReduced Cost =\", v.dj)"
   ]
  },
  {
   "cell_type": "code",
   "execution_count": 28,
   "metadata": {},
   "outputs": [
    {
     "name": "stdout",
     "output_type": "stream",
     "text": [
      "objective= 1666.6666500000001\n"
     ]
    }
   ],
   "source": [
    "print (\"objective=\", value(prob.objective))"
   ]
  },
  {
   "cell_type": "code",
   "execution_count": 29,
   "metadata": {},
   "outputs": [
    {
     "name": "stdout",
     "output_type": "stream",
     "text": [
      "\n",
      "Sensitivity Analysis\n",
      "Constraint\t\tShadow Price\tSlack\n",
      "_C1 : x1 + 2*x2 <= 100 \t 13.333333 \t\t -0.0\n",
      "_C2 : 2*x1 + x2 <= 100 \t 3.3333333 \t\t -0.0\n"
     ]
    }
   ],
   "source": [
    "print (\"\\nSensitivity Analysis\\nConstraint\\t\\tShadow Price\\tSlack\")\n",
    "for name, c in prob.constraints.items():\n",
    "    print (name, \":\", c, \"\\t\", c.pi, \"\\t\\t\", c.slack)"
   ]
  },
  {
   "cell_type": "code",
   "execution_count": 31,
   "metadata": {},
   "outputs": [
    {
     "data": {
      "text/plain": [
       "'F:\\\\1. PU-IQTM\\\\BSc Industrial Engineering & Management\\\\7. Operations Research-1\\\\OR-1 (Lab)\\\\3. Python PuLP\\\\1. Simple LP problem Using PuLP'"
      ]
     },
     "execution_count": 31,
     "metadata": {},
     "output_type": "execute_result"
    }
   ],
   "source": [
    "os.getcwd()"
   ]
  }
 ],
 "metadata": {
  "kernelspec": {
   "display_name": "Python 3 (ipykernel)",
   "language": "python",
   "name": "python3"
  },
  "language_info": {
   "codemirror_mode": {
    "name": "ipython",
    "version": 3
   },
   "file_extension": ".py",
   "mimetype": "text/x-python",
   "name": "python",
   "nbconvert_exporter": "python",
   "pygments_lexer": "ipython3",
   "version": "3.9.7"
  }
 },
 "nbformat": 4,
 "nbformat_minor": 4
}
