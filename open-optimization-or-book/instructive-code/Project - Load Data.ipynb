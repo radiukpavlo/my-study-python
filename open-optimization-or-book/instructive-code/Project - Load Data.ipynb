{
 "cells": [
  {
   "cell_type": "code",
   "execution_count": 77,
   "metadata": {},
   "outputs": [],
   "source": [
    "import pandas as pd\n",
    "import json\n",
    "import matplotlib.pyplot as plt\n",
    "\n",
    "df = pd.read_csv(\"Blacksburg-Restaurants-And-Houses.csv\")\n",
    "data = json.load(open(\"data.json\",\"r\"))\n",
    "# Names of all places\n",
    "places = list(data.keys())\n",
    "# Names of restaurants\n",
    "restaurants = places[0:14]\n",
    "# Names of houses\n",
    "houses = places[14:]"
   ]
  },
  {
   "cell_type": "code",
   "execution_count": 76,
   "metadata": {},
   "outputs": [
    {
     "data": {
      "text/plain": [
       "149.84"
      ]
     },
     "execution_count": 76,
     "metadata": {},
     "output_type": "execute_result"
    }
   ],
   "source": [
    "data['622 North']['Distance']['Au Bon Pain']"
   ]
  },
  {
   "cell_type": "code",
   "execution_count": 58,
   "metadata": {},
   "outputs": [
    {
     "data": {
      "text/plain": [
       "([-80.4497882, 37.2386646], 'LACY LN')"
      ]
     },
     "execution_count": 58,
     "metadata": {},
     "output_type": "execute_result"
    }
   ],
   "source": [
    "#Information for House 1\n",
    "data['House1']['Coordinates'], data['House1']['Address']"
   ]
  },
  {
   "cell_type": "code",
   "execution_count": 59,
   "metadata": {},
   "outputs": [
    {
     "data": {
      "text/plain": [
       "([-80.41595490000002, 37.230044], 'COLLEGE AVE')"
      ]
     },
     "execution_count": 59,
     "metadata": {},
     "output_type": "execute_result"
    }
   ],
   "source": [
    "#Information for House 2\n",
    "data['House2']['Coordinates'], data['House2']['Address']"
   ]
  },
  {
   "cell_type": "code",
   "execution_count": 60,
   "metadata": {},
   "outputs": [
    {
     "data": {
      "text/plain": [
       "602.03"
      ]
     },
     "execution_count": 60,
     "metadata": {},
     "output_type": "execute_result"
    }
   ],
   "source": [
    "# Distance (in seconds) between two houses\n",
    "data['House1']['Distance']['House2']"
   ]
  },
  {
   "cell_type": "code",
   "execution_count": 61,
   "metadata": {},
   "outputs": [
    {
     "data": {
      "image/png": "[encoded data removed]",
      "text/plain": [
       "<Figure size 432x288 with 1 Axes>"
      ]
     },
     "metadata": {
      "needs_background": "light"
     },
     "output_type": "display_data"
    }
   ],
   "source": [
    "# Plot house coordinates\n",
    "x = [data[place]['Coordinates'][0] for place in restaurants]\n",
    "y = [data[place]['Coordinates'][1] for place in restaurants]\n",
    "plt.scatter(x,y, color = 'blue', label = \"Restaurants\")\n",
    "x = [data[place]['Coordinates'][0] for place in houses]\n",
    "y = [data[place]['Coordinates'][1] for place in houses]\n",
    "plt.scatter(x,y, color = 'red', label = \"Houses\")\n",
    "plt.title(\"Location of Places\")\n",
    "plt.legend()\n",
    "plt.show()"
   ]
  },
  {
   "cell_type": "code",
   "execution_count": 67,
   "metadata": {},
   "outputs": [
    {
     "data": {
      "text/plain": [
       "dict_keys(['622 North', 'Au Bon Pain', 'Avellinos Italian & Pizzeria', 'Backstreets Restaurant', 'Beijing Buffet', \"Benny Marzano's\", \"Big Al's Grille & Sportsbar\", 'Blacksburg Taphouse', \"Bojangles' Famous Chicken\", \"Bollo's Cafe & Bakery\", \"Boudreaux's Restaurant\", 'Buffalo Wild Wings', 'Bull & Bones Brewhaus & Grill', 'Cabo Fish Taco', 'House1', 'House2', 'House3', 'House4', 'House5', 'House6', 'House7', 'House8', 'House9', 'House10', 'House11', 'House12', 'House13', 'House14', 'House15', 'House16', 'House17', 'House18', 'House19', 'House20', 'House21', 'House22', 'House23', 'House24', 'House25', 'House26', 'House27', 'House28', 'House29', 'House30', 'House31', 'House32', 'House33', 'House34', 'House35'])"
      ]
     },
     "execution_count": 67,
     "metadata": {},
     "output_type": "execute_result"
    }
   ],
   "source": [
    "data.keys()"
   ]
  },
  {
   "cell_type": "code",
   "execution_count": 64,
   "metadata": {},
   "outputs": [
    {
     "data": {
      "text/plain": [
       "dict_keys(['Address', 'Coordinates', 'Distance'])"
      ]
     },
     "execution_count": 64,
     "metadata": {},
     "output_type": "execute_result"
    }
   ],
   "source": [
    "data['622 North'].keys()"
   ]
  },
  {
   "cell_type": "code",
   "execution_count": 66,
   "metadata": {},
   "outputs": [
    {
     "data": {
      "text/plain": [
       "dict_keys(['Address', 'Coordinates', 'Distance', 'Restaurant of Choice'])"
      ]
     },
     "execution_count": 66,
     "metadata": {},
     "output_type": "execute_result"
    }
   ],
   "source": [
    "data['House1'].keys()"
   ]
  },
  {
   "cell_type": "code",
   "execution_count": 69,
   "metadata": {},
   "outputs": [
    {
     "data": {
      "text/plain": [
       "'Avellinos Italian & Pizzeria'"
      ]
     },
     "execution_count": 69,
     "metadata": {},
     "output_type": "execute_result"
    }
   ],
   "source": [
    "data['House1']['Restaurant of Choice']"
   ]
  },
  {
   "cell_type": "code",
   "execution_count": 70,
   "metadata": {},
   "outputs": [
    {
     "data": {
      "text/plain": [
       "841.0"
      ]
     },
     "execution_count": 70,
     "metadata": {},
     "output_type": "execute_result"
    }
   ],
   "source": [
    "# Distance to Restaurant of Choice\n",
    "data['House1']['Distance'][data['House1']['Restaurant of Choice']]"
   ]
  },
  {
   "cell_type": "code",
   "execution_count": 52,
   "metadata": {},
   "outputs": [],
   "source": [
    "for house in houses:\n",
    "    data[house].update({\"Restaurant of Choice\": restaurants[random.randint(0,13)]})"
   ]
  },
  {
   "cell_type": "code",
   "execution_count": 53,
   "metadata": {},
   "outputs": [
    {
     "data": {
      "text/plain": [
       "'Avellinos Italian & Pizzeria'"
      ]
     },
     "execution_count": 53,
     "metadata": {},
     "output_type": "execute_result"
    }
   ],
   "source": [
    "data['House1'][\"Restaurant of Choice\"]"
   ]
  },
  {
   "cell_type": "code",
   "execution_count": 34,
   "metadata": {},
   "outputs": [],
   "source": [
    "import random"
   ]
  },
  {
   "cell_type": "code",
   "execution_count": 51,
   "metadata": {},
   "outputs": [
    {
     "name": "stdout",
     "output_type": "stream",
     "text": [
      "13\n",
      "0\n",
      "4\n",
      "12\n",
      "5\n",
      "10\n",
      "9\n",
      "11\n",
      "13\n",
      "11\n",
      "10\n",
      "13\n",
      "10\n",
      "13\n",
      "10\n",
      "8\n",
      "8\n",
      "5\n",
      "10\n",
      "1\n",
      "5\n",
      "6\n",
      "12\n",
      "4\n",
      "11\n",
      "12\n",
      "1\n",
      "8\n",
      "12\n",
      "6\n",
      "8\n",
      "11\n",
      "4\n",
      "6\n",
      "7\n",
      "5\n",
      "6\n",
      "10\n",
      "9\n",
      "9\n",
      "3\n",
      "7\n",
      "2\n",
      "9\n",
      "3\n",
      "5\n",
      "10\n",
      "12\n",
      "12\n",
      "0\n"
     ]
    }
   ],
   "source": [
    "for i in range(50):\n",
    "    print(random.randint(0,13))"
   ]
  },
  {
   "cell_type": "code",
   "execution_count": 42,
   "metadata": {},
   "outputs": [
    {
     "data": {
      "text/plain": [
       "14"
      ]
     },
     "execution_count": 42,
     "metadata": {},
     "output_type": "execute_result"
    }
   ],
   "source": [
    "len(restaurants)"
   ]
  },
  {
   "cell_type": "code",
   "execution_count": 56,
   "metadata": {},
   "outputs": [],
   "source": [
    "import json\n",
    "\n",
    "my_json = json.dumps(data)\n",
    "f = open(\"data.json\",\"w\")\n",
    "f.write(my_json)\n",
    "f.close()"
   ]
  },
  {
   "cell_type": "code",
   "execution_count": null,
   "metadata": {},
   "outputs": [],
   "source": []
  }
 ],
 "metadata": {
  "kernelspec": {
   "display_name": "Python 3",
   "language": "python",
   "name": "python3"
  },
  "language_info": {
   "codemirror_mode": {
    "name": "ipython",
    "version": 3
   },
   "file_extension": ".py",
   "mimetype": "text/x-python",
   "name": "python",
   "nbconvert_exporter": "python",
   "pygments_lexer": "ipython3",
   "version": "3.6.8"
  }
 },
 "nbformat": 4,
 "nbformat_minor": 2
}
