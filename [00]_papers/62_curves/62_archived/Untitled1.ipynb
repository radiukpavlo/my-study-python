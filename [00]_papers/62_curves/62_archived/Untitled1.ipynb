{
 "cells": [
  {
   "cell_type": "code",
   "execution_count": 1,
   "id": "22cbe832-e213-4f98-8f7c-6c1f90b6d745",
   "metadata": {},
   "outputs": [
    {
     "name": "stdout",
     "output_type": "stream",
     "text": [
      "Silhouette (MTMS) : 0.049\n",
      "Silhouette (EMTKD): 0.234\n"
     ]
    }
   ],
   "source": [
    "import numpy as np\n",
    "import matplotlib.pyplot as plt\n",
    "from pathlib import Path\n",
    "from dataclasses import dataclass\n",
    "from sklearn.metrics import silhouette_score\n",
    "from sklearn.preprocessing import StandardScaler\n",
    "\n",
    "# ---------- Data container ----------\n",
    "@dataclass\n",
    "class ClusterData:\n",
    "    red: np.ndarray\n",
    "    blue: np.ndarray\n",
    "\n",
    "    @property\n",
    "    def X(self):\n",
    "        return np.vstack((self.red, self.blue))\n",
    "\n",
    "    @property\n",
    "    def labels(self):\n",
    "        return np.concatenate((np.zeros(len(self.red)),\n",
    "                               np.ones(len(self.blue))))\n",
    "\n",
    "# ---------- Synthetic generators ----------\n",
    "def generate_mtms_data(n_points=400, seed=42) -> ClusterData:\n",
    "    rng = np.random.default_rng(seed)\n",
    "    red_centers = [(-20, 5), (0, 0), (25, 15), (20, -10)]\n",
    "    blue_centers = [(-10, -5), (10, 10), (15, 0), (0, -15)]\n",
    "\n",
    "    def clusters(centers):\n",
    "        parts = [rng.normal((cx, cy), 5, size=(n_points // len(centers), 2))\n",
    "                 for cx, cy in centers]\n",
    "        return np.vstack(parts)\n",
    "\n",
    "    return ClusterData(red=clusters(red_centers),\n",
    "                       blue=clusters(blue_centers))\n",
    "\n",
    "def generate_emtkd_data(n_points=400, seed=24) -> ClusterData:\n",
    "    rng = np.random.default_rng(seed)\n",
    "    angles = np.linspace(-np.pi/2, np.pi/2, n_points)\n",
    "    radius = 30\n",
    "    blue = np.c_[radius*np.cos(angles)+rng.normal(0, 2.5, n_points),\n",
    "                 radius*np.sin(angles)+rng.normal(0, 2.5, n_points)]\n",
    "    angles_r = rng.uniform(0, 2*np.pi, n_points)\n",
    "    radii_r  = rng.uniform(5, 25, n_points)\n",
    "    red = np.c_[radii_r*np.cos(angles_r)+rng.normal(0, 2.5, n_points),\n",
    "                radii_r*np.sin(angles_r)+rng.normal(0, 2.5, n_points)]\n",
    "    return ClusterData(red=red, blue=blue)\n",
    "\n",
    "# ---------- Plotting ----------\n",
    "def plot_clusters(data: ClusterData, title: str, file_path: Path):\n",
    "    fig, ax = plt.subplots(figsize=(6, 6))\n",
    "    ax.scatter(data.red[:, 0], data.red[:, 1], label=\"Dataset A\", alpha=0.7)\n",
    "    ax.scatter(data.blue[:, 0], data.blue[:, 1], label=\"Dataset B\", alpha=0.7)\n",
    "    ax.set(title=title, xlabel=\"Dimension 1\", ylabel=\"Dimension 2\")\n",
    "    ax.legend(loc=\"upper left\")\n",
    "    fig.tight_layout()\n",
    "    fig.savefig(file_path, format=\"pdf\")\n",
    "    plt.close(fig)\n",
    "\n",
    "# ---------- Silhouette ----------\n",
    "def silhouette(data: ClusterData) -> float:\n",
    "    Xs = StandardScaler().fit_transform(data.X)\n",
    "    return silhouette_score(Xs, data.labels)\n",
    "\n",
    "# ---------- Main ----------\n",
    "if __name__ == \"__main__\":\n",
    "    out = Path(\"figures\")\n",
    "    out.mkdir(exist_ok=True)\n",
    "    mtms_data  = generate_mtms_data()\n",
    "    emtkd_data = generate_emtkd_data()\n",
    "\n",
    "    plot_clusters(mtms_data,  \"MTMS\",  out / \"figure3a_mtms.pdf\")\n",
    "    plot_clusters(emtkd_data, \"EMTKD\", out / \"figure3b_emtkd.pdf\")\n",
    "\n",
    "    print(f\"Silhouette (MTMS) : {silhouette(mtms_data):.3f}\")\n",
    "    print(f\"Silhouette (EMTKD): {silhouette(emtkd_data):.3f}\")\n"
   ]
  },
  {
   "cell_type": "code",
   "execution_count": null,
   "id": "1d294ea6-5bd4-447f-a2ce-d29ac63e7df1",
   "metadata": {},
   "outputs": [],
   "source": []
  }
 ],
 "metadata": {
  "kernelspec": {
   "display_name": "Python 3 (ipykernel)",
   "language": "python",
   "name": "python3"
  },
  "language_info": {
   "codemirror_mode": {
    "name": "ipython",
    "version": 3
   },
   "file_extension": ".py",
   "mimetype": "text/x-python",
   "name": "python",
   "nbconvert_exporter": "python",
   "pygments_lexer": "ipython3",
   "version": "3.9.16"
  }
 },
 "nbformat": 4,
 "nbformat_minor": 5
}
