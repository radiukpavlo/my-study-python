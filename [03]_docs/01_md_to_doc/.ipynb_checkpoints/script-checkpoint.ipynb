{
 "cells": [
  {
   "cell_type": "code",
   "execution_count": null,
   "id": "1c79d9c6",
   "metadata": {},
   "outputs": [],
   "source": [
    "# # Basic usage\n",
    "# python markdown_to_docx_converter.py input_markdown.md hierarchical_algorithm.docx\n",
    "\n",
    "# # Without table of contents\n",
    "# python markdown_to_docx_converter.py README.md documentation.docx --no-toc\n",
    "\n",
    "# # With custom paths\n",
    "# python markdown_to_docx_converter.py /path/to/input.md /path/to/output.docx"
   ]
  },
  {
   "cell_type": "code",
   "execution_count": 1,
   "id": "fe2bad0e",
   "metadata": {},
   "outputs": [
    {
     "name": "stdout",
     "output_type": "stream",
     "text": [
      "Starting conversion: input_markdown.md → output_doc.docx\n",
      "Removed existing file: output_doc.docx\n",
      "Pandoc is already available in the system.\n",
      "Successfully read 9217 characters from input_markdown.md\n",
      "✅ Conversion successful!\n",
      "DOCX file created: C:\\Courses\\my-study-python\\[03]_docs\\01_md_to_doc\\output_doc.docx\n"
     ]
    },
    {
     "data": {
      "text/plain": [
       "WindowsPath('output_doc.docx')"
      ]
     },
     "execution_count": 1,
     "metadata": {},
     "output_type": "execute_result"
    }
   ],
   "source": [
    "# Method 1: Import and use the function directly\n",
    "from markdown_to_docx_converter import convert_md_to_docx\n",
    "convert_md_to_docx('input_markdown.md', 'output_doc.docx')\n",
    "\n",
    "# Method 2: Run as script\n",
    "# %run markdown_to_docx_converter.py input_markdown.md hierarchical_algorithm.docx\n",
    "\n",
    "# Method 3: Execute with system call\n",
    "# !python markdown_to_docx_converter.py input_markdown.md hierarchical_algorithm.docx"
   ]
  },
  {
   "cell_type": "code",
   "execution_count": null,
   "id": "ef24e492",
   "metadata": {},
   "outputs": [],
   "source": []
  }
 ],
 "metadata": {
  "kernelspec": {
   "display_name": "Python 3 (ipykernel)",
   "language": "python",
   "name": "python3"
  },
  "language_info": {
   "codemirror_mode": {
    "name": "ipython",
    "version": 3
   },
   "file_extension": ".py",
   "mimetype": "text/x-python",
   "name": "python",
   "nbconvert_exporter": "python",
   "pygments_lexer": "ipython3",
   "version": "3.9.16"
  }
 },
 "nbformat": 4,
 "nbformat_minor": 5
}
