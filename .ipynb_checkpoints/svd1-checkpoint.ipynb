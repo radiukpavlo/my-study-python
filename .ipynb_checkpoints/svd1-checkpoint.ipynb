{
 "cells": [
  {
   "cell_type": "code",
   "execution_count": null,
   "id": "77080978-44d1-4e4a-ba42-6c479c5c2a01",
   "metadata": {},
   "outputs": [],
   "source": [
    "import pandas as pd\n",
    "import numpy as np\n",
    "from sklearn.decomposition import TruncatedSVD\n",
    "\n",
    "feature_names = list('ABCDEF')\n",
    "df = pd.DataFrame(\n",
    "    np.random.randn(1000, len(feature_names)), \n",
    "    columns=feature_names\n",
    ")\n",
    "\n",
    "def reduce(dim):\n",
    "    svd = TruncatedSVD(n_components=dim, n_iter=7, random_state=42)\n",
    "    return svd.fit(df)\n",
    "\n",
    "svd = reduce(3)"
   ]
  },
  {
   "cell_type": "code",
   "execution_count": null,
   "id": "95fd537d-ae8f-4acd-86bf-d555e16813a6",
   "metadata": {},
   "outputs": [],
   "source": [
    "\" \".join([\n",
    "    \"%+0.3f*%s\" % (coef, feat) \n",
    "    for coef, feat in zip(svd.components_[0], feature_names)\n",
    "])"
   ]
  }
 ],
 "metadata": {
  "kernelspec": {
   "display_name": "Python 3 (ipykernel)",
   "language": "python",
   "name": "python3"
  },
  "language_info": {
   "codemirror_mode": {
    "name": "ipython",
    "version": 3
   },
   "file_extension": ".py",
   "mimetype": "text/x-python",
   "name": "python",
   "nbconvert_exporter": "python",
   "pygments_lexer": "ipython3",
   "version": "3.9.7"
  }
 },
 "nbformat": 4,
 "nbformat_minor": 5
}
