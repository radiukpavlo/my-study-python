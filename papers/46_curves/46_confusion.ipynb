{
 "cells": [
  {
   "cell_type": "code",
   "execution_count": 10,
   "id": "7db77b47-3a84-4850-a33b-8c05a73cbb06",
   "metadata": {},
   "outputs": [
    {
     "name": "stdout",
     "output_type": "stream",
     "text": [
      "Improved confusion matrix visualization saved as '46_fig_2_confusion.pdf'\n"
     ]
    }
   ],
   "source": [
    "import numpy as np\n",
    "import matplotlib.pyplot as plt\n",
    "import seaborn as sns\n",
    "from matplotlib.colors import LinearSegmentedColormap\n",
    "\n",
    "# Define the confusion matrix values\n",
    "confusion_matrix = np.array([\n",
    "    [480, 20],\n",
    "    [15, 485]\n",
    "])\n",
    "\n",
    "# Set up the figure with larger dimensions\n",
    "plt.figure(figsize=(8, 7))\n",
    "\n",
    "# Create a custom colormap (dark blue for correct predictions, light blue/white for incorrect)\n",
    "colors = [\"#f5f9ff\", \"#002e6d\"]  # Light blue/white to dark blue\n",
    "cmap = LinearSegmentedColormap.from_list(\"custom_cmap\", colors, N=100)\n",
    "\n",
    "# Create the heatmap with seaborn\n",
    "ax = sns.heatmap(confusion_matrix, annot=True, fmt=\"d\", cmap=cmap, \n",
    "                 linewidths=1.0, linecolor='black', square=True, \n",
    "                 cbar=False, annot_kws={\"size\": 24, \"weight\": \"bold\"})\n",
    "\n",
    "# Modify the text color based on cell background\n",
    "# Get the color mappings\n",
    "for i in range(2):\n",
    "    for j in range(2):\n",
    "        text = ax.texts[i * 2 + j]\n",
    "        if i == j:  # Diagonal elements (dark background)\n",
    "            text.set_color('white')\n",
    "        else:  # Off-diagonal elements (light background)\n",
    "            text.set_color('black')\n",
    "\n",
    "# Configure axis labels with larger font size\n",
    "plt.xlabel('Predicted', fontsize=20, fontweight='bold')\n",
    "plt.ylabel('Actual', fontsize=20, fontweight='bold')\n",
    "\n",
    "# Set axis ticks and labels with larger font size\n",
    "ax.set_xticklabels(['Normal', 'Pathological'], fontsize=18, fontweight='bold')\n",
    "ax.set_yticklabels(['Normal', 'Pathological'], fontsize=18, fontweight='bold')\n",
    "\n",
    "# Move x-axis labels to the top\n",
    "ax.xaxis.tick_bottom()\n",
    "ax.xaxis.set_label_position('bottom')\n",
    "\n",
    "# Add black border around the entire matrix\n",
    "for _, spine in ax.spines.items():\n",
    "    spine.set_visible(True)\n",
    "    spine.set_color('black')\n",
    "    spine.set_linewidth(1)  # Thicker border\n",
    "\n",
    "# Save the figure in PDF format with high resolution\n",
    "plt.tight_layout()\n",
    "plt.savefig('46_fig_2_confusion.pdf', format='pdf', dpi=300, bbox_inches='tight')\n",
    "\n",
    "# Close the figure to free memory\n",
    "plt.close()\n",
    "\n",
    "print(\"Improved confusion matrix visualization saved as '46_fig_2_confusion.pdf'\")"
   ]
  },
  {
   "cell_type": "code",
   "execution_count": null,
   "id": "2550b651-3d04-41e9-9e4f-d3a329ca31e8",
   "metadata": {},
   "outputs": [],
   "source": []
  }
 ],
 "metadata": {
  "kernelspec": {
   "display_name": "Python 3 (ipykernel)",
   "language": "python",
   "name": "python3"
  },
  "language_info": {
   "codemirror_mode": {
    "name": "ipython",
    "version": 3
   },
   "file_extension": ".py",
   "mimetype": "text/x-python",
   "name": "python",
   "nbconvert_exporter": "python",
   "pygments_lexer": "ipython3",
   "version": "3.9.16"
  }
 },
 "nbformat": 4,
 "nbformat_minor": 5
}
