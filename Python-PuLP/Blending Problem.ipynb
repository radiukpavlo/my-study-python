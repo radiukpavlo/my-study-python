{
 "cells": [
  {
   "cell_type": "code",
   "execution_count": 170,
   "metadata": {},
   "outputs": [],
   "source": [
    "from pulp import * "
   ]
  },
  {
   "cell_type": "code",
   "execution_count": 171,
   "metadata": {},
   "outputs": [],
   "source": [
    "# List (Type of Rawmaterials)\n",
    "Rawmaterialtypes = [\"VEG1\", \"VEG2\", \"OIL1\", \"OIL2\", \"OIL3\"]\n",
    "Products = \"Y\""
   ]
  },
  {
   "cell_type": "code",
   "execution_count": 172,
   "metadata": {},
   "outputs": [],
   "source": [
    "# Paramters and Data\n",
    "cost = {\"VEG1\":110,\"VEG2\":120,\"OIL1\":130, \"OIL2\":110, \"OIL3\":115}\n",
    "Hardness = {\"VEG1\":8.8,\"VEG2\":6.1,\"OIL1\":2.0, \"OIL2\":4.2, \"OIL3\":5.0}"
   ]
  },
  {
   "cell_type": "code",
   "execution_count": 173,
   "metadata": {},
   "outputs": [],
   "source": [
    "# Setting the Problem\n",
    "prob = LpProblem(\"Blending Problem\", LpMaximize)"
   ]
  },
  {
   "cell_type": "code",
   "execution_count": 174,
   "metadata": {},
   "outputs": [],
   "source": [
    "# Desicion Variables\n",
    "x_var = LpVariable.dicts(\"RawMaterial\", Rawmaterialtypes, 0, None)\n",
    "y_var = LpVariable.dicts(\"Product\", Products, 0, None)"
   ]
  },
  {
   "cell_type": "code",
   "execution_count": 175,
   "metadata": {},
   "outputs": [],
   "source": [
    "# Objective Function\n",
    "prob += lpSum(150*y_var[i] for i in Products) - lpSum(cost[i]*x_var[i] for i in Rawmaterialtypes)"
   ]
  },
  {
   "cell_type": "code",
   "execution_count": 176,
   "metadata": {},
   "outputs": [],
   "source": [
    "# Constraints\n",
    "prob += lpSum(x_var[i] for i in Rawmaterialtypes[:2])<=200\n",
    "prob += lpSum(x_var[i] for i in Rawmaterialtypes[2:])<=250\n",
    "prob += lpSum(Hardness[i]*x_var[i] for i in Rawmaterialtypes) - lpSum(3*y_var[i] for i in Products) >= 0 \n",
    "prob += lpSum(Hardness[i]*x_var[i] for i in Rawmaterialtypes) - lpSum(6*y_var[i] for i in Products) <= 0 \n",
    "prob += lpSum(x_var[i] for i in Rawmaterialtypes) - lpSum(y_var[i] for i in Products) == 0 "
   ]
  },
  {
   "cell_type": "code",
   "execution_count": 177,
   "metadata": {},
   "outputs": [
    {
     "name": "stdout",
     "output_type": "stream",
     "text": [
      "Solution Status =  Optimal\n"
     ]
    }
   ],
   "source": [
    "prob.solve()\n",
    "print(\"Solution Status = \", LpStatus[prob.status])"
   ]
  },
  {
   "cell_type": "code",
   "execution_count": 178,
   "metadata": {},
   "outputs": [
    {
     "name": "stdout",
     "output_type": "stream",
     "text": [
      "Product_Y = 450.0\n",
      "RawMaterial_OIL2 = 250.0\n",
      "RawMaterial_VEG1 = 159.25926\n",
      "RawMaterial_VEG2 = 40.740741\n"
     ]
    }
   ],
   "source": [
    "# Print the solution of the Decision Variables\n",
    "for v in prob.variables():\n",
    "    if v.varValue>0:\n",
    "        print(v.name, \"=\", v.varValue)"
   ]
  },
  {
   "cell_type": "code",
   "execution_count": 179,
   "metadata": {},
   "outputs": [
    {
     "name": "stdout",
     "output_type": "stream",
     "text": [
      "Total Profit =  17592.59248\n"
     ]
    }
   ],
   "source": [
    "# Print Optimal\n",
    "print(\"Total Profit = \", value(prob.objective))"
   ]
  },
  {
   "cell_type": "code",
   "execution_count": null,
   "metadata": {},
   "outputs": [],
   "source": []
  }
 ],
 "metadata": {
  "kernelspec": {
   "display_name": "Python 3 (ipykernel)",
   "language": "python",
   "name": "python3"
  },
  "language_info": {
   "codemirror_mode": {
    "name": "ipython",
    "version": 3
   },
   "file_extension": ".py",
   "mimetype": "text/x-python",
   "name": "python",
   "nbconvert_exporter": "python",
   "pygments_lexer": "ipython3",
   "version": "3.9.13"
  }
 },
 "nbformat": 4,
 "nbformat_minor": 4
}
