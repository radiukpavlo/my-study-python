{
 "cells": [
  {
   "cell_type": "markdown",
   "metadata": {
    "button": false,
    "new_sheet": false,
    "run_control": {
     "read_only": false
    }
   },
   "source": [
    "# Capital Budgeting Problem\n",
    "\n",
    "A firm has n projects it could undertake to maximize revenue, but budget limitations require that not all can be completed.\n",
    "\n",
    "- Project $j$ expects to produce revenue $c_j$ dollars overall.\n",
    "- Project $j$ requires investment of ai j dollars in time period $i$ for $i = 1,.., m$. \n",
    "- The capital available to spend in time period $i$ is $b_i$.\n",
    "\n",
    "Which projects should the firm invest in to maximize it’s expected return while satisfying it’s weekly budget constriaints?\n",
    "\n",
    "Assume the following data:\n",
    "\n",
    "<img src=\"capital-budgeting-data.png\" width=\"800\">\n"
   ]
  },
  {
   "cell_type": "markdown",
   "metadata": {
    "button": false,
    "new_sheet": false,
    "run_control": {
     "read_only": false
    }
   },
   "source": [
    "We will model this with a binary variable $x_i$ deciding whether or not to invest in each project.  "
   ]
  },
  {
   "cell_type": "code",
   "execution_count": 3,
   "metadata": {
    "button": false,
    "new_sheet": false,
    "run_control": {
     "read_only": false
    }
   },
   "outputs": [
    {
     "name": "stdout",
     "output_type": "stream",
     "text": [
      "Gurobi Optimizer version 9.0.3 build v9.0.3rc0 (mac64)\n",
      "Optimize a model with 2 rows, 3 columns and 6 nonzeros\n",
      "Model fingerprint: 0x69ff957d\n",
      "Variable types: 0 continuous, 3 integer (3 binary)\n",
      "Coefficient statistics:\n",
      "  Matrix range     [1e+00, 4e+00]\n",
      "  Objective range  [6e+00, 1e+01]\n",
      "  Bounds range     [1e+00, 1e+00]\n",
      "  RHS range        [5e+00, 6e+00]\n",
      "Found heuristic solution: objective 18.0000000\n",
      "Presolve removed 2 rows and 3 columns\n",
      "Presolve time: 0.00s\n",
      "Presolve: All rows and columns removed\n",
      "\n",
      "Explored 0 nodes (0 simplex iterations) in 0.01 seconds\n",
      "Thread count was 1 (of 12 available processors)\n",
      "\n",
      "Solution count 1: 18 \n",
      "\n",
      "Optimal solution found (tolerance 1.00e-04)\n",
      "Best objective 1.800000000000e+01, best bound 1.800000000000e+01, gap 0.0000%\n",
      "Optimal solution\n",
      "x[Project 1]: 1\n",
      "x[Project 2]: 1\n",
      "x[Project 3]: 0\n",
      "Obj: 18\n"
     ]
    }
   ],
   "source": [
    "# Import Gurobi\n",
    "import gurobipy as gp\n",
    "from gurobipy import GRB\n",
    "\n",
    "# Create a new model\n",
    "m = gp.Model(\"Capital Budgeting\")\n",
    "\n",
    "\n",
    "# Setup Data\n",
    "Data = {\"Project 1\": {\"Expected Revenue\": 10, \"Week 1\" : 3, \"Week 2\":4},\n",
    "       \"Project 2\": {\"Expected Revenue\": 8, \"Week 1\" : 1, \"Week 2\":2},\n",
    "       \"Project 3\": {\"Expected Revenue\": 6, \"Week 1\" : 2, \"Week 2\":1}}\n",
    "\n",
    "Available_Resources = {\"Week 1\": 5, \"Week 2\":6}\n",
    "Projects = Data.keys()\n",
    "Weeks = Available_Resources.keys()\n",
    "\n",
    "\n",
    "# Create variables\n",
    "x = m.addVars(Projects, vtype=GRB.BINARY, name=\"x\")\n",
    "\n",
    "# Set objective\n",
    "m.setObjective(sum(Data[project][\"Expected Revenue\"]*x[project] for project in Projects), GRB.MAXIMIZE)\n",
    "\n",
    "# Add capacity constraints:\n",
    "m.addConstrs((sum(Data[project][week]*x[project] for project in Projects) <= Available_Resources[week] for week in Weeks), \"Budget\")\n",
    "\n",
    "# Optimize model\n",
    "m.optimize()\n",
    "\n",
    "print(\"Optimal solution\")\n",
    "for v in m.getVars():\n",
    "    print('%s: %g' % (v.varName, v.x))\n",
    "\n",
    "print('Obj: %g' % m.objVal)\n"
   ]
  },
  {
   "cell_type": "markdown",
   "metadata": {
    "button": false,
    "new_sheet": false,
    "run_control": {
     "read_only": false
    }
   },
   "source": [
    "## Solution\n",
    "\n",
    "The optimal solution is invest in projects 1 and 2.   This has an objective value of 18."
   ]
  },
  {
   "cell_type": "code",
   "execution_count": null,
   "metadata": {
    "button": false,
    "collapsed": true,
    "new_sheet": false,
    "run_control": {
     "read_only": false
    }
   },
   "outputs": [],
   "source": []
  }
 ],
 "metadata": {
  "kernelspec": {
   "display_name": "Python 3",
   "language": "python",
   "name": "python3"
  },
  "language_info": {
   "codemirror_mode": {
    "name": "ipython",
    "version": 3
   },
   "file_extension": ".py",
   "mimetype": "text/x-python",
   "name": "python",
   "nbconvert_exporter": "python",
   "pygments_lexer": "ipython3",
   "version": "3.8.3"
  }
 },
 "nbformat": 4,
 "nbformat_minor": 2
}
